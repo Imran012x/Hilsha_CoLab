{
  "cells": [
    {
      "cell_type": "code",
      "source": [
        "from google.colab import drive\n",
        "drive.mount('/content/drive')"
      ],
      "metadata": {
        "id": "T4y1q_gvLVA9",
        "outputId": "a7c3fcd6-9b92-4be1-c285-bdff5a5d1f21",
        "colab": {
          "base_uri": "https://localhost:8080/"
        }
      },
      "execution_count": 1,
      "outputs": [
        {
          "output_type": "stream",
          "name": "stdout",
          "text": [
            "Drive already mounted at /content/drive; to attempt to forcibly remount, call drive.mount(\"/content/drive\", force_remount=True).\n"
          ]
        }
      ]
    },
    {
      "cell_type": "code",
      "execution_count": 2,
      "metadata": {
        "id": "sWRbcqGBQGEd"
      },
      "outputs": [],
      "source": [
        "import zipfile\n",
        "import os\n",
        "\n",
        "with zipfile.ZipFile('/content/drive/MyDrive/ilish.zip', 'r') as zip_ref:\n",
        "    zip_ref.extractall('')\n",
        "with zipfile.ZipFile('/content/drive/MyDrive/sardin.zip', 'r') as zip_ref:\n",
        "    zip_ref.extractall('')\n",
        "with zipfile.ZipFile('/content/drive/MyDrive/chandana.zip', 'r') as zip_ref:\n",
        "    zip_ref.extractall('')"
      ]
    },
    {
      "cell_type": "markdown",
      "metadata": {
        "id": "MKIrkEC5zrjA"
      },
      "source": [
        "**Importing the Dependencies**"
      ]
    },
    {
      "cell_type": "code",
      "execution_count": 3,
      "metadata": {
        "id": "yEUQCcZPzlfo"
      },
      "outputs": [],
      "source": [
        "import os\n",
        "import numpy as np\n",
        "import matplotlib.pyplot as plt\n",
        "import matplotlib.image as mpimg\n",
        "import cv2\n",
        "from PIL import Image\n",
        "from sklearn.model_selection import train_test_split"
      ]
    },
    {
      "cell_type": "code",
      "execution_count": 4,
      "metadata": {
        "colab": {
          "base_uri": "https://localhost:8080/"
        },
        "id": "i4xGbBHq0PSo",
        "outputId": "74287a93-4909-4c1f-bcfd-40cb200c126a"
      },
      "outputs": [
        {
          "output_type": "stream",
          "name": "stdout",
          "text": [
            "['6373.webp', '5810.webp', '1162.webp', '3737.webp', '5992.webp']\n",
            "['3880.webp', '8808.webp', '131.webp', '8749.webp', '4243.webp']\n",
            "\n"
          ]
        }
      ],
      "source": [
        "Ilish_pic= os.listdir('ilish')\n",
        "print(Ilish_pic[0:5])\n",
        "print(Ilish_pic[-5:])\n",
        "\n",
        "print()"
      ]
    },
    {
      "cell_type": "code",
      "execution_count": 5,
      "metadata": {
        "id": "K_q6sypb0mqK"
      },
      "outputs": [],
      "source": [
        "Sardin_pic= os.listdir('sardin')"
      ]
    },
    {
      "cell_type": "code",
      "execution_count": 6,
      "metadata": {
        "id": "Y0FDUyLbOslx"
      },
      "outputs": [],
      "source": [
        "Chandana_pic= os.listdir('chandana')"
      ]
    },
    {
      "cell_type": "code",
      "execution_count": 7,
      "metadata": {
        "colab": {
          "base_uri": "https://localhost:8080/"
        },
        "id": "o5s8Mk350yqo",
        "outputId": "9835d39d-65c5-4733-91b0-1465e60861fa"
      },
      "outputs": [
        {
          "output_type": "stream",
          "name": "stdout",
          "text": [
            "Ilish images: 10000\n",
            "Sardin images: 10000\n",
            "Chandana images: 10000\n"
          ]
        }
      ],
      "source": [
        "print('Ilish images:', len(Ilish_pic))\n",
        "print('Sardin images:', len(Sardin_pic))\n",
        "print('Chandana images:', len(Chandana_pic))"
      ]
    },
    {
      "cell_type": "markdown",
      "metadata": {
        "id": "fIEifMkE1Vr8"
      },
      "source": [
        "**Creating Labels for the two class of Images**"
      ]
    },
    {
      "cell_type": "markdown",
      "metadata": {
        "id": "VDqdbJ4I1c9z"
      },
      "source": [
        "Ilish  -->   0\n",
        "\n",
        "Sardin  -->  1\n",
        "\n",
        "Chandana --> 2"
      ]
    },
    {
      "cell_type": "code",
      "execution_count": 8,
      "metadata": {
        "id": "M2EK-RtI1FUS"
      },
      "outputs": [],
      "source": [
        "# create the labels\n",
        "\n",
        "Ilish_labels = [0]*4000\n",
        "\n",
        "Sardin_labels = [1]*4000\n",
        "\n",
        "Chandana_labels = [2]*4000"
      ]
    },
    {
      "cell_type": "code",
      "execution_count": 9,
      "metadata": {
        "colab": {
          "base_uri": "https://localhost:8080/"
        },
        "id": "xJTydgcb13Bc",
        "outputId": "4e68f1be-ebf9-4052-b66b-bd707bbf07a8"
      },
      "outputs": [
        {
          "output_type": "stream",
          "name": "stdout",
          "text": [
            "[0, 0, 0, 0, 0]\n",
            "[1, 1, 1, 1, 1]\n",
            "[2, 2, 2, 2, 2]\n"
          ]
        }
      ],
      "source": [
        "print(Ilish_labels[0:5])\n",
        "\n",
        "print(Sardin_labels[0:5])\n",
        "\n",
        "print(Chandana_labels[0:5])"
      ]
    },
    {
      "cell_type": "code",
      "execution_count": 10,
      "metadata": {
        "colab": {
          "base_uri": "https://localhost:8080/"
        },
        "id": "OrIbqLhV193_",
        "outputId": "95da3def-ac22-44c0-d826-1fecfe6cc929"
      },
      "outputs": [
        {
          "output_type": "stream",
          "name": "stdout",
          "text": [
            "4000\n",
            "4000\n",
            "4000\n"
          ]
        }
      ],
      "source": [
        "print(len(Ilish_labels))\n",
        "print(len(Sardin_labels))\n",
        "print(len(Chandana_labels))"
      ]
    },
    {
      "cell_type": "code",
      "execution_count": 11,
      "metadata": {
        "colab": {
          "base_uri": "https://localhost:8080/"
        },
        "id": "i7H-OSqA2HZ-",
        "outputId": "7311b7af-9f21-4a57-98ae-00aaadacc24f"
      },
      "outputs": [
        {
          "output_type": "stream",
          "name": "stdout",
          "text": [
            "12000\n",
            "[0, 0, 0, 0, 0]\n",
            "[2, 2, 2, 2, 2]\n"
          ]
        }
      ],
      "source": [
        "labels = Ilish_labels + Sardin_labels + Chandana_labels\n",
        "\n",
        "print(len(labels))\n",
        "print(labels[0:5])\n",
        "print(labels[-5:])"
      ]
    },
    {
      "cell_type": "markdown",
      "metadata": {
        "id": "4OZz81JJ2d_r"
      },
      "source": [
        "**Displaying the Images**"
      ]
    },
    {
      "cell_type": "markdown",
      "metadata": {
        "id": "r6Q8CJBH3V21"
      },
      "source": [
        "**Image Processing**"
      ]
    },
    {
      "cell_type": "markdown",
      "metadata": {
        "id": "faTbplf63ZXB"
      },
      "source": [
        "1. Resize the Images\n",
        "\n",
        "2. Convert the images to numpy arrays"
      ]
    },
    {
      "cell_type": "code",
      "execution_count": 12,
      "metadata": {
        "id": "GjR7Vmg73MMj"
      },
      "outputs": [],
      "source": [
        "# # Convert images to numpy arrays\n",
        "# data = []\n",
        "# image_number = 4000  # Number of images to select from each type\n",
        "\n",
        "# # Process ilish images\n",
        "# ilish_path = 'ilish/'\n",
        "# for img_file in Ilish_pic[:image_number]:\n",
        "#     image = Image.open(ilish_path + img_file)\n",
        "#     image = image.resize((256, 256))\n",
        "#     image = image.convert('RGB')\n",
        "#     image = np.array(image)\n",
        "#     data.append(image)\n",
        "\n",
        "# # Process sardin images\n",
        "# sardin_path = 'sardin/'\n",
        "# for img_file in Sardin_pic[:image_number]:\n",
        "#     image = Image.open(sardin_path + img_file)\n",
        "#     image = image.resize((256, 256))\n",
        "#     image = image.convert('RGB')\n",
        "#     image = np.array(image)\n",
        "#     data.append(image)\n",
        "\n",
        "# # Process chandana images\n",
        "# chandana_path = 'chandana/'\n",
        "# for img_file in Chandana_pic[:image_number]:\n",
        "#     image = Image.open(chandana_path + img_file)\n",
        "#     image = image.resize((256, 256))\n",
        "#     image = image.convert('RGB')\n",
        "#     image = np.array(image)\n",
        "#     print(image.shape)\n",
        "#     data.append(image)\n",
        "\n",
        "# # Now, `data` contains 4000 images from each type, for a total of 12,000 images.\n",
        "\n",
        "import numpy as np\n",
        "import random\n",
        "from PIL import Image\n",
        "\n",
        "# Parameters\n",
        "image_number = 4000  # Number of images to select from each type\n",
        "\n",
        "# Initialize the list to store the images\n",
        "data = []\n",
        "\n",
        "# Process ilish images\n",
        "ilish_path = 'ilish/'\n",
        "Ilish_pic = sorted(os.listdir(ilish_path))  # Make sure the images are in order\n",
        "random.shuffle(Ilish_pic)  # Shuffle images to get random ones\n",
        "for img_file in Ilish_pic[:image_number]:\n",
        "    image = Image.open(ilish_path + img_file)\n",
        "    image = image.resize((256, 256))\n",
        "    image = image.convert('RGB')\n",
        "    image = np.array(image)\n",
        "    data.append(image)\n",
        "\n",
        "# Process sardin images\n",
        "sardin_path = 'sardin/'\n",
        "Sardin_pic = sorted(os.listdir(sardin_path))  # Make sure the images are in order\n",
        "random.shuffle(Sardin_pic)  # Shuffle images to get random ones\n",
        "for img_file in Sardin_pic[:image_number]:\n",
        "    image = Image.open(sardin_path + img_file)\n",
        "    image = image.resize((256, 256))\n",
        "    image = image.convert('RGB')\n",
        "    image = np.array(image)\n",
        "    data.append(image)\n",
        "\n",
        "# Process chandana images\n",
        "chandana_path = 'chandana/'\n",
        "Chandana_pic = sorted(os.listdir(chandana_path))  # Make sure the images are in order\n",
        "random.shuffle(Chandana_pic)  # Shuffle images to get random ones\n",
        "for img_file in Chandana_pic[:image_number]:\n",
        "    image = Image.open(chandana_path + img_file)\n",
        "    image = image.resize((256, 256))\n",
        "    image = image.convert('RGB')\n",
        "    image = np.array(image)\n",
        "    data.append(image)\n",
        "\n",
        "# Now, `data` contains 4000 random images from each type, for a total of 12,000 images.\n",
        "\n"
      ]
    },
    {
      "cell_type": "code",
      "execution_count": 13,
      "metadata": {
        "colab": {
          "base_uri": "https://localhost:8080/",
          "height": 296
        },
        "id": "CWlTCMb0Osl0",
        "outputId": "178de76e-89d8-4a95-906c-a9f9341cc355"
      },
      "outputs": [
        {
          "output_type": "execute_result",
          "data": {
            "text/plain": [
              "array([[[217, 221, 224],\n",
              "        [210, 214, 217],\n",
              "        [204, 209, 211],\n",
              "        ...,\n",
              "        [150, 154, 154],\n",
              "        [145, 150, 150],\n",
              "        [145, 150, 150]],\n",
              "\n",
              "       [[223, 227, 230],\n",
              "        [214, 218, 221],\n",
              "        [213, 218, 220],\n",
              "        ...,\n",
              "        [141, 142, 141],\n",
              "        [134, 137, 136],\n",
              "        [134, 137, 136]],\n",
              "\n",
              "       [[230, 234, 237],\n",
              "        [221, 226, 227],\n",
              "        [223, 227, 229],\n",
              "        ...,\n",
              "        [142, 143, 141],\n",
              "        [132, 132, 131],\n",
              "        [132, 132, 131]],\n",
              "\n",
              "       ...,\n",
              "\n",
              "       [[226, 231, 233],\n",
              "        [229, 234, 235],\n",
              "        [232, 237, 238],\n",
              "        ...,\n",
              "        [167, 172, 172],\n",
              "        [155, 160, 160],\n",
              "        [155, 160, 160]],\n",
              "\n",
              "       [[181, 185, 187],\n",
              "        [189, 193, 195],\n",
              "        [191, 195, 196],\n",
              "        ...,\n",
              "        [140, 143, 143],\n",
              "        [130, 133, 134],\n",
              "        [130, 133, 134]],\n",
              "\n",
              "       [[181, 185, 187],\n",
              "        [189, 193, 195],\n",
              "        [191, 195, 196],\n",
              "        ...,\n",
              "        [140, 143, 143],\n",
              "        [130, 133, 134],\n",
              "        [130, 133, 134]]], dtype=uint8)"
            ],
            "text/html": [
              "<style>\n",
              "      .ndarray_repr .ndarray_raw_data {\n",
              "        display: none;\n",
              "      }\n",
              "      .ndarray_repr.show_array .ndarray_raw_data {\n",
              "        display: block;\n",
              "      }\n",
              "      .ndarray_repr.show_array .ndarray_image_preview {\n",
              "        display: none;\n",
              "      }\n",
              "      </style>\n",
              "      <div id=\"id-86f5389a-3ebe-428f-ad5a-ffca40a0f15d\" class=\"ndarray_repr\"><pre>ndarray (256, 256, 3) <button style=\"padding: 0 2px;\">show data</button></pre><img src=\"data:image/png;base64,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\" class=\"ndarray_image_preview\" /><pre class=\"ndarray_raw_data\">array([[[217, 221, 224],\n",
              "        [210, 214, 217],\n",
              "        [204, 209, 211],\n",
              "        ...,\n",
              "        [150, 154, 154],\n",
              "        [145, 150, 150],\n",
              "        [145, 150, 150]],\n",
              "\n",
              "       [[223, 227, 230],\n",
              "        [214, 218, 221],\n",
              "        [213, 218, 220],\n",
              "        ...,\n",
              "        [141, 142, 141],\n",
              "        [134, 137, 136],\n",
              "        [134, 137, 136]],\n",
              "\n",
              "       [[230, 234, 237],\n",
              "        [221, 226, 227],\n",
              "        [223, 227, 229],\n",
              "        ...,\n",
              "        [142, 143, 141],\n",
              "        [132, 132, 131],\n",
              "        [132, 132, 131]],\n",
              "\n",
              "       ...,\n",
              "\n",
              "       [[226, 231, 233],\n",
              "        [229, 234, 235],\n",
              "        [232, 237, 238],\n",
              "        ...,\n",
              "        [167, 172, 172],\n",
              "        [155, 160, 160],\n",
              "        [155, 160, 160]],\n",
              "\n",
              "       [[181, 185, 187],\n",
              "        [189, 193, 195],\n",
              "        [191, 195, 196],\n",
              "        ...,\n",
              "        [140, 143, 143],\n",
              "        [130, 133, 134],\n",
              "        [130, 133, 134]],\n",
              "\n",
              "       [[181, 185, 187],\n",
              "        [189, 193, 195],\n",
              "        [191, 195, 196],\n",
              "        ...,\n",
              "        [140, 143, 143],\n",
              "        [130, 133, 134],\n",
              "        [130, 133, 134]]], dtype=uint8)</pre></div><script>\n",
              "      (() => {\n",
              "      const titles = ['show data', 'hide data'];\n",
              "      let index = 0\n",
              "      document.querySelector('#id-86f5389a-3ebe-428f-ad5a-ffca40a0f15d button').onclick = (e) => {\n",
              "        document.querySelector('#id-86f5389a-3ebe-428f-ad5a-ffca40a0f15d').classList.toggle('show_array');\n",
              "        index = (++index) % 2;\n",
              "        document.querySelector('#id-86f5389a-3ebe-428f-ad5a-ffca40a0f15d button').textContent = titles[index];\n",
              "        e.preventDefault();\n",
              "        e.stopPropagation();\n",
              "      }\n",
              "      })();\n",
              "    </script>"
            ]
          },
          "metadata": {},
          "execution_count": 13
        }
      ],
      "source": [
        "data[50]"
      ]
    },
    {
      "cell_type": "code",
      "execution_count": 14,
      "metadata": {
        "colab": {
          "base_uri": "https://localhost:8080/"
        },
        "id": "kL1ETkSK6Sxu",
        "outputId": "c48acdf7-36a6-44be-f33e-2d537fddbd82"
      },
      "outputs": [
        {
          "output_type": "execute_result",
          "data": {
            "text/plain": [
              "list"
            ]
          },
          "metadata": {},
          "execution_count": 14
        }
      ],
      "source": [
        "type(data)"
      ]
    },
    {
      "cell_type": "code",
      "execution_count": 15,
      "metadata": {
        "colab": {
          "base_uri": "https://localhost:8080/"
        },
        "id": "dpgz_u2-6eQo",
        "outputId": "1aa2add6-caa2-4008-ad36-5cd6d7f28afc"
      },
      "outputs": [
        {
          "output_type": "execute_result",
          "data": {
            "text/plain": [
              "12000"
            ]
          },
          "metadata": {},
          "execution_count": 15
        }
      ],
      "source": [
        "len(data)"
      ]
    },
    {
      "cell_type": "code",
      "execution_count": 16,
      "metadata": {
        "colab": {
          "base_uri": "https://localhost:8080/",
          "height": 296
        },
        "id": "4uD6dF1v6fsg",
        "outputId": "12372688-bf75-4fdb-8aa1-abfc3983225c"
      },
      "outputs": [
        {
          "output_type": "execute_result",
          "data": {
            "text/plain": [
              "array([[[154, 166, 184],\n",
              "        [161, 174, 191],\n",
              "        [156, 169, 186],\n",
              "        ...,\n",
              "        [155, 170, 189],\n",
              "        [149, 167, 184],\n",
              "        [145, 161, 178]],\n",
              "\n",
              "       [[155, 166, 184],\n",
              "        [151, 164, 182],\n",
              "        [160, 173, 192],\n",
              "        ...,\n",
              "        [153, 170, 187],\n",
              "        [151, 167, 187],\n",
              "        [154, 167, 185]],\n",
              "\n",
              "       [[157, 170, 187],\n",
              "        [150, 164, 183],\n",
              "        [161, 174, 193],\n",
              "        ...,\n",
              "        [149, 162, 180],\n",
              "        [158, 171, 190],\n",
              "        [150, 164, 183]],\n",
              "\n",
              "       ...,\n",
              "\n",
              "       [[140, 156, 172],\n",
              "        [143, 159, 175],\n",
              "        [147, 160, 177],\n",
              "        ...,\n",
              "        [150, 163, 179],\n",
              "        [144, 156, 172],\n",
              "        [149, 161, 175]],\n",
              "\n",
              "       [[138, 154, 170],\n",
              "        [152, 165, 182],\n",
              "        [144, 160, 176],\n",
              "        ...,\n",
              "        [148, 162, 177],\n",
              "        [144, 158, 171],\n",
              "        [148, 161, 177]],\n",
              "\n",
              "       [[145, 160, 181],\n",
              "        [146, 162, 178],\n",
              "        [145, 158, 175],\n",
              "        ...,\n",
              "        [148, 161, 177],\n",
              "        [142, 155, 171],\n",
              "        [147, 159, 173]]], dtype=uint8)"
            ],
            "text/html": [
              "<style>\n",
              "      .ndarray_repr .ndarray_raw_data {\n",
              "        display: none;\n",
              "      }\n",
              "      .ndarray_repr.show_array .ndarray_raw_data {\n",
              "        display: block;\n",
              "      }\n",
              "      .ndarray_repr.show_array .ndarray_image_preview {\n",
              "        display: none;\n",
              "      }\n",
              "      </style>\n",
              "      <div id=\"id-00c0947f-7268-4115-b147-5479f40a82f1\" class=\"ndarray_repr\"><pre>ndarray (256, 256, 3) <button style=\"padding: 0 2px;\">show data</button></pre><img src=\"data:image/png;base64,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\" class=\"ndarray_image_preview\" /><pre class=\"ndarray_raw_data\">array([[[154, 166, 184],\n",
              "        [161, 174, 191],\n",
              "        [156, 169, 186],\n",
              "        ...,\n",
              "        [155, 170, 189],\n",
              "        [149, 167, 184],\n",
              "        [145, 161, 178]],\n",
              "\n",
              "       [[155, 166, 184],\n",
              "        [151, 164, 182],\n",
              "        [160, 173, 192],\n",
              "        ...,\n",
              "        [153, 170, 187],\n",
              "        [151, 167, 187],\n",
              "        [154, 167, 185]],\n",
              "\n",
              "       [[157, 170, 187],\n",
              "        [150, 164, 183],\n",
              "        [161, 174, 193],\n",
              "        ...,\n",
              "        [149, 162, 180],\n",
              "        [158, 171, 190],\n",
              "        [150, 164, 183]],\n",
              "\n",
              "       ...,\n",
              "\n",
              "       [[140, 156, 172],\n",
              "        [143, 159, 175],\n",
              "        [147, 160, 177],\n",
              "        ...,\n",
              "        [150, 163, 179],\n",
              "        [144, 156, 172],\n",
              "        [149, 161, 175]],\n",
              "\n",
              "       [[138, 154, 170],\n",
              "        [152, 165, 182],\n",
              "        [144, 160, 176],\n",
              "        ...,\n",
              "        [148, 162, 177],\n",
              "        [144, 158, 171],\n",
              "        [148, 161, 177]],\n",
              "\n",
              "       [[145, 160, 181],\n",
              "        [146, 162, 178],\n",
              "        [145, 158, 175],\n",
              "        ...,\n",
              "        [148, 161, 177],\n",
              "        [142, 155, 171],\n",
              "        [147, 159, 173]]], dtype=uint8)</pre></div><script>\n",
              "      (() => {\n",
              "      const titles = ['show data', 'hide data'];\n",
              "      let index = 0\n",
              "      document.querySelector('#id-00c0947f-7268-4115-b147-5479f40a82f1 button').onclick = (e) => {\n",
              "        document.querySelector('#id-00c0947f-7268-4115-b147-5479f40a82f1').classList.toggle('show_array');\n",
              "        index = (++index) % 2;\n",
              "        document.querySelector('#id-00c0947f-7268-4115-b147-5479f40a82f1 button').textContent = titles[index];\n",
              "        e.preventDefault();\n",
              "        e.stopPropagation();\n",
              "      }\n",
              "      })();\n",
              "    </script>"
            ]
          },
          "metadata": {},
          "execution_count": 16
        }
      ],
      "source": [
        "data[0]"
      ]
    },
    {
      "cell_type": "code",
      "execution_count": 17,
      "metadata": {
        "colab": {
          "base_uri": "https://localhost:8080/"
        },
        "id": "HIyzW_yZ6k6m",
        "outputId": "d6e8b97e-ce84-4b6f-fd26-44d08a70e888"
      },
      "outputs": [
        {
          "output_type": "execute_result",
          "data": {
            "text/plain": [
              "numpy.ndarray"
            ]
          },
          "metadata": {},
          "execution_count": 17
        }
      ],
      "source": [
        "type(data[0])"
      ]
    },
    {
      "cell_type": "code",
      "execution_count": 18,
      "metadata": {
        "colab": {
          "base_uri": "https://localhost:8080/"
        },
        "id": "iXoDEYCe6uhn",
        "outputId": "4913784e-0eaf-4964-fb8f-944f5eec492c"
      },
      "outputs": [
        {
          "output_type": "execute_result",
          "data": {
            "text/plain": [
              "(256, 256, 3)"
            ]
          },
          "metadata": {},
          "execution_count": 18
        }
      ],
      "source": [
        "data[0].shape"
      ]
    },
    {
      "cell_type": "code",
      "execution_count": 19,
      "metadata": {
        "id": "U8pYcWO16xqb"
      },
      "outputs": [],
      "source": [
        "# converting image list and label list to numpy arrays\n",
        "\n",
        "X = np.array(data)\n",
        "Y = np.array(labels)"
      ]
    },
    {
      "cell_type": "code",
      "execution_count": 20,
      "metadata": {
        "colab": {
          "base_uri": "https://localhost:8080/"
        },
        "id": "nOJumzSg7JD4",
        "outputId": "ad410c12-9457-40d2-8420-24ca5ab4418b"
      },
      "outputs": [
        {
          "output_type": "execute_result",
          "data": {
            "text/plain": [
              "numpy.ndarray"
            ]
          },
          "metadata": {},
          "execution_count": 20
        }
      ],
      "source": [
        "type(X)"
      ]
    },
    {
      "cell_type": "code",
      "execution_count": 21,
      "metadata": {
        "colab": {
          "base_uri": "https://localhost:8080/"
        },
        "id": "uSvCqSFv7J-7",
        "outputId": "5b7e7b28-f647-4d1d-fca3-22bc66c2e658"
      },
      "outputs": [
        {
          "output_type": "execute_result",
          "data": {
            "text/plain": [
              "numpy.ndarray"
            ]
          },
          "metadata": {},
          "execution_count": 21
        }
      ],
      "source": [
        "type(Y)"
      ]
    },
    {
      "cell_type": "code",
      "execution_count": 22,
      "metadata": {
        "colab": {
          "base_uri": "https://localhost:8080/"
        },
        "id": "CFcmRmnx7Ns2",
        "outputId": "4547fadb-ccab-41fd-cde4-63ac5311f958"
      },
      "outputs": [
        {
          "output_type": "stream",
          "name": "stdout",
          "text": [
            "(12000, 256, 256, 3)\n",
            "(12000,)\n"
          ]
        }
      ],
      "source": [
        "print(X.shape)\n",
        "print(Y.shape)"
      ]
    },
    {
      "cell_type": "code",
      "execution_count": 23,
      "metadata": {
        "colab": {
          "base_uri": "https://localhost:8080/"
        },
        "id": "LB1Rap2X7R98",
        "outputId": "5c8752e9-046b-4da2-c8b4-452c775dd626"
      },
      "outputs": [
        {
          "output_type": "stream",
          "name": "stdout",
          "text": [
            "[0 0 0 ... 2 2 2]\n"
          ]
        }
      ],
      "source": [
        "print(Y)"
      ]
    },
    {
      "cell_type": "markdown",
      "metadata": {
        "id": "IZuq8fdc7e9x"
      },
      "source": [
        "**Train Test Split**"
      ]
    },
    {
      "cell_type": "code",
      "execution_count": 24,
      "metadata": {
        "id": "217vrhiO7c20"
      },
      "outputs": [],
      "source": [
        "X_train, X_test, Y_train, Y_test = train_test_split(X, Y, test_size=0.2, random_state=2)"
      ]
    },
    {
      "cell_type": "code",
      "execution_count": 25,
      "metadata": {
        "colab": {
          "base_uri": "https://localhost:8080/"
        },
        "id": "uCqTqdAB72zJ",
        "outputId": "467c9728-d07d-4879-c7e8-8282563e1b33"
      },
      "outputs": [
        {
          "output_type": "stream",
          "name": "stdout",
          "text": [
            "(12000, 256, 256, 3) (9600, 256, 256, 3) (2400, 256, 256, 3)\n"
          ]
        }
      ],
      "source": [
        "print(X.shape, X_train.shape, X_test.shape)"
      ]
    },
    {
      "cell_type": "code",
      "execution_count": 26,
      "metadata": {
        "id": "tQ8cYmhL76lZ"
      },
      "outputs": [],
      "source": [
        "# scaling the data\n",
        "\n",
        "X_train_scaled = X_train/255\n",
        "\n",
        "X_test_scaled = X_test/255"
      ]
    },
    {
      "cell_type": "code",
      "execution_count": 27,
      "metadata": {
        "colab": {
          "base_uri": "https://localhost:8080/",
          "height": 296
        },
        "id": "yMjyiUVH8FeB",
        "outputId": "ed91672e-4adb-4c66-ab0b-37c017158759"
      },
      "outputs": [
        {
          "output_type": "execute_result",
          "data": {
            "text/plain": [
              "array([[[208, 214, 230],\n",
              "        [210, 216, 232],\n",
              "        [210, 216, 232],\n",
              "        ...,\n",
              "        [206, 209, 224],\n",
              "        [207, 210, 225],\n",
              "        [205, 208, 223]],\n",
              "\n",
              "       [[208, 214, 230],\n",
              "        [211, 214, 231],\n",
              "        [209, 215, 231],\n",
              "        ...,\n",
              "        [206, 209, 224],\n",
              "        [205, 208, 223],\n",
              "        [205, 209, 221]],\n",
              "\n",
              "       [[208, 214, 230],\n",
              "        [209, 215, 231],\n",
              "        [210, 216, 232],\n",
              "        ...,\n",
              "        [207, 210, 225],\n",
              "        [207, 210, 225],\n",
              "        [205, 209, 224]],\n",
              "\n",
              "       ...,\n",
              "\n",
              "       [[177, 180, 197],\n",
              "        [177, 180, 197],\n",
              "        [179, 182, 199],\n",
              "        ...,\n",
              "        [141, 147, 161],\n",
              "        [140, 146, 162],\n",
              "        [142, 148, 164]],\n",
              "\n",
              "       [[177, 180, 197],\n",
              "        [180, 184, 201],\n",
              "        [176, 179, 196],\n",
              "        ...,\n",
              "        [142, 145, 160],\n",
              "        [141, 147, 163],\n",
              "        [143, 149, 165]],\n",
              "\n",
              "       [[178, 181, 198],\n",
              "        [178, 181, 198],\n",
              "        [178, 181, 198],\n",
              "        ...,\n",
              "        [142, 145, 160],\n",
              "        [140, 146, 162],\n",
              "        [140, 146, 162]]], dtype=uint8)"
            ],
            "text/html": [
              "<style>\n",
              "      .ndarray_repr .ndarray_raw_data {\n",
              "        display: none;\n",
              "      }\n",
              "      .ndarray_repr.show_array .ndarray_raw_data {\n",
              "        display: block;\n",
              "      }\n",
              "      .ndarray_repr.show_array .ndarray_image_preview {\n",
              "        display: none;\n",
              "      }\n",
              "      </style>\n",
              "      <div id=\"id-fadcc78c-6c52-4b19-8401-356546dd6b3a\" class=\"ndarray_repr\"><pre>ndarray (256, 256, 3) <button style=\"padding: 0 2px;\">show data</button></pre><img src=\"data:image/png;base64,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\" class=\"ndarray_image_preview\" /><pre class=\"ndarray_raw_data\">array([[[208, 214, 230],\n",
              "        [210, 216, 232],\n",
              "        [210, 216, 232],\n",
              "        ...,\n",
              "        [206, 209, 224],\n",
              "        [207, 210, 225],\n",
              "        [205, 208, 223]],\n",
              "\n",
              "       [[208, 214, 230],\n",
              "        [211, 214, 231],\n",
              "        [209, 215, 231],\n",
              "        ...,\n",
              "        [206, 209, 224],\n",
              "        [205, 208, 223],\n",
              "        [205, 209, 221]],\n",
              "\n",
              "       [[208, 214, 230],\n",
              "        [209, 215, 231],\n",
              "        [210, 216, 232],\n",
              "        ...,\n",
              "        [207, 210, 225],\n",
              "        [207, 210, 225],\n",
              "        [205, 209, 224]],\n",
              "\n",
              "       ...,\n",
              "\n",
              "       [[177, 180, 197],\n",
              "        [177, 180, 197],\n",
              "        [179, 182, 199],\n",
              "        ...,\n",
              "        [141, 147, 161],\n",
              "        [140, 146, 162],\n",
              "        [142, 148, 164]],\n",
              "\n",
              "       [[177, 180, 197],\n",
              "        [180, 184, 201],\n",
              "        [176, 179, 196],\n",
              "        ...,\n",
              "        [142, 145, 160],\n",
              "        [141, 147, 163],\n",
              "        [143, 149, 165]],\n",
              "\n",
              "       [[178, 181, 198],\n",
              "        [178, 181, 198],\n",
              "        [178, 181, 198],\n",
              "        ...,\n",
              "        [142, 145, 160],\n",
              "        [140, 146, 162],\n",
              "        [140, 146, 162]]], dtype=uint8)</pre></div><script>\n",
              "      (() => {\n",
              "      const titles = ['show data', 'hide data'];\n",
              "      let index = 0\n",
              "      document.querySelector('#id-fadcc78c-6c52-4b19-8401-356546dd6b3a button').onclick = (e) => {\n",
              "        document.querySelector('#id-fadcc78c-6c52-4b19-8401-356546dd6b3a').classList.toggle('show_array');\n",
              "        index = (++index) % 2;\n",
              "        document.querySelector('#id-fadcc78c-6c52-4b19-8401-356546dd6b3a button').textContent = titles[index];\n",
              "        e.preventDefault();\n",
              "        e.stopPropagation();\n",
              "      }\n",
              "      })();\n",
              "    </script>"
            ]
          },
          "metadata": {},
          "execution_count": 27
        }
      ],
      "source": [
        "X_train[0]"
      ]
    },
    {
      "cell_type": "code",
      "execution_count": 28,
      "metadata": {
        "colab": {
          "base_uri": "https://localhost:8080/"
        },
        "id": "V0cVGoJU8pWv",
        "outputId": "9b2995b4-8330-420a-9de8-a59b8b8fe82c"
      },
      "outputs": [
        {
          "output_type": "execute_result",
          "data": {
            "text/plain": [
              "array([[[0.81568627, 0.83921569, 0.90196078],\n",
              "        [0.82352941, 0.84705882, 0.90980392],\n",
              "        [0.82352941, 0.84705882, 0.90980392],\n",
              "        ...,\n",
              "        [0.80784314, 0.81960784, 0.87843137],\n",
              "        [0.81176471, 0.82352941, 0.88235294],\n",
              "        [0.80392157, 0.81568627, 0.8745098 ]],\n",
              "\n",
              "       [[0.81568627, 0.83921569, 0.90196078],\n",
              "        [0.82745098, 0.83921569, 0.90588235],\n",
              "        [0.81960784, 0.84313725, 0.90588235],\n",
              "        ...,\n",
              "        [0.80784314, 0.81960784, 0.87843137],\n",
              "        [0.80392157, 0.81568627, 0.8745098 ],\n",
              "        [0.80392157, 0.81960784, 0.86666667]],\n",
              "\n",
              "       [[0.81568627, 0.83921569, 0.90196078],\n",
              "        [0.81960784, 0.84313725, 0.90588235],\n",
              "        [0.82352941, 0.84705882, 0.90980392],\n",
              "        ...,\n",
              "        [0.81176471, 0.82352941, 0.88235294],\n",
              "        [0.81176471, 0.82352941, 0.88235294],\n",
              "        [0.80392157, 0.81960784, 0.87843137]],\n",
              "\n",
              "       ...,\n",
              "\n",
              "       [[0.69411765, 0.70588235, 0.77254902],\n",
              "        [0.69411765, 0.70588235, 0.77254902],\n",
              "        [0.70196078, 0.71372549, 0.78039216],\n",
              "        ...,\n",
              "        [0.55294118, 0.57647059, 0.63137255],\n",
              "        [0.54901961, 0.57254902, 0.63529412],\n",
              "        [0.55686275, 0.58039216, 0.64313725]],\n",
              "\n",
              "       [[0.69411765, 0.70588235, 0.77254902],\n",
              "        [0.70588235, 0.72156863, 0.78823529],\n",
              "        [0.69019608, 0.70196078, 0.76862745],\n",
              "        ...,\n",
              "        [0.55686275, 0.56862745, 0.62745098],\n",
              "        [0.55294118, 0.57647059, 0.63921569],\n",
              "        [0.56078431, 0.58431373, 0.64705882]],\n",
              "\n",
              "       [[0.69803922, 0.70980392, 0.77647059],\n",
              "        [0.69803922, 0.70980392, 0.77647059],\n",
              "        [0.69803922, 0.70980392, 0.77647059],\n",
              "        ...,\n",
              "        [0.55686275, 0.56862745, 0.62745098],\n",
              "        [0.54901961, 0.57254902, 0.63529412],\n",
              "        [0.54901961, 0.57254902, 0.63529412]]])"
            ]
          },
          "metadata": {},
          "execution_count": 28
        }
      ],
      "source": [
        "X_train_scaled[0]"
      ]
    },
    {
      "cell_type": "markdown",
      "metadata": {
        "id": "L5I-8fUA80iS"
      },
      "source": [
        "**Building a Convolutional Neural Networks (CNN)**"
      ]
    },
    {
      "cell_type": "code",
      "execution_count": 29,
      "metadata": {
        "id": "P0NZPpoQ8tZm"
      },
      "outputs": [],
      "source": [
        "import tensorflow as tf\n",
        "from tensorflow import keras"
      ]
    },
    {
      "cell_type": "code",
      "execution_count": 30,
      "metadata": {
        "id": "HomiSiT7Osl-"
      },
      "outputs": [],
      "source": [
        "# import keras\n",
        "# from keras import layers, models\n",
        "\n",
        "# def create_model(learning_rate, num_filters, kernel_size):\n",
        "#     model = models.Sequential()\n",
        "\n",
        "#     model.add(layers.Conv2D(num_filters, kernel_size, activation='relu', input_shape=(256,256, 3)))\n",
        "#     model.add(layers.MaxPooling2D())\n",
        "\n",
        "#     model.add(layers.Conv2D(num_filters * 2, kernel_size, activation='relu'))\n",
        "#     model.add(layers.MaxPooling2D())\n",
        "\n",
        "#     model.add(layers.Flatten())\n",
        "\n",
        "#     model.add(layers.Dense(64, activation='relu'))\n",
        "#     model.add(keras.layers.Dropout(0.5))\n",
        "\n",
        "#     model.add(layers.Dense(32, activation='relu'))\n",
        "#     model.add(keras.layers.Dropout(0.5))\n",
        "\n",
        "\n",
        "#     model.add(layers.Dense(3, activation='softmax'))\n",
        "\n",
        "\n",
        "#     model.compile(optimizer=keras.optimizers.Adam(learning_rate=learning_rate),\n",
        "#                   loss='sparse_categorical_crossentropy',\n",
        "#                   metrics=['accuracy'])\n",
        "\n",
        "#     return model\n",
        "\n",
        "\n",
        "from sklearn.model_selection import KFold\n",
        "import keras\n",
        "from keras import layers, models\n",
        "import numpy as np\n",
        "\n",
        "# Define the model creation function\n",
        "def create_model(learning_rate, num_filters, kernel_size, input_shape, num_of_classes):\n",
        "    model = models.Sequential()\n",
        "\n",
        "    model.add(layers.Conv2D(num_filters, kernel_size, activation='relu', input_shape=input_shape))\n",
        "    model.add(layers.MaxPooling2D())\n",
        "\n",
        "    model.add(layers.Conv2D(num_filters * 2, kernel_size, activation='relu'))\n",
        "    model.add(layers.MaxPooling2D())\n",
        "\n",
        "    model.add(layers.Flatten())\n",
        "\n",
        "    model.add(layers.Dense(64, activation='relu'))\n",
        "    model.add(keras.layers.Dropout(0.5))\n",
        "\n",
        "    model.add(layers.Dense(32, activation='relu'))\n",
        "    model.add(keras.layers.Dropout(0.5))\n",
        "\n",
        "    model.add(layers.Dense(num_of_classes, activation='softmax'))\n",
        "\n",
        "    model.compile(optimizer=keras.optimizers.Adam(learning_rate=learning_rate),\n",
        "                  loss='sparse_categorical_crossentropy',\n",
        "                  metrics=['accuracy'])\n",
        "\n",
        "    return model\n"
      ]
    },
    {
      "cell_type": "code",
      "execution_count": null,
      "metadata": {
        "id": "Xctmz3-AK-za",
        "outputId": "daefc880-9cd0-4586-a93e-8feb7a14002e",
        "colab": {
          "base_uri": "https://localhost:8080/"
        }
      },
      "outputs": [
        {
          "output_type": "stream",
          "name": "stdout",
          "text": [
            "\n",
            "Training Fold 1...\n"
          ]
        }
      ],
      "source": [
        "import matplotlib.pyplot as plt\n",
        "import numpy as np\n",
        "from sklearn.model_selection import KFold\n",
        "\n",
        "# K-Fold Cross-Validation setup\n",
        "kfold = KFold(n_splits=5, shuffle=True, random_state=42)\n",
        "fold_no = 1\n",
        "scores = []\n",
        "history_list = []  # To store history objects for each fold\n",
        "\n",
        "# Initialize lists to store fold-wise results\n",
        "train_accuracies = []\n",
        "val_accuracies = []\n",
        "train_losses = []\n",
        "val_losses = []\n",
        "\n",
        "for train_index, val_index in kfold.split(X_train_scaled, Y_train):\n",
        "    print(f\"\\nTraining Fold {fold_no}...\")\n",
        "\n",
        "    # Split data into training and validation for this fold\n",
        "    X_train_fold, X_val_fold = X_train_scaled[train_index], X_train_scaled[val_index]\n",
        "    Y_train_fold, Y_val_fold = Y_train[train_index], Y_train[val_index]\n",
        "\n",
        "    # Create the model\n",
        "    model = create_model(\n",
        "        learning_rate=0.00025686890659545365,\n",
        "        num_filters=87,\n",
        "        kernel_size=(3, 3),\n",
        "        input_shape=(256, 256, 3),\n",
        "        num_of_classes=3\n",
        "    )\n",
        "\n",
        "    # Train the model\n",
        "    history = model.fit(\n",
        "        X_train_fold, Y_train_fold,\n",
        "        validation_data=(X_val_fold, Y_val_fold),\n",
        "        epochs=10,\n",
        "        batch_size=32,\n",
        "        verbose=1\n",
        "    )\n",
        "\n",
        "    # Store the training and validation metrics for each fold\n",
        "    train_accuracies.append(history.history['accuracy'])\n",
        "    val_accuracies.append(history.history['val_accuracy'])\n",
        "    train_losses.append(history.history['loss'])\n",
        "    val_losses.append(history.history['val_loss'])\n",
        "\n",
        "    # Evaluate the model\n",
        "    loss, accuracy = model.evaluate(X_val_fold, Y_val_fold, verbose=0)\n",
        "    print(f\"Fold {fold_no} - Loss: {loss}, Accuracy: {accuracy}\")\n",
        "\n",
        "    scores.append(accuracy)\n",
        "    fold_no += 1\n",
        "\n",
        "# Print average accuracy across folds\n",
        "print(f\"\\nAverage Validation Accuracy: {np.mean(scores)}\")\n",
        "\n",
        "# Plotting the training and validation accuracy for each fold\n",
        "plt.figure(figsize=(12, 6))\n",
        "for i in range(len(train_accuracies)):\n",
        "    plt.plot(range(1, 11), train_accuracies[i], label=f'Train Accuracy Fold {i+1}')\n",
        "    plt.plot(range(1, 11), val_accuracies[i], label=f'Val Accuracy Fold {i+1}', linestyle='--')\n",
        "\n",
        "plt.title('Training and Validation Accuracy for Each Fold')\n",
        "plt.xlabel('Epochs')\n",
        "plt.ylabel('Accuracy')\n",
        "plt.legend()\n",
        "plt.show()\n",
        "\n",
        "# Plotting the training and validation loss for each fold\n",
        "plt.figure(figsize=(12, 6))\n",
        "for i in range(len(train_losses)):\n",
        "    plt.plot(range(1, 11), train_losses[i], label=f'Train Loss Fold {i+1}')\n",
        "    plt.plot(range(1, 11), val_losses[i], label=f'Val Loss Fold {i+1}', linestyle='--')\n",
        "\n",
        "plt.title('Training and Validation Loss for Each Fold')\n",
        "plt.xlabel('Epochs')\n",
        "plt.ylabel('Loss')\n",
        "plt.legend()\n",
        "plt.show()\n",
        "\n",
        "# Final evaluation on the test set\n",
        "final_model = create_model(\n",
        "    learning_rate=0.00025686890659545365,\n",
        "    num_filters=87,\n",
        "    kernel_size=(3, 3),\n",
        "    input_shape=(256, 256, 3),\n",
        "    num_of_classes=3\n",
        ")\n",
        "\n",
        "# Train the final model on the full training set\n",
        "final_model.fit(X_train_scaled, Y_train, epochs=10, batch_size=32, verbose=1)\n"
      ]
    },
    {
      "cell_type": "code",
      "execution_count": null,
      "metadata": {
        "id": "NjZu7incx50B"
      },
      "outputs": [],
      "source": []
    },
    {
      "cell_type": "code",
      "execution_count": null,
      "metadata": {
        "id": "CwMBVer8PtPe"
      },
      "outputs": [],
      "source": []
    },
    {
      "cell_type": "code",
      "execution_count": null,
      "metadata": {
        "id": "2Wg6fRciPtI-"
      },
      "outputs": [],
      "source": []
    },
    {
      "cell_type": "code",
      "execution_count": null,
      "metadata": {
        "id": "SXNyvMqCOsl-"
      },
      "outputs": [],
      "source": [
        "# import optuna\n",
        "\n",
        "# def objective(trial):\n",
        "#     learning_rate = trial.suggest_loguniform('learning_rate', 1e-5, 1e-1)\n",
        "#     num_filters = trial.suggest_int('num_filters', 16, 128)\n",
        "#     kernel_size = trial.suggest_categorical('kernel_size', [3, 7])\n",
        "\n",
        "\n",
        "#     model = create_model(learning_rate, num_filters, kernel_size)\n",
        "\n",
        "\n",
        "#     #(X_train, Y_train), (X_test, Y_test) = keras.datasets.cifar10.load_data()\n",
        "#     #x_train, x_val = x_train / 255.0, x_val / 255.0\n",
        "\n",
        "\n",
        "#     model.fit(X_train_scaled, Y_train, epochs=8, validation_data=(X_test_scaled, Y_test), verbose=0)\n",
        "#     score = model.evaluate(X_test_scaled, Y_test, verbose=0)\n",
        "#     return score[1]\n"
      ]
    },
    {
      "cell_type": "code",
      "execution_count": null,
      "metadata": {
        "id": "XFDJe608Osl_"
      },
      "outputs": [],
      "source": [
        "# study = optuna.create_study(direction='maximize')\n",
        "# study.optimize(objective, n_trials=50)"
      ]
    },
    {
      "cell_type": "code",
      "execution_count": null,
      "metadata": {
        "id": "NYOt8CcvOsl_"
      },
      "outputs": [],
      "source": [
        "# best_params = study.best_params\n",
        "# print(\"Best hyperparameters: \", best_params)"
      ]
    },
    {
      "cell_type": "code",
      "execution_count": null,
      "metadata": {
        "id": "KiuYU1hYOsl_"
      },
      "outputs": [],
      "source": []
    },
    {
      "cell_type": "code",
      "execution_count": null,
      "metadata": {
        "id": "o7ZRJOt0Osl_"
      },
      "outputs": [],
      "source": []
    },
    {
      "cell_type": "code",
      "execution_count": null,
      "metadata": {
        "id": "ezOYGrzuOsl_"
      },
      "outputs": [],
      "source": []
    },
    {
      "cell_type": "code",
      "execution_count": null,
      "metadata": {
        "id": "JaiLjmmcOsl_"
      },
      "outputs": [],
      "source": []
    },
    {
      "cell_type": "code",
      "execution_count": null,
      "metadata": {
        "id": "OA9eSj2_9EMl"
      },
      "outputs": [],
      "source": [
        "# num_of_classes = 3\n",
        "\n",
        "# model = keras.Sequential()\n",
        "\n",
        "# model.add(keras.layers.Conv2D(57, kernel_size=(3,3), activation='relu', input_shape=(256,256,3)))\n",
        "# model.add(keras.layers.MaxPooling2D())  #pool_size=(2,2)\n",
        "\n",
        "\n",
        "# model.add(layers.Conv2D(174, kernel_size=(3,3), activation='relu'))\n",
        "# model.add(layers.MaxPooling2D())\n",
        "\n",
        "\n",
        "# model.add(keras.layers.Flatten())\n",
        "\n",
        "# model.add(keras.layers.Dense(64, activation='relu'))\n",
        "# model.add(keras.layers.Dropout(0.5))\n",
        "\n",
        "# model.add(keras.layers.Dense(32, activation='relu'))\n",
        "# model.add(keras.layers.Dropout(0.5))\n",
        "\n",
        "\n",
        "\n",
        "# model.add(keras.layers.Dense(num_of_classes, activation='softmax'))"
      ]
    },
    {
      "cell_type": "code",
      "execution_count": null,
      "metadata": {
        "id": "AoMJ5tgcOsmA"
      },
      "outputs": [],
      "source": [
        "# Print the model summary\n",
        "model.summary()"
      ]
    },
    {
      "cell_type": "markdown",
      "metadata": {
        "id": "qxz-iJrtOsmA"
      },
      "source": [
        "\n",
        "\n"
      ]
    },
    {
      "cell_type": "code",
      "execution_count": null,
      "metadata": {
        "id": "8PS9_gb0_1F3"
      },
      "outputs": [],
      "source": [
        "# # compile the neural network\n",
        "# model.compile(optimizer=keras.optimizers.Adam(learning_rate=0.00025686890659545365),\n",
        "#               loss='sparse_categorical_crossentropy',\n",
        "#               metrics=['acc'])"
      ]
    },
    {
      "cell_type": "code",
      "execution_count": null,
      "metadata": {
        "id": "gxbjDZaLAFdS"
      },
      "outputs": [],
      "source": [
        "# # training the neural network\n",
        "# history = model.fit(X_train_scaled, Y_train, validation_split=0.1, epochs=50)"
      ]
    },
    {
      "cell_type": "markdown",
      "metadata": {
        "id": "M7FVqeVIAyLK"
      },
      "source": [
        "**Model Evaluation**"
      ]
    },
    {
      "cell_type": "code",
      "execution_count": null,
      "metadata": {
        "id": "_IXu88q_AVo_"
      },
      "outputs": [],
      "source": [
        "loss, accuracy = model.evaluate(X_train_scaled, Y_train)\n",
        "print('Train Accuracy =', accuracy)"
      ]
    },
    {
      "cell_type": "code",
      "execution_count": null,
      "metadata": {
        "id": "LFH78xQBOsmB"
      },
      "outputs": [],
      "source": [
        "loss, accuracy = model.evaluate(X_test_scaled, Y_test)\n",
        "\n",
        "print('Test Accuracy =', accuracy)"
      ]
    },
    {
      "cell_type": "code",
      "execution_count": null,
      "metadata": {
        "id": "hdYl6DU8OsmB"
      },
      "outputs": [],
      "source": [
        "y_pred=model.predict(X_test_scaled)\n",
        "\n",
        "y_pred_classes = np.argmax(y_pred, axis=1)\n",
        "print(y_pred_classes)"
      ]
    },
    {
      "cell_type": "code",
      "execution_count": null,
      "metadata": {
        "id": "ANnd5jacOsmC"
      },
      "outputs": [],
      "source": [
        "from sklearn.metrics import accuracy_score\n",
        "\n",
        "# Example for classification predictions\n",
        "accuracy = accuracy_score(Y_test, y_pred_classes)  # y_pred_classes should be class labels\n",
        "print(f\"Accuracy Score: {accuracy}\")\n"
      ]
    },
    {
      "cell_type": "code",
      "execution_count": null,
      "metadata": {
        "id": "epqHqH1OOsmC"
      },
      "outputs": [],
      "source": [
        "from sklearn.metrics import r2_score\n",
        "\n",
        "r2 = r2_score(Y_test, y_pred_classes)\n",
        "print (f\"R² Score: {r2}\")"
      ]
    },
    {
      "cell_type": "code",
      "execution_count": null,
      "metadata": {
        "id": "QqHLT0dpOsmC"
      },
      "outputs": [],
      "source": [
        "# from sklearn.metrics import confusion_matrix, classification_report\n",
        "# import numpy as np\n",
        "\n",
        "# y_pred = model.predict(X_test_scaled)\n",
        "# y_pred_classes = np.argmax(y_pred, axis=1)\n",
        "\n",
        "\n",
        "# #conf_matrix = confusion_matrix(np.argmax(Y_test, axis=1), y_pred_classes)\n",
        "# conf_matrix = confusion_matrix(Y_test, y_pred_classes)\n",
        "# print(\"Confusion Matrix:\")\n",
        "# print(conf_matrix)\n",
        "from sklearn.metrics import confusion_matrix, classification_report\n",
        "import numpy as np\n",
        "import seaborn as sns\n",
        "import matplotlib.pyplot as plt\n",
        "\n",
        "# Generate predictions and convert to class labels\n",
        "y_pred = model.predict(X_test_scaled)\n",
        "y_pred_classes = np.argmax(y_pred, axis=1)\n",
        "\n",
        "# Create the confusion matrix\n",
        "conf_matrix = confusion_matrix(Y_test, y_pred_classes)\n",
        "\n",
        "# Print the confusion matrix (optional)\n",
        "print(\"Confusion Matrix:\")\n",
        "print(conf_matrix)\n",
        "\n",
        "# Visualize the confusion matrix as a heatmap\n",
        "plt.figure(figsize=(8, 6))\n",
        "sns.heatmap(conf_matrix, annot=True, fmt='d', cmap='Blues', xticklabels=np.unique(Y_test), yticklabels=np.unique(Y_test))\n",
        "plt.xlabel('Predicted Labels')\n",
        "plt.ylabel('True Labels')\n",
        "plt.title('Confusion Matrix Heatmap')\n",
        "plt.show()\n"
      ]
    },
    {
      "cell_type": "code",
      "execution_count": null,
      "metadata": {
        "id": "z4N2HJV5rqpo"
      },
      "outputs": [],
      "source": [
        "from sklearn.metrics import confusion_matrix, classification_report, f1_score, precision_score, recall_score\n",
        "import numpy as np\n",
        "import seaborn as sns\n",
        "import matplotlib.pyplot as plt\n",
        "\n",
        "# Generate predictions and convert to class labels\n",
        "y_pred = model.predict(X_test_scaled)\n",
        "y_pred_classes = np.argmax(y_pred, axis=1)\n",
        "\n",
        "# Compute the confusion matrix\n",
        "conf_matrix = confusion_matrix(Y_test, y_pred_classes)\n",
        "\n",
        "# Print the confusion matrix\n",
        "print(\"Confusion Matrix:\")\n",
        "print(conf_matrix)\n",
        "\n",
        "\n",
        "# Visualize the confusion matrix as a heatmap\n",
        "plt.figure(figsize=(8, 6))\n",
        "sns.heatmap(conf_matrix, annot=True, fmt='d', cmap='Blues', xticklabels=np.unique(Y_test), yticklabels=np.unique(Y_test))\n",
        "plt.xlabel('Predicted Labels')\n",
        "plt.ylabel('True Labels')\n",
        "plt.title('Confusion Matrix Heatmap')\n",
        "plt.show()\n"
      ]
    },
    {
      "cell_type": "code",
      "execution_count": null,
      "metadata": {
        "id": "jnDzmLyEK-zu"
      },
      "outputs": [],
      "source": [
        "\n",
        "# Compute precision, recall, and F1 score\n",
        "precision = precision_score(Y_test, y_pred_classes, average='weighted')\n",
        "recall = recall_score(Y_test, y_pred_classes, average='weighted')\n",
        "f1 = f1_score(Y_test, y_pred_classes, average='weighted')\n",
        "\n",
        "# Print metrics\n",
        "print(\"\\nClassification Metrics:\")\n",
        "print(f\"Precision: {precision:.4f}\")\n",
        "print(f\"Recall: {recall:.4f}\")\n",
        "print(f\"F1 Score: {f1:.4f}\")\n",
        "\n",
        "# Classification report for detailed metrics per class\n",
        "print(\"\\nClassification Report:\")\n",
        "print(classification_report(Y_test, y_pred_classes))"
      ]
    },
    {
      "cell_type": "code",
      "execution_count": null,
      "metadata": {
        "id": "Qbk5iRtEA_xZ"
      },
      "outputs": [],
      "source": [
        "h = history\n",
        "\n",
        "\n",
        "plt.plot(h.history['loss'], label='train loss')\n",
        "plt.plot(h.history['val_loss'], label='validation loss')\n",
        "plt.legend()\n",
        "plt.show()\n",
        "\n",
        "\n",
        "plt.plot(h.history['acc'], label='train accuracy')\n",
        "plt.plot(h.history['val_acc'], label='validation accuracy')\n",
        "plt.legend()\n",
        "plt.show()"
      ]
    },
    {
      "cell_type": "code",
      "execution_count": null,
      "metadata": {
        "id": "16txHOy7OsmD"
      },
      "outputs": [],
      "source": [
        "# After training the model\n",
        "model.save('fish_model.h5')\n",
        "print(\"Model saved successfully!\")\n"
      ]
    },
    {
      "cell_type": "code",
      "execution_count": null,
      "metadata": {
        "id": "dpqv-NApOsmD"
      },
      "outputs": [],
      "source": [
        "#import pickle\n",
        "\n",
        "#with open('fish_model.pkl', 'wb') as file:\n",
        " #   pickle.dump(model, file)"
      ]
    },
    {
      "cell_type": "code",
      "execution_count": null,
      "metadata": {
        "id": "FLwMwsPJOsmD"
      },
      "outputs": [],
      "source": [
        "\n",
        "# model.save('CNN_model.keras')\n"
      ]
    },
    {
      "cell_type": "code",
      "execution_count": null,
      "metadata": {
        "id": "Qyr6iTzROsmD"
      },
      "outputs": [],
      "source": [
        "# # from keras.models import load_model\n",
        "\n",
        "# model = load_model('fish_model.h5')\n",
        "# print(\"Model loaded successfully!\")\n"
      ]
    },
    {
      "cell_type": "code",
      "execution_count": null,
      "metadata": {
        "id": "GN8qhRHbOsmD"
      },
      "outputs": [],
      "source": [
        "# import cv2\n",
        "# import numpy as np\n",
        "# import matplotlib.pyplot as plt\n",
        "\n",
        "# # Specify the directory path\n",
        "# base_path = 'ilish/'\n",
        "\n",
        "# # Get the image file name from user input\n",
        "# image_file_name = input('Enter the name of the image file (with extension): ')\n",
        "\n",
        "# # Combine the base path with the user input to get the full path\n",
        "# input_image_path = base_path + image_file_name\n",
        "\n",
        "# # Debug: Print the full image path\n",
        "# print(f\"Trying to load image from: {input_image_path}\")\n",
        "\n",
        "# # Load the image\n",
        "# input_image = cv2.imread(input_image_path)\n",
        "\n",
        "# # Check if the image was loaded successfully\n",
        "# if input_image is None:\n",
        "#     print(f\"Error: Unable to load image at {input_image_path}. Please check the file name and path.\")\n",
        "# else:\n",
        "#     # Convert image from BGR to RGB for displaying with matplotlib\n",
        "#     input_image_rgb = cv2.cvtColor(input_image, cv2.COLOR_BGR2RGB)\n",
        "\n",
        "#     # Display the image using matplotlib\n",
        "#     plt.imshow(input_image_rgb)\n",
        "#     plt.axis('off')  # Hide axis\n",
        "#     plt.show()\n",
        "\n",
        "#     # Resize the image and preprocess for prediction\n",
        "#     input_image_resized = cv2.resize(input_image, (256, 256))\n",
        "#     input_image_scaled = input_image_resized / 255.0\n",
        "#     input_image_reshaped = np.reshape(input_image_scaled, [1, 128, 128, 3])\n",
        "\n",
        "#     # Make a prediction\n",
        "#     input_prediction = model.predict(input_image_reshaped)\n",
        "#     print(input_prediction)\n",
        "\n",
        "#     # Get the predicted class label\n",
        "#     input_pred_label = np.argmax(input_prediction)\n",
        "#     print(input_pred_label)\n",
        "\n",
        "#     # Display the result based on the predicted label\n",
        "#     if input_pred_label == 0:\n",
        "#         print('The Fish is Ilish')\n",
        "#     elif input_pred_label == 1:\n",
        "#         print('The Fish is Sardin')\n",
        "#     else:\n",
        "#         print('The Fish is Chandina')"
      ]
    },
    {
      "cell_type": "markdown",
      "metadata": {
        "id": "LL3xAbgMK-zv"
      },
      "source": [
        "#RMS Prop Optimizer"
      ]
    },
    {
      "cell_type": "code",
      "execution_count": null,
      "metadata": {
        "id": "dRbINAI1K-zw"
      },
      "outputs": [],
      "source": [
        "from sklearn.model_selection import KFold\n",
        "import keras\n",
        "from keras import layers, models\n",
        "import numpy as np\n",
        "import matplotlib.pyplot as plt\n",
        "\n",
        "# Define the model creation function\n",
        "def create_model(learning_rate, num_filters, kernel_size, input_shape, num_of_classes):\n",
        "    model = models.Sequential()\n",
        "    model.add(layers.Conv2D(num_filters, kernel_size, activation='relu', input_shape=input_shape))\n",
        "    model.add(layers.MaxPooling2D())\n",
        "    model.add(layers.Conv2D(num_filters * 2, kernel_size, activation='relu'))\n",
        "    model.add(layers.MaxPooling2D())\n",
        "    model.add(layers.Flatten())\n",
        "    model.add(layers.Dense(64, activation='relu'))\n",
        "    model.add(layers.Dropout(0.5))\n",
        "    model.add(layers.Dense(32, activation='relu'))\n",
        "    model.add(layers.Dropout(0.5))\n",
        "    model.add(layers.Dense(num_of_classes, activation='softmax'))\n",
        "\n",
        "    model.compile(optimizer=keras.optimizers.RMSprop(learning_rate=learning_rate),\n",
        "                  loss='sparse_categorical_crossentropy',\n",
        "                  metrics=['accuracy'])\n",
        "    return model\n",
        "\n",
        "# Normalize data (if not already normalized)\n",
        "# X_train_scaled = X_train / 255.0\n",
        "# X_test_scaled = X_test / 255.0\n",
        "\n",
        "# Parameters\n",
        "learning_rate = 0.00025686890659545365\n",
        "num_filters = 87\n",
        "kernel_size = (3, 3)\n",
        "input_shape = (128, 128, 3)\n",
        "num_of_classes = 3\n",
        "\n",
        "# K-Fold Cross-Validation setup\n",
        "kfold = KFold(n_splits=5, shuffle=True, random_state=42)\n",
        "fold_no = 1\n",
        "scores = []\n",
        "\n",
        "for train_index, val_index in kfold.split(X_train_scaled, Y_train):\n",
        "    print(f\"\\nTraining Fold {fold_no}...\")\n",
        "\n",
        "    # Split data into training and validation for this fold\n",
        "    X_train_fold, X_val_fold = X_train_scaled[train_index], X_train_scaled[val_index]\n",
        "    Y_train_fold, Y_val_fold = Y_train[train_index], Y_train[val_index]\n",
        "\n",
        "    # Create the model\n",
        "    model = create_model(\n",
        "        learning_rate=learning_rate,\n",
        "        num_filters=num_filters,\n",
        "        kernel_size=kernel_size,\n",
        "        input_shape=input_shape,\n",
        "        num_of_classes=num_of_classes\n",
        "    )\n",
        "\n",
        "    # Train the model\n",
        "    history = model.fit(\n",
        "        X_train_fold, Y_train_fold,\n",
        "        validation_data=(X_val_fold, Y_val_fold),\n",
        "        epochs=10,\n",
        "        batch_size=32,\n",
        "        verbose=1\n",
        "    )\n",
        "\n",
        "    # Evaluate the model\n",
        "    loss, accuracy = model.evaluate(X_val_fold, Y_val_fold, verbose=0)\n",
        "    print(f\"Fold {fold_no} - Loss: {loss}, Accuracy: {accuracy}\")\n",
        "\n",
        "    scores.append(accuracy)\n",
        "    fold_no += 1\n",
        "\n",
        "# Print average accuracy across folds\n",
        "print(f\"\\nAverage Validation Accuracy: {np.mean(scores):.4f}\")\n",
        "\n",
        "# Final evaluation on the test set\n",
        "final_model = create_model(\n",
        "    learning_rate=learning_rate,\n",
        "    num_filters=num_filters,\n",
        "    kernel_size=kernel_size,\n",
        "    input_shape=input_shape,\n",
        "    num_of_classes=num_of_classes\n",
        ")\n",
        "\n",
        "# Train the final model on the full training set\n",
        "history = final_model.fit(X_train_scaled, Y_train, epochs=10, batch_size=32, verbose=1)\n",
        "\n",
        "# Evaluate the model on the training and test sets\n",
        "train_loss, train_accuracy = final_model.evaluate(X_train_scaled, Y_train, verbose=0)\n",
        "test_loss, test_accuracy = final_model.evaluate(X_test_scaled, Y_test, verbose=0)\n",
        "\n",
        "print(f'\\nTrain Accuracy = {train_accuracy:.4f}')\n",
        "print(f'Test Accuracy = {test_accuracy:.4f}')\n",
        "\n",
        "# Plot training and validation loss\n",
        "plt.plot(history.history['loss'], label='Train Loss')\n",
        "plt.plot(history.history['val_loss'], label='Validation Loss')\n",
        "plt.legend()\n",
        "plt.title('Loss Over Epochs')\n",
        "plt.xlabel('Epochs')\n",
        "plt.ylabel('Loss')\n",
        "plt.show()\n",
        "\n",
        "# Plot training and validation accuracy\n",
        "plt.plot(history.history['accuracy'], label='Train Accuracy')\n",
        "plt.plot(history.history['val_accuracy'], label='Validation Accuracy')\n",
        "plt.legend()\n",
        "plt.title('Accuracy Over Epochs')\n",
        "plt.xlabel('Epochs')\n",
        "plt.ylabel('Accuracy')\n",
        "plt.show()\n"
      ]
    },
    {
      "cell_type": "markdown",
      "metadata": {
        "id": "hpAKPBHhw59t"
      },
      "source": [
        "#RESNET50"
      ]
    },
    {
      "cell_type": "code",
      "execution_count": null,
      "metadata": {
        "id": "p_GnAxWvw5C0"
      },
      "outputs": [],
      "source": [
        "from tensorflow.keras import Sequential, models, layers\n",
        "from tensorflow.keras.layers import Dense, Dropout, Flatten\n",
        "from tensorflow.keras.layers import BatchNormalization\n",
        "from tensorflow.keras.models import load_model\n",
        "from tensorflow.keras.models import Model\n",
        "from tensorflow.keras.applications.resnet50 import ResNet50\n",
        "from tensorflow.keras import optimizers"
      ]
    },
    {
      "cell_type": "code",
      "execution_count": null,
      "metadata": {
        "id": "o0fwylbTtgJE"
      },
      "outputs": [],
      "source": [
        "convolutional_base = ResNet50(weights='imagenet', include_top=False, input_shape=(128,128,3))\n",
        "convolutional_base.summary()"
      ]
    },
    {
      "cell_type": "code",
      "execution_count": null,
      "metadata": {
        "id": "bEjvwPdewDKB"
      },
      "outputs": [],
      "source": [
        "num_of_classes = 3\n",
        "\n",
        "model = models.Sequential()\n",
        "\n",
        "\n",
        "# model.add(layers.UpSampling2D((2,2)))\n",
        "# model.add(layers.UpSampling2D((2,2)))\n",
        "# model.add(layers.UpSampling2D((2,2)))\n",
        "\n",
        "\n",
        "model.add(convolutional_base)\n",
        "\n",
        "\n",
        "model.add(layers.Flatten())\n",
        "model.add(layers.BatchNormalization())\n",
        "\n",
        "\n",
        "model.add(layers.Dense(32, activation='relu'))\n",
        "model.add(layers.Dropout(0.5))\n",
        "model.add(layers.BatchNormalization())\n",
        "\n",
        "\n",
        "model.add(layers.Dense(64, activation='relu'))\n",
        "model.add(layers.Dropout(0.5))\n",
        "model.add(layers.BatchNormalization())\n",
        "\n",
        "\n",
        "model.add(layers.Dense(128, activation='relu'))\n",
        "model.add(layers.Dropout(0.5))\n",
        "model.add(layers.BatchNormalization())\n",
        "\n",
        "\n",
        "model.add(layers.Dense(num_of_classes, activation='softmax'))"
      ]
    },
    {
      "cell_type": "markdown",
      "metadata": {
        "id": "9z0oUO7gK-zy"
      },
      "source": [
        "#RMS Optimizer"
      ]
    },
    {
      "cell_type": "code",
      "execution_count": null,
      "metadata": {
        "id": "ZvhOVFozwHQF"
      },
      "outputs": [],
      "source": [
        "model.compile(optimizer=RMSprop(learning_rate=2e-5), loss='sparse_categorical_crossentropy', metrics=['acc'])"
      ]
    },
    {
      "cell_type": "code",
      "execution_count": null,
      "metadata": {
        "id": "p33fLswIwTlO"
      },
      "outputs": [],
      "source": [
        "# Now fit the model with resized images\n",
        "history = model.fit(X_train_scaled, Y_train, validation_split=0.1, epochs=20)"
      ]
    },
    {
      "cell_type": "code",
      "execution_count": null,
      "metadata": {
        "id": "OEdc71zpwXyC"
      },
      "outputs": [],
      "source": [
        "loss, accuracy = model.evaluate(X_train_scaled, Y_train)\n",
        "print('Train Accuracy =', accuracy)"
      ]
    },
    {
      "cell_type": "code",
      "execution_count": null,
      "metadata": {
        "id": "tsvVO9GgwZ1_"
      },
      "outputs": [],
      "source": [
        "loss, accuracy = model.evaluate(X_test_scaled, Y_test)\n",
        "print('Test Accuracy =', accuracy)"
      ]
    },
    {
      "cell_type": "code",
      "execution_count": null,
      "metadata": {
        "id": "pTQ8P0oxwcMK"
      },
      "outputs": [],
      "source": [
        "y_pred=model.predict(X_test_scaled)\n",
        "\n",
        "y_pred_classes = np.argmax(y_pred, axis=1)\n",
        "print(y_pred_classes)"
      ]
    },
    {
      "cell_type": "code",
      "execution_count": null,
      "metadata": {
        "id": "XW_mlBhOwe7K"
      },
      "outputs": [],
      "source": [
        "from sklearn.metrics import r2_score\n",
        "\n",
        "r2 = r2_score(Y_test, y_pred_classes)\n",
        "print(f\"R² Score: {r2}\")"
      ]
    },
    {
      "cell_type": "code",
      "execution_count": null,
      "metadata": {
        "id": "_HFhH66twvko"
      },
      "outputs": [],
      "source": [
        "plt.figure(figsize=(8, 6))\n",
        "sns.heatmap(cm, annot=True, fmt='d', cmap='Blues', xticklabels=['Class 0', 'Class 1', 'Class 2'],\n",
        "            yticklabels=['Class 0', 'Class 1', 'Class 2'])\n",
        "plt.title('Confusion Matrix')\n",
        "plt.ylabel('True Label')\n",
        "plt.xlabel('Predicted Label')\n",
        "plt.show()"
      ]
    },
    {
      "cell_type": "code",
      "execution_count": null,
      "metadata": {
        "id": "gXpgybk-K-z0"
      },
      "outputs": [],
      "source": [
        "\n",
        "# Compute precision, recall, and F1 score\n",
        "precision = precision_score(Y_test, y_pred_classes, average='weighted')\n",
        "recall = recall_score(Y_test, y_pred_classes, average='weighted')\n",
        "f1 = f1_score(Y_test, y_pred_classes, average='weighted')\n",
        "\n",
        "# Print metrics\n",
        "print(\"\\nClassification Metrics:\")\n",
        "print(f\"Precision: {precision:.4f}\")\n",
        "print(f\"Recall: {recall:.4f}\")\n",
        "print(f\"F1 Score: {f1:.4f}\")\n",
        "\n",
        "# Classification report for detailed metrics per class\n",
        "print(\"\\nClassification Report:\")\n",
        "print(classification_report(Y_test, y_pred_classes))"
      ]
    },
    {
      "cell_type": "code",
      "execution_count": null,
      "metadata": {
        "id": "zHZ5jCfzxqn3"
      },
      "outputs": [],
      "source": [
        "h = history\n",
        "\n",
        "\n",
        "plt.plot(h.history['loss'], label='train loss')\n",
        "plt.plot(h.history['val_loss'], label='validation loss')\n",
        "plt.legend()\n",
        "plt.show()\n",
        "\n",
        "\n",
        "plt.plot(h.history['acc'], label='train accuracy')\n",
        "plt.plot(h.history['val_acc'], label='validation accuracy')\n",
        "plt.legend()\n",
        "plt.show()"
      ]
    },
    {
      "cell_type": "code",
      "execution_count": null,
      "metadata": {
        "id": "ohn8riZQxzwq"
      },
      "outputs": [],
      "source": [
        "model.save('resnet_model.h5')"
      ]
    },
    {
      "cell_type": "markdown",
      "metadata": {
        "id": "6AgjEd6fK-z1"
      },
      "source": [
        "#Adam Optimizer"
      ]
    },
    {
      "cell_type": "code",
      "execution_count": null,
      "metadata": {
        "id": "zKcK-1DaK-z1"
      },
      "outputs": [],
      "source": [
        "from sklearn.model_selection import KFold\n",
        "from sklearn.metrics import classification_report, confusion_matrix, precision_score, recall_score, f1_score, r2_score\n",
        "import keras\n",
        "from keras import layers, models\n",
        "from keras.optimizers import Adam\n",
        "import numpy as np\n",
        "import matplotlib.pyplot as plt\n",
        "import seaborn as sns\n",
        "\n",
        "# Define the model creation function\n",
        "def create_model(learning_rate, input_shape, num_of_classes):\n",
        "    model = models.Sequential()\n",
        "    model.add(layers.Conv2D(32, (3, 3), activation='relu', input_shape=input_shape))\n",
        "    model.add(layers.MaxPooling2D())\n",
        "    model.add(layers.Conv2D(64, (3, 3), activation='relu'))\n",
        "    model.add(layers.MaxPooling2D())\n",
        "    model.add(layers.Conv2D(128, (3, 3), activation='relu'))\n",
        "    model.add(layers.MaxPooling2D())\n",
        "    model.add(layers.Flatten())\n",
        "    model.add(layers.Dense(64, activation='relu'))\n",
        "    model.add(layers.Dropout(0.5))\n",
        "    model.add(layers.Dense(32, activation='relu'))\n",
        "    model.add(layers.Dropout(0.5))\n",
        "    model.add(layers.Dense(num_of_classes, activation='softmax'))\n",
        "\n",
        "    model.compile(optimizer=Adam(learning_rate=learning_rate),\n",
        "                  loss='sparse_categorical_crossentropy',\n",
        "                  metrics=['accuracy'])\n",
        "    return model\n",
        "\n",
        "# Parameters\n",
        "learning_rate = 2e-5\n",
        "input_shape = (128, 128, 3)\n",
        "num_of_classes = 3\n",
        "kfold = KFold(n_splits=5, shuffle=True, random_state=42)\n",
        "\n",
        "# Store metrics\n",
        "fold_no = 1\n",
        "scores = []\n",
        "histories = []\n",
        "\n",
        "for train_index, val_index in kfold.split(X_train_scaled, Y_train):\n",
        "    print(f\"\\nTraining Fold {fold_no}...\")\n",
        "\n",
        "    # Split data for this fold\n",
        "    X_train_fold, X_val_fold = X_train_scaled[train_index], X_train_scaled[val_index]\n",
        "    Y_train_fold, Y_val_fold = Y_train[train_index], Y_train[val_index]\n",
        "\n",
        "    # Create the model\n",
        "    model = create_model(learning_rate, input_shape, num_of_classes)\n",
        "\n",
        "    # Train the model\n",
        "    history = model.fit(\n",
        "        X_train_fold, Y_train_fold,\n",
        "        validation_data=(X_val_fold, Y_val_fold),\n",
        "        epochs=20,\n",
        "        batch_size=32,\n",
        "        verbose=1\n",
        "    )\n",
        "    histories.append(history)\n",
        "\n",
        "    # Evaluate the model on validation set\n",
        "    loss, accuracy = model.evaluate(X_val_fold, Y_val_fold, verbose=0)\n",
        "    print(f\"Fold {fold_no} - Validation Loss: {loss}, Validation Accuracy: {accuracy}\")\n",
        "    scores.append(accuracy)\n",
        "    fold_no += 1\n",
        "\n",
        "# Average accuracy across folds\n",
        "print(f\"\\nAverage Validation Accuracy: {np.mean(scores):.4f}\")\n",
        "\n",
        "# Train final model on full training data\n",
        "final_model = create_model(learning_rate, input_shape, num_of_classes)\n",
        "final_history = final_model.fit(X_train_scaled, Y_train, validation_split=0.1, epochs=20, batch_size=32, verbose=1)\n",
        "\n",
        "# Evaluate on the test set\n",
        "test_loss, test_accuracy = final_model.evaluate(X_test_scaled, Y_test, verbose=0)\n",
        "print(f\"\\nTest Loss: {test_loss:.4f}, Test Accuracy: {test_accuracy:.4f}\")\n",
        "\n",
        "# Predictions\n",
        "y_pred = final_model.predict(X_test_scaled)\n",
        "y_pred_classes = np.argmax(y_pred, axis=1)\n",
        "print(\"\\nPredicted Classes:\")\n",
        "print(y_pred_classes)\n",
        "\n",
        "# R² Score\n",
        "r2 = r2_score(Y_test, y_pred_classes)\n",
        "print(f\"R² Score: {r2:.4f}\")\n",
        "\n",
        "# Confusion Matrix\n",
        "cm = confusion_matrix(Y_test, y_pred_classes)\n",
        "plt.figure(figsize=(8, 6))\n",
        "sns.heatmap(cm, annot=True, fmt='d', cmap='Blues', xticklabels=['Class 0', 'Class 1', 'Class 2'],\n",
        "            yticklabels=['Class 0', 'Class 1', 'Class 2'])\n",
        "plt.title('Confusion Matrix')\n",
        "plt.ylabel('True Label')\n",
        "plt.xlabel('Predicted Label')\n",
        "plt.show()\n",
        "\n",
        "# Precision, Recall, F1 Score\n",
        "precision = precision_score(Y_test, y_pred_classes, average='weighted')\n",
        "recall = recall_score(Y_test, y_pred_classes, average='weighted')\n",
        "f1 = f1_score(Y_test, y_pred_classes, average='weighted')\n",
        "\n",
        "print(\"\\nClassification Metrics:\")\n",
        "print(f\"Precision: {precision:.4f}\")\n",
        "print(f\"Recall: {recall:.4f}\")\n",
        "print(f\"F1 Score: {f1:.4f}\")\n",
        "\n",
        "# Classification Report\n",
        "print(\"\\nClassification Report:\")\n",
        "print(classification_report(Y_test, y_pred_classes))\n",
        "\n",
        "# Plot training and validation loss/accuracy for the final model\n",
        "h = final_history.history\n",
        "\n",
        "plt.plot(h['loss'], label='Train Loss')\n",
        "plt.plot(h['val_loss'], label='Validation Loss')\n",
        "plt.legend()\n",
        "plt.title('Loss Over Epochs')\n",
        "plt.xlabel('Epochs')\n",
        "plt.ylabel('Loss')\n",
        "plt.show()\n",
        "\n",
        "plt.plot(h['accuracy'], label='Train Accuracy')\n",
        "plt.plot(h['val_accuracy'], label='Validation Accuracy')\n",
        "plt.legend()\n",
        "plt.title('Accuracy Over Epochs')\n",
        "plt.xlabel('Epochs')\n",
        "plt.ylabel('Accuracy')\n",
        "plt.show()\n"
      ]
    },
    {
      "cell_type": "markdown",
      "metadata": {
        "id": "L05b2DbcK-z2"
      },
      "source": [
        "#SGD"
      ]
    },
    {
      "cell_type": "code",
      "execution_count": null,
      "metadata": {
        "id": "lLzjNhNYK-z2"
      },
      "outputs": [],
      "source": [
        "import numpy as np\n",
        "import matplotlib.pyplot as plt\n",
        "import seaborn as sns\n",
        "from sklearn.metrics import classification_report, confusion_matrix, precision_score, recall_score, f1_score, r2_score\n",
        "from sklearn.model_selection import KFold\n",
        "import tensorflow as tf\n",
        "from tensorflow.keras import layers, models\n",
        "from tensorflow.keras.optimizers import SGD\n",
        "from tensorflow.keras.callbacks import ReduceLROnPlateau, EarlyStopping\n",
        "\n",
        "# Define the model creation function\n",
        "def create_model(input_shape, num_classes, learning_rate, momentum):\n",
        "    model = models.Sequential()\n",
        "\n",
        "    # Add convolutional layers\n",
        "    model.add(layers.Conv2D(32, (3, 3), activation='relu', input_shape=input_shape))\n",
        "    model.add(layers.MaxPooling2D(pool_size=(2, 2)))\n",
        "    model.add(layers.Conv2D(64, (3, 3), activation='relu'))\n",
        "    model.add(layers.MaxPooling2D(pool_size=(2, 2)))\n",
        "    model.add(layers.Conv2D(128, (3, 3), activation='relu'))\n",
        "    model.add(layers.MaxPooling2D(pool_size=(2, 2)))\n",
        "\n",
        "    # Flatten and fully connected layers\n",
        "    model.add(layers.Flatten())\n",
        "    model.add(layers.Dense(128, activation='relu'))\n",
        "    model.add(layers.Dropout(0.5))\n",
        "    model.add(layers.Dense(64, activation='relu'))\n",
        "    model.add(layers.Dropout(0.5))\n",
        "    model.add(layers.Dense(num_classes, activation='softmax'))\n",
        "\n",
        "    # Compile the model\n",
        "    optimizer = SGD(learning_rate=learning_rate, momentum=momentum)\n",
        "    model.compile(optimizer=optimizer, loss='sparse_categorical_crossentropy', metrics=['accuracy'])\n",
        "\n",
        "    return model\n",
        "\n",
        "# Parameters\n",
        "input_shape = (128, 128, 3)  # Adjust to your image dimensions\n",
        "num_classes = 3\n",
        "learning_rate = 0.01\n",
        "momentum = 0.9\n",
        "batch_size = 32\n",
        "epochs = 20\n",
        "\n",
        "# K-Fold Cross-Validation\n",
        "kfold = KFold(n_splits=5, shuffle=True, random_state=42)\n",
        "fold_no = 1\n",
        "scores = []\n",
        "\n",
        "for train_index, val_index in kfold.split(X_train_scaled, Y_train):\n",
        "    print(f\"\\nTraining Fold {fold_no}...\")\n",
        "\n",
        "    # Split data for the fold\n",
        "    X_train_fold, X_val_fold = X_train_scaled[train_index], X_train_scaled[val_index]\n",
        "    Y_train_fold, Y_val_fold = Y_train[train_index], Y_train[val_index]\n",
        "\n",
        "    # Create the model\n",
        "    model = create_model(input_shape, num_classes, learning_rate, momentum)\n",
        "\n",
        "    # Callbacks\n",
        "    reduce_lr = ReduceLROnPlateau(monitor='val_loss', factor=0.5, patience=3, verbose=1)\n",
        "    early_stopping = EarlyStopping(monitor='val_loss', patience=5, restore_best_weights=True, verbose=1)\n",
        "\n",
        "    # Train the model\n",
        "    history = model.fit(\n",
        "        X_train_fold, Y_train_fold,\n",
        "        validation_data=(X_val_fold, Y_val_fold),\n",
        "        epochs=epochs,\n",
        "        batch_size=batch_size,\n",
        "        callbacks=[reduce_lr, early_stopping],\n",
        "        verbose=1\n",
        "    )\n",
        "\n",
        "    # Evaluate the model\n",
        "    val_loss, val_accuracy = model.evaluate(X_val_fold, Y_val_fold, verbose=0)\n",
        "    print(f\"Fold {fold_no} - Validation Loss: {val_loss}, Validation Accuracy: {val_accuracy}\")\n",
        "    scores.append(val_accuracy)\n",
        "    fold_no += 1\n",
        "\n",
        "# Average validation accuracy across folds\n",
        "print(f\"\\nAverage Validation Accuracy: {np.mean(scores):.4f}\")\n",
        "\n",
        "# Final training on the full dataset\n",
        "final_model = create_model(input_shape, num_classes, learning_rate, momentum)\n",
        "final_history = final_model.fit(\n",
        "    X_train_scaled, Y_train,\n",
        "    validation_split=0.1,\n",
        "    epochs=epochs,\n",
        "    batch_size=batch_size,\n",
        "    callbacks=[reduce_lr, early_stopping],\n",
        "    verbose=1\n",
        ")\n",
        "\n",
        "# Evaluate on the test set\n",
        "test_loss, test_accuracy = final_model.evaluate(X_test_scaled, Y_test, verbose=0)\n",
        "print(f\"\\nTest Loss: {test_loss:.4f}, Test Accuracy: {test_accuracy:.4f}\")\n",
        "\n",
        "# Predictions\n",
        "y_pred = final_model.predict(X_test_scaled)\n",
        "y_pred_classes = np.argmax(y_pred, axis=1)\n",
        "\n",
        "# R² Score\n",
        "r2 = r2_score(Y_test, y_pred_classes)\n",
        "print(f\"R² Score: {r2:.4f}\")\n",
        "\n",
        "# Confusion Matrix\n",
        "cm = confusion_matrix(Y_test, y_pred_classes)\n",
        "plt.figure(figsize=(8, 6))\n",
        "sns.heatmap(cm, annot=True, fmt='d', cmap='Blues', xticklabels=['Class 0', 'Class 1', 'Class 2'],\n",
        "            yticklabels=['Class 0', 'Class 1', 'Class 2'])\n",
        "plt.title('Confusion Matrix')\n",
        "plt.ylabel('True Label')\n",
        "plt.xlabel('Predicted Label')\n",
        "plt.show()\n",
        "\n",
        "# Precision, Recall, F1 Score\n",
        "precision = precision_score(Y_test, y_pred_classes, average='weighted')\n",
        "recall = recall_score(Y_test, y_pred_classes, average='weighted')\n",
        "f1 = f1_score(Y_test, y_pred_classes, average='weighted')\n",
        "\n",
        "print(\"\\nClassification Metrics:\")\n",
        "print(f\"Precision: {precision:.4f}\")\n",
        "print(f\"Recall: {recall:.4f}\")\n",
        "print(f\"F1 Score: {f1:.4f}\")\n",
        "\n",
        "# Classification Report\n",
        "print(\"\\nClassification Report:\")\n",
        "print(classification_report(Y_test, y_pred_classes))\n",
        "\n",
        "# Plot training and validation loss/accuracy for the final model\n",
        "h = final_history.history\n",
        "\n",
        "plt.plot(h['loss'], label='Train Loss')\n",
        "plt.plot(h['val_loss'], label='Validation Loss')\n",
        "plt.legend()\n",
        "plt.title('Loss Over Epochs')\n",
        "plt.xlabel('Epochs')\n",
        "plt.ylabel('Loss')\n",
        "plt.show()\n",
        "\n",
        "plt.plot(h['accuracy'], label='Train Accuracy')\n",
        "plt.plot(h['val_accuracy'], label='Validation Accuracy')\n",
        "plt.legend()\n",
        "plt.title('Accuracy Over Epochs')\n",
        "plt.xlabel('Epochs')\n",
        "plt.ylabel('Accuracy')\n",
        "plt.show()\n"
      ]
    },
    {
      "cell_type": "markdown",
      "metadata": {
        "id": "MaioyV7mK-z2"
      },
      "source": [
        "#Cross-Validation Check\n",
        "1. **Validation Set Approach**\n",
        "2. **Leave-P-Out Cross-Validation**\n",
        "3. **Leave-One-Out Cross-Validation**\n",
        "4. **K-Fold Cross-Validation**\n",
        "5. **Stratified K-Fold Cross-Validation**\n"
      ]
    },
    {
      "cell_type": "markdown",
      "metadata": {
        "id": "fuCmgQ8cK-z3"
      },
      "source": [
        "###With K-Fold"
      ]
    },
    {
      "cell_type": "code",
      "execution_count": null,
      "metadata": {
        "id": "yGNoQDInK-z3"
      },
      "outputs": [],
      "source": [
        "from sklearn.model_selection import KFold\n",
        "from tensorflow.keras import models, layers\n",
        "from tensorflow.keras.optimizers import RMSprop\n",
        "from tensorflow.keras.applications import ResNet50\n",
        "import numpy as np\n",
        "\n",
        "# Parameters\n",
        "num_of_classes = 3\n",
        "k_folds = 5\n",
        "epochs = 20\n",
        "batch_size = 32\n",
        "\n",
        "# ResNet50 base model\n",
        "convolutional_base = ResNet50(weights='imagenet', include_top=False, input_shape=(128, 128, 3))\n",
        "\n",
        "# Initialize KFold\n",
        "kf = KFold(n_splits=k_folds, shuffle=True, random_state=42)\n",
        "\n",
        "# Store fold results\n",
        "fold_no = 1\n",
        "accuracies = []\n",
        "\n",
        "for train_index, val_index in kf.split(X_train_scaled):\n",
        "    print(f\"\\nFold {fold_no} ------------------------\")\n",
        "\n",
        "    # Split training data into train/validation for this fold\n",
        "    X_fold_train, X_fold_val = X_train_scaled[train_index], X_train_scaled[val_index]\n",
        "    Y_fold_train, Y_fold_val = Y_train[train_index], Y_train[val_index]\n",
        "\n",
        "    # Define the model\n",
        "    model = models.Sequential()\n",
        "    model.add(convolutional_base)\n",
        "    model.add(layers.Flatten())\n",
        "    model.add(layers.BatchNormalization())\n",
        "    model.add(layers.Dense(32, activation='relu'))\n",
        "    model.add(layers.Dropout(0.5))\n",
        "    model.add(layers.BatchNormalization())\n",
        "    model.add(layers.Dense(64, activation='relu'))\n",
        "    model.add(layers.Dropout(0.5))\n",
        "    model.add(layers.BatchNormalization())\n",
        "    model.add(layers.Dense(128, activation='relu'))\n",
        "    model.add(layers.Dropout(0.5))\n",
        "    model.add(layers.BatchNormalization())\n",
        "    model.add(layers.Dense(num_of_classes, activation='softmax'))\n",
        "\n",
        "    # Compile the model\n",
        "    model.compile(optimizer=RMSprop(learning_rate=2e-5), loss='sparse_categorical_crossentropy', metrics=['acc'])\n",
        "\n",
        "    # Train the model\n",
        "    history = model.fit(\n",
        "        X_fold_train, Y_fold_train,\n",
        "        validation_data=(X_fold_val, Y_fold_val),\n",
        "        epochs=epochs,\n",
        "        batch_size=batch_size,\n",
        "        verbose=1\n",
        "    )\n",
        "\n",
        "    # Evaluate the model\n",
        "    loss, accuracy = model.evaluate(X_fold_val, Y_fold_val)\n",
        "    print(f\"Fold {fold_no} - Validation Accuracy: {accuracy}\")\n",
        "    accuracies.append(accuracy)\n",
        "\n",
        "    # Increment fold number\n",
        "    fold_no += 1\n",
        "\n",
        "# Final results\n",
        "print(\"\\nK-Fold Cross Validation Results:\")\n",
        "print(f\"Accuracies: {accuracies}\")\n",
        "print(f\"Mean Accuracy: {np.mean(accuracies):.4f}\")\n",
        "print(f\"Standard Deviation: {np.std(accuracies):.4f}\")\n",
        "\n",
        "# Final evaluation on the test set\n",
        "final_loss, final_accuracy = model.evaluate(X_test_scaled, Y_test)\n",
        "print(f\"\\nFinal Test Accuracy: {final_accuracy}\")"
      ]
    },
    {
      "cell_type": "markdown",
      "metadata": {
        "id": "ZJ5_sRuLK-z3"
      },
      "source": [
        "#With Stratified K-fold"
      ]
    },
    {
      "cell_type": "code",
      "execution_count": null,
      "metadata": {
        "id": "e0UPFUaLK-z3"
      },
      "outputs": [],
      "source": [
        "from sklearn.model_selection import StratifiedKFold\n",
        "from tensorflow.keras import models, layers\n",
        "from tensorflow.keras.optimizers import RMSprop\n",
        "from tensorflow.keras.applications import ResNet50\n",
        "import numpy as np\n",
        "\n",
        "# Parameters\n",
        "num_of_classes = 3\n",
        "k_folds = 5\n",
        "epochs = 20\n",
        "batch_size = 32\n",
        "\n",
        "# ResNet50 base model\n",
        "convolutional_base = ResNet50(weights='imagenet', include_top=False, input_shape=(128, 128, 3))\n",
        "\n",
        "# Initialize StratifiedKFold\n",
        "skf = StratifiedKFold(n_splits=k_folds, shuffle=True, random_state=42)\n",
        "\n",
        "# Store fold results\n",
        "fold_no = 1\n",
        "accuracies = []\n",
        "\n",
        "for train_index, val_index in skf.split(X_train_scaled, Y_train):\n",
        "    print(f\"\\nFold {fold_no} ------------------------\")\n",
        "\n",
        "    # Split training data into train/validation for this fold\n",
        "    X_fold_train, X_fold_val = X_train_scaled[train_index], X_train_scaled[val_index]\n",
        "    Y_fold_train, Y_fold_val = Y_train[train_index], Y_train[val_index]\n",
        "\n",
        "    # Define the model\n",
        "    model = models.Sequential()\n",
        "    model.add(convolutional_base)\n",
        "    model.add(layers.Flatten())\n",
        "    model.add(layers.BatchNormalization())\n",
        "    model.add(layers.Dense(32, activation='relu'))\n",
        "    model.add(layers.Dropout(0.5))\n",
        "    model.add(layers.BatchNormalization())\n",
        "    model.add(layers.Dense(64, activation='relu'))\n",
        "    model.add(layers.Dropout(0.5))\n",
        "    model.add(layers.BatchNormalization())\n",
        "    model.add(layers.Dense(128, activation='relu'))\n",
        "    model.add(layers.Dropout(0.5))\n",
        "    model.add(layers.BatchNormalization())\n",
        "    model.add(layers.Dense(num_of_classes, activation='softmax'))\n",
        "\n",
        "    # Compile the model\n",
        "    model.compile(optimizer=RMSprop(learning_rate=2e-5), loss='sparse_categorical_crossentropy', metrics=['acc'])\n",
        "\n",
        "    # Train the model\n",
        "    history = model.fit(\n",
        "        X_fold_train, Y_fold_train,\n",
        "        validation_data=(X_fold_val, Y_fold_val),\n",
        "        epochs=epochs,\n",
        "        batch_size=batch_size,\n",
        "        verbose=1\n",
        "    )\n",
        "\n",
        "    # Evaluate the model\n",
        "    loss, accuracy = model.evaluate(X_fold_val, Y_fold_val)\n",
        "    print(f\"Fold {fold_no} - Validation Accuracy: {accuracy}\")\n",
        "    accuracies.append(accuracy)\n",
        "\n",
        "    # Increment fold number\n",
        "    fold_no += 1\n",
        "\n",
        "# Final results\n",
        "print(\"\\nStratified K-Fold Cross Validation Results:\")\n",
        "print(f\"Accuracies: {accuracies}\")\n",
        "print(f\"Mean Accuracy: {np.mean(accuracies):.4f}\")\n",
        "print(f\"Standard Deviation: {np.std(accuracies):.4f}\")\n",
        "\n",
        "# Final evaluation on the test set\n",
        "final_loss, final_accuracy = model.evaluate(X_test_scaled, Y_test)\n",
        "print(f\"\\nFinal Test Accuracy: {final_accuracy}\")\n"
      ]
    },
    {
      "cell_type": "markdown",
      "metadata": {
        "id": "pT-ykn3hxMiz"
      },
      "source": [
        "#MobileNet"
      ]
    },
    {
      "cell_type": "code",
      "execution_count": null,
      "metadata": {
        "id": "YrMkpHp7xLA_"
      },
      "outputs": [],
      "source": [
        "from tensorflow.keras import Sequential, models, layers\n",
        "from tensorflow.keras.layers import Dense, Dropout, Flatten\n",
        "from tensorflow.keras.layers import BatchNormalization\n",
        "from tensorflow.keras.models import load_model\n",
        "from tensorflow.keras.models import Model\n",
        "from tensorflow.keras.applications.resnet50 import ResNet50\n",
        "from tensorflow.keras import optimizers"
      ]
    },
    {
      "cell_type": "code",
      "execution_count": null,
      "metadata": {
        "id": "_RqJpSA3xQrn"
      },
      "outputs": [],
      "source": [
        "from tensorflow.keras.applications import MobileNetV2\n",
        "# Model\n",
        "convolutional_base = MobileNetV2(input_shape=(128, 128, 3), include_top=False, weights='imagenet')\n",
        "convolutional_base.summary()"
      ]
    },
    {
      "cell_type": "code",
      "execution_count": null,
      "metadata": {
        "id": "0axX9RrXxS_S"
      },
      "outputs": [],
      "source": [
        "import tensorflow as tf\n",
        "from tensorflow.keras import layers, models\n",
        "from tensorflow.keras.applications import MobileNetV2\n",
        "\n",
        "# Number of classes\n",
        "num_classes = 3\n",
        "\n",
        "# Load the MobileNetV2 model with input shape (128, 128, 3)\n",
        "# Set `include_top=False` to exclude the default fully connected layer at the top\n",
        "base_model = MobileNetV2(input_shape=(128, 128, 3), include_top=False, weights='imagenet')\n",
        "\n",
        "# Freeze the base model layers to retain pre-trained weights\n",
        "base_model.trainable = False\n",
        "\n",
        "# Add custom layers on top of the base model\n",
        "model = models.Sequential([\n",
        "    convolutional_base,\n",
        "    layers.GlobalAveragePooling2D(),\n",
        "    layers.BatchNormalization(),\n",
        "\n",
        "    layers.Dense(32, activation='relu'),\n",
        "    layers.Dropout(0.5),\n",
        "    layers.BatchNormalization(),\n",
        "\n",
        "    layers.Dense(64, activation='relu'),\n",
        "    layers.Dropout(0.5),\n",
        "    layers.BatchNormalization(),\n",
        "\n",
        "    layers.Dense(128, activation='relu'),\n",
        "    layers.Dropout(0.5),\n",
        "    layers.BatchNormalization(),\n",
        "\n",
        "    layers.Dense(num_classes, activation='softmax')\n",
        "])\n"
      ]
    },
    {
      "cell_type": "code",
      "execution_count": null,
      "metadata": {
        "id": "gFOpji1WK-z4"
      },
      "outputs": [],
      "source": [
        "\n",
        "# Compile the model\n",
        "model.compile(optimizer=tf.keras.optimizers.Adam(learning_rate=0.0001),\n",
        "              loss='sparse_categorical_crossentropy',\n",
        "              metrics=['accuracy'])\n"
      ]
    },
    {
      "cell_type": "code",
      "execution_count": null,
      "metadata": {
        "id": "80a6u-aiK-z5"
      },
      "outputs": [],
      "source": [
        "\n",
        "# Print the model summary\n",
        "model.summary()"
      ]
    },
    {
      "cell_type": "code",
      "execution_count": null,
      "metadata": {
        "id": "4D-3ameuxYDS"
      },
      "outputs": [],
      "source": [
        "model.compile(optimizer=RMSprop(learning_rate=2e-5), loss='sparse_categorical_crossentropy', metrics=['acc'])"
      ]
    },
    {
      "cell_type": "code",
      "execution_count": null,
      "metadata": {
        "id": "6Ry8RaqjxazJ"
      },
      "outputs": [],
      "source": [
        "# Now fit the model with resized images\n",
        "history = model.fit(X_train_scaled, Y_train, validation_split=0.1, epochs=25)"
      ]
    },
    {
      "cell_type": "code",
      "execution_count": null,
      "metadata": {
        "id": "4MKY3_S2xdWG"
      },
      "outputs": [],
      "source": [
        "loss, accuracy = model.evaluate(X_train_scaled, Y_train)\n",
        "print('Train Accuracy =', accuracy)"
      ]
    },
    {
      "cell_type": "code",
      "execution_count": null,
      "metadata": {
        "id": "EFJoROZhxiCZ"
      },
      "outputs": [],
      "source": [
        "loss, accuracy = model.evaluate(X_test_scaled, Y_test)\n",
        "print('Test Accuracy =', accuracy)"
      ]
    },
    {
      "cell_type": "code",
      "execution_count": null,
      "metadata": {
        "id": "W8OiNEgVxi2g"
      },
      "outputs": [],
      "source": [
        "from sklearn.metrics import r2_score\n",
        "\n",
        "r2 = r2_score(Y_test, y_pred_classes)\n",
        "print(f\"R² Score: {r2}\")"
      ]
    },
    {
      "cell_type": "code",
      "execution_count": null,
      "metadata": {
        "id": "gFKXKN6XxnLI"
      },
      "outputs": [],
      "source": [
        "plt.figure(figsize=(8, 6))\n",
        "sns.heatmap(cm, annot=True, fmt='d', cmap='Blues', xticklabels=['Class 0', 'Class 1', 'Class 2'],\n",
        "            yticklabels=['Class 0', 'Class 1', 'Class 2'])\n",
        "plt.title('Confusion Matrix')\n",
        "plt.ylabel('True Label')\n",
        "plt.xlabel('Predicted Label')\n",
        "plt.show()"
      ]
    },
    {
      "cell_type": "code",
      "execution_count": null,
      "metadata": {
        "id": "33DXUPHrK-z6"
      },
      "outputs": [],
      "source": [
        "# Compute precision, recall, and F1 score\n",
        "precision = precision_score(Y_test, y_pred_classes, average='weighted')\n",
        "recall = recall_score(Y_test, y_pred_classes, average='weighted')\n",
        "f1 = f1_score(Y_test, y_pred_classes, average='weighted')\n",
        "\n",
        "# Print metrics\n",
        "print(\"\\nClassification Metrics:\")\n",
        "print(f\"Precision: {precision:.4f}\")\n",
        "print(f\"Recall: {recall:.4f}\")\n",
        "print(f\"F1 Score: {f1:.4f}\")\n",
        "\n",
        "# Classification report for detailed metrics per class\n",
        "print(\"\\nClassification Report:\")\n",
        "print(classification_report(Y_test, y_pred_classes))"
      ]
    },
    {
      "cell_type": "code",
      "execution_count": null,
      "metadata": {
        "id": "ul5u9Y0Pxm-y"
      },
      "outputs": [],
      "source": [
        "h = history\n",
        "\n",
        "\n",
        "plt.plot(h.history['loss'], label='train loss')\n",
        "plt.plot(h.history['val_loss'], label='validation loss')\n",
        "plt.legend()\n",
        "plt.show()\n",
        "\n",
        "\n",
        "plt.plot(h.history['acc'], label='train accuracy')\n",
        "plt.plot(h.history['val_acc'], label='validation accuracy')\n",
        "plt.legend()\n",
        "plt.show()"
      ]
    },
    {
      "cell_type": "code",
      "execution_count": null,
      "metadata": {
        "id": "43veDuEhxvJE"
      },
      "outputs": [],
      "source": [
        "model.save('mobileNet_model.h5')"
      ]
    },
    {
      "cell_type": "markdown",
      "metadata": {
        "id": "65jPAWJhx7AS"
      },
      "source": [
        "#EfficientNetB0"
      ]
    },
    {
      "cell_type": "code",
      "execution_count": null,
      "metadata": {
        "id": "1DlFOXDfx6eU"
      },
      "outputs": [],
      "source": [
        "from tensorflow.keras import Sequential, models, layers\n",
        "from tensorflow.keras.layers import Dense, Dropout, Flatten\n",
        "from tensorflow.keras.layers import BatchNormalization\n",
        "from tensorflow.keras.models import load_model\n",
        "from tensorflow.keras.applications import EfficientNetB0\n",
        "from tensorflow.keras import optimizers\n",
        "\n",
        "# Load EfficientNetB0 as the base model\n",
        "convolutional_base = EfficientNetB0(weights='imagenet', include_top=False, input_shape=(128, 128, 3))\n",
        "convolutional_base.summary()"
      ]
    },
    {
      "cell_type": "code",
      "execution_count": null,
      "metadata": {
        "id": "68ofVm4lyCjJ"
      },
      "outputs": [],
      "source": [
        "num_of_classes = 3\n",
        "\n",
        "# Initialize a sequential model\n",
        "model = models.Sequential()\n",
        "\n",
        "# Add the EfficientNet base model (without the top layer)\n",
        "model.add(convolutional_base)\n",
        "\n",
        "# Flatten the output of EfficientNet\n",
        "model.add(layers.Flatten())\n",
        "model.add(layers.BatchNormalization())\n",
        "\n",
        "# Dense layers with dropout and batch normalization\n",
        "model.add(layers.Dense(32, activation='relu'))\n",
        "model.add(layers.Dropout(0.5))\n",
        "model.add(layers.BatchNormalization())\n",
        "\n",
        "model.add(layers.Dense(64, activation='relu'))\n",
        "model.add(layers.Dropout(0.5))\n",
        "model.add(layers.BatchNormalization())\n",
        "\n",
        "model.add(layers.Dense(128, activation='relu'))\n",
        "model.add(layers.Dropout(0.5))\n",
        "model.add(layers.BatchNormalization())\n",
        "\n",
        "# Output layer with softmax activation\n",
        "model.add(layers.Dense(num_of_classes, activation='softmax'))"
      ]
    },
    {
      "cell_type": "code",
      "execution_count": null,
      "metadata": {
        "id": "1VHB5aXWyE7e"
      },
      "outputs": [],
      "source": [
        "# Compile the model with an optimizer\n",
        "model.compile(optimizer=optimizers.RMSprop(learning_rate=2e-5), loss='sparse_categorical_crossentropy', metrics=['accuracy'])\n"
      ]
    },
    {
      "cell_type": "code",
      "execution_count": null,
      "metadata": {
        "id": "wiw_6HtbK-z8"
      },
      "outputs": [],
      "source": [
        "\n",
        "# Now fit the model with resized images\n",
        "history = model.fit(X_train_scaled, Y_train, validation_split=0.1, epochs=20)"
      ]
    },
    {
      "cell_type": "code",
      "execution_count": null,
      "metadata": {
        "id": "aHS_vJEmyHym"
      },
      "outputs": [],
      "source": [
        "# Evaluate the model on training and test sets\n",
        "loss, accuracy = model.evaluate(X_train_scaled, Y_train)\n",
        "print('Train Accuracy =', accuracy)\n",
        "\n",
        "\n",
        "loss, accuracy = model.evaluate(X_test_scaled, Y_test)\n",
        "print('Test Accuracy =', accuracy)"
      ]
    },
    {
      "cell_type": "code",
      "execution_count": null,
      "metadata": {
        "id": "9z_Z-JI_yJ46"
      },
      "outputs": [],
      "source": [
        "from sklearn.metrics import r2_score\n",
        "\n",
        "r2 = r2_score(Y_test, y_pred_classes)\n",
        "print(f\"R² Score: {r2}\")"
      ]
    },
    {
      "cell_type": "code",
      "execution_count": null,
      "metadata": {
        "id": "XrQjR1SZyPOK"
      },
      "outputs": [],
      "source": [
        "plt.figure(figsize=(8, 6))\n",
        "sns.heatmap(cm, annot=True, fmt='d', cmap='Blues', xticklabels=['Class 0', 'Class 1', 'Class 2'],\n",
        "            yticklabels=['Class 0', 'Class 1', 'Class 2'])\n",
        "plt.title('Confusion Matrix')\n",
        "plt.ylabel('True Label')\n",
        "plt.xlabel('Predicted Label')\n",
        "plt.show()"
      ]
    },
    {
      "cell_type": "code",
      "execution_count": null,
      "metadata": {
        "id": "RqgVbywIK-z9"
      },
      "outputs": [],
      "source": [
        "# Compute precision, recall, and F1 score\n",
        "precision = precision_score(Y_test, y_pred_classes, average='weighted')\n",
        "recall = recall_score(Y_test, y_pred_classes, average='weighted')\n",
        "f1 = f1_score(Y_test, y_pred_classes, average='weighted')\n",
        "\n",
        "# Print metrics\n",
        "print(\"\\nClassification Metrics:\")\n",
        "print(f\"Precision: {precision:.4f}\")\n",
        "print(f\"Recall: {recall:.4f}\")\n",
        "print(f\"F1 Score: {f1:.4f}\")\n",
        "\n",
        "# Classification report for detailed metrics per class\n",
        "print(\"\\nClassification Report:\")\n",
        "print(classification_report(Y_test, y_pred_classes))"
      ]
    },
    {
      "cell_type": "code",
      "execution_count": null,
      "metadata": {
        "id": "UNh6iAMlyPEJ"
      },
      "outputs": [],
      "source": [
        "h = history\n",
        "\n",
        "\n",
        "plt.plot(h.history['loss'], label='train loss')\n",
        "plt.plot(h.history['val_loss'], label='validation loss')\n",
        "plt.legend()\n",
        "plt.show()\n",
        "\n",
        "\n",
        "plt.plot(h.history['acc'], label='train accuracy')\n",
        "plt.plot(h.history['val_acc'], label='validation accuracy')\n",
        "plt.legend()\n",
        "plt.show()"
      ]
    },
    {
      "cell_type": "code",
      "execution_count": null,
      "metadata": {
        "id": "A-wwcw8cyRt8"
      },
      "outputs": [],
      "source": [
        "model.save('efficientNet_model.h5')"
      ]
    },
    {
      "cell_type": "markdown",
      "metadata": {
        "id": "5kq_jmaZtiSs"
      },
      "source": [
        "#Ensemble Learning/Hybrid Model"
      ]
    },
    {
      "cell_type": "code",
      "execution_count": null,
      "metadata": {
        "id": "1heCOftXxRYM"
      },
      "outputs": [],
      "source": [
        "import tensorflow as tf\n",
        "from tensorflow.keras import layers, models\n",
        "from tensorflow.keras.applications import ResNet50, EfficientNetB0\n",
        "from sklearn.model_selection import train_test_split\n",
        "import numpy as np\n",
        "import matplotlib.pyplot as plt\n",
        "from tensorflow.keras.callbacks import Callback\n",
        "\n",
        "# # Load your dataset and preprocess\n",
        "# X_train, X_test, Y_train, Y_test = train_test_split(X, Y, test_size=0.2, random_state=2)\n",
        "\n",
        "# # Scale the data to [0, 1] range\n",
        "# X_train_scaled = X_train / 255.0\n",
        "# X_test_scaled = X_test / 255.0\n"
      ]
    },
    {
      "cell_type": "code",
      "execution_count": null,
      "metadata": {
        "id": "K1fvOHqwK-z_"
      },
      "outputs": [],
      "source": [
        "\n",
        "# Convert to TensorFlow tensors\n",
        "X_train_tensor = tf.convert_to_tensor(X_train_scaled, dtype=tf.float32)\n",
        "X_test_tensor = tf.convert_to_tensor(X_test_scaled, dtype=tf.float32)\n",
        "Y_train_tensor = tf.convert_to_tensor(Y_train, dtype=tf.int64)\n",
        "Y_test_tensor = tf.convert_to_tensor(Y_test, dtype=tf.int64)\n"
      ]
    },
    {
      "cell_type": "code",
      "execution_count": null,
      "metadata": {
        "id": "IjhmttfAK-z_"
      },
      "outputs": [],
      "source": [
        "\n",
        "# Build CNN Model\n",
        "def build_cnn_model():\n",
        "    model = models.Sequential([\n",
        "        layers.Conv2D(32, (3, 3), activation='relu', input_shape=(256, 256, 3)),\n",
        "        layers.MaxPooling2D(),\n",
        "        layers.Conv2D(64, (3, 3), activation='relu'),\n",
        "        layers.MaxPooling2D(),\n",
        "        layers.Flatten(),\n",
        "        layers.Dense(128, activation='relu'),\n",
        "        layers.Dense(3, activation='softmax')\n",
        "    ])\n",
        "    return model\n",
        "\n",
        "\n",
        "# Build ResNet Model (Pretrained)\n",
        "def build_resnet_model():\n",
        "    base_model = ResNet50(weights='imagenet', include_top=False, input_shape=(256, 256, 3))\n",
        "    base_model.trainable = False\n",
        "    model = models.Sequential([\n",
        "        base_model,\n",
        "        layers.GlobalAveragePooling2D(),\n",
        "        layers.Dense(3, activation='softmax')\n",
        "    ])\n",
        "    return model\n",
        "\n",
        "\n",
        "# Build EfficientNet Model (Pretrained)\n",
        "def build_efficientnet_model():\n",
        "    base_model = EfficientNetB0(weights='imagenet', include_top=False, input_shape=(256, 256, 3))\n",
        "    base_model.trainable = False\n",
        "    model = models.Sequential([\n",
        "        base_model,\n",
        "        layers.GlobalAveragePooling2D(),\n",
        "        layers.Dense(3, activation='softmax')\n",
        "    ])\n",
        "    return model\n"
      ]
    },
    {
      "cell_type": "code",
      "execution_count": null,
      "metadata": {
        "id": "JqoTePYvK-z_"
      },
      "outputs": [],
      "source": [
        "\n",
        "# Create the Ensemble Model\n",
        "class EnsembleModel(tf.keras.Model):\n",
        "    def __init__(self, models):\n",
        "        super(EnsembleModel, self).__init__()\n",
        "        self.models = models\n",
        "\n",
        "    def call(self, inputs):\n",
        "        outputs = [model(inputs) for model in self.models]\n",
        "        return tf.reduce_mean(outputs, axis=0)  # Averaging the outputs\n",
        "\n",
        "# Instantiate individual models\n",
        "cnn_model = build_cnn_model()\n",
        "resnet_model = build_resnet_model()\n",
        "efficientnet_model = build_efficientnet_model()\n",
        "\n",
        "# Create the ensemble model\n",
        "ensemble_model = EnsembleModel([cnn_model, resnet_model, efficientnet_model])\n",
        "\n",
        "# Compile the ensemble model\n",
        "ensemble_model.compile(optimizer='adam',\n",
        "                       loss='sparse_categorical_crossentropy',\n",
        "                       metrics=['accuracy'])\n",
        "\n",
        "# Visualization Callback\n",
        "class FeatureMapVisualizer(Callback):\n",
        "    def __init__(self, model, X_train, num_images=1, layer_name=\"conv2d\"):\n",
        "        self.model = model\n",
        "        self.X_train = X_train\n",
        "        self.num_images = num_images\n",
        "        self.layer_name = layer_name\n",
        "\n",
        "    def on_epoch_end(self, epoch, logs=None):\n",
        "        # Take the first image for visualization\n",
        "        first_image = self.X_train[0:1]\n",
        "\n",
        "        # Get the layer output\n",
        "        layer_output = self.model.get_layer(self.layer_name).output\n",
        "        feature_map_model = tf.keras.models.Model(inputs=self.model.input, outputs=layer_output)\n",
        "\n",
        "        # Get feature maps\n",
        "        feature_maps = feature_map_model.predict(first_image)\n",
        "\n",
        "        # Plot the feature maps\n",
        "        self.plot_feature_maps(feature_maps)\n",
        "\n",
        "    def plot_feature_maps(self, feature_maps):\n",
        "        num_feature_maps = feature_maps.shape[-1]\n",
        "        num_columns = 8\n",
        "        num_rows = num_feature_maps // num_columns + (num_feature_maps % num_columns != 0)\n",
        "        plt.figure(figsize=(15, 15))\n",
        "\n",
        "        for i in range(num_feature_maps):\n",
        "            plt.subplot(num_rows, num_columns, i + 1)\n",
        "            plt.imshow(feature_maps[0, :, :, i], cmap='gray')\n",
        "            plt.axis('off')\n",
        "\n",
        "        plt.show()\n",
        "\n",
        "# Visualizer callback to see feature maps after each convolutional layer\n",
        "visualizer = FeatureMapVisualizer(ensemble_model, X_train_tensor, layer_name=\"conv2d\")\n"
      ]
    },
    {
      "cell_type": "code",
      "execution_count": null,
      "metadata": {
        "id": "xVxCht5vK-0A"
      },
      "outputs": [],
      "source": [
        "\n",
        "# Train the ensemble model with the visualization callback\n",
        "ensemble_model.fit(X_train_tensor, Y_train_tensor, epochs=10, batch_size=32,\n",
        "                   validation_data=(X_test_tensor, Y_test_tensor), callbacks=[visualizer])\n"
      ]
    },
    {
      "cell_type": "code",
      "execution_count": null,
      "metadata": {
        "id": "c_ZpAOE_K-0A"
      },
      "outputs": [],
      "source": [
        "\n",
        "# Evaluate the model\n",
        "test_loss, test_acc = ensemble_model.evaluate(X_test_tensor, Y_test_tensor)\n",
        "print(f\"Test accuracy: {test_acc}\")\n"
      ]
    },
    {
      "cell_type": "code",
      "execution_count": null,
      "metadata": {
        "id": "hGh9_76xyZRg"
      },
      "outputs": [],
      "source": [
        "ensemble_model.save('ensemble_model.h5')\n",
        "print(\"Model loaded successfully!\")"
      ]
    },
    {
      "cell_type": "code",
      "execution_count": null,
      "metadata": {
        "id": "KiPR-I6yyYvf"
      },
      "outputs": [],
      "source": [
        "import numpy as np\n",
        "import tensorflow as tf\n",
        "from sklearn.metrics import r2_score, f1_score, confusion_matrix\n",
        "import seaborn as sns\n",
        "import matplotlib.pyplot as plt\n",
        "from sklearn.metrics import accuracy_score\n",
        "\n",
        "# Assuming your data is ready, e.g., X_test_tensor and Y_test_tensor\n",
        "\n",
        "# Make predictions\n",
        "y_pred = ensemble_model.predict(X_test_tensor)\n",
        "y_pred_classes = np.argmax(y_pred, axis=1)  # Convert the predictions to class labels\n"
      ]
    },
    {
      "cell_type": "code",
      "execution_count": null,
      "metadata": {
        "id": "5YaFwdaIK-0A"
      },
      "outputs": [],
      "source": [
        "\n",
        "# 1. **R2 Score** (more useful for regression, but still can be used for classification tasks)\n",
        "r2 = r2_score(Y_test_tensor, y_pred_classes)\n",
        "print(f\"R2 Score: {r2:.4f}\")\n"
      ]
    },
    {
      "cell_type": "code",
      "execution_count": null,
      "metadata": {
        "id": "7ovRcM9LK-0B"
      },
      "outputs": [],
      "source": [
        "\n",
        "# # 2. **F1 Score**\n",
        "# f1 = f1_score(Y_test_tensor, y_pred_classes, average='weighted')  # Use 'macro' or 'weighted' for multi-class\n",
        "# print(f\"F1 Score: {f1:.4f}\")\n",
        "\n",
        "# Compute precision, recall, and F1 score\n",
        "precision = precision_score(Y_test, y_pred_classes, average='weighted')\n",
        "recall = recall_score(Y_test, y_pred_classes, average='weighted')\n",
        "f1 = f1_score(Y_test, y_pred_classes, average='weighted')\n",
        "\n",
        "# Print metrics\n",
        "print(\"\\nClassification Metrics:\")\n",
        "print(f\"Precision: {precision:.4f}\")\n",
        "print(f\"Recall: {recall:.4f}\")\n",
        "print(f\"F1 Score: {f1:.4f}\")\n",
        "\n",
        "# Classification report for detailed metrics per class\n",
        "print(\"\\nClassification Report:\")\n",
        "print(classification_report(Y_test, y_pred_classes))"
      ]
    },
    {
      "cell_type": "code",
      "execution_count": null,
      "metadata": {
        "id": "tyO8SUmKK-0B"
      },
      "outputs": [],
      "source": [
        "\n",
        "# 3. **Accuracy Score**\n",
        "accuracy = accuracy_score(Y_test_tensor, y_pred_classes)\n",
        "print(f\"Accuracy: {accuracy:.4f}\")\n"
      ]
    },
    {
      "cell_type": "code",
      "execution_count": null,
      "metadata": {
        "id": "nH7dZGp_K-0B"
      },
      "outputs": [],
      "source": [
        "\n",
        "# 4. **Confusion Matrix**\n",
        "cm = confusion_matrix(Y_test_tensor, y_pred_classes)\n",
        "\n",
        "# Plot Confusion Matrix with Heatmap\n",
        "plt.figure(figsize=(8, 6))\n",
        "sns.heatmap(cm, annot=True, fmt='d', cmap='Blues', xticklabels=['Class 0', 'Class 1', 'Class 2'],\n",
        "            yticklabels=['Class 0', 'Class 1', 'Class 2'])\n",
        "plt.title('Confusion Matrix')\n",
        "plt.ylabel('True Label')\n",
        "plt.xlabel('Predicted Label')\n",
        "plt.show()\n"
      ]
    },
    {
      "cell_type": "code",
      "execution_count": null,
      "metadata": {
        "id": "5jqPSnDxK-0B"
      },
      "outputs": [],
      "source": [
        "\n",
        "# # 5. **Correlation Matrix** (usually used for features, but here you can use confusion matrix for classification)\n",
        "# # This is more applicable if you're dealing with continuous data features.\n",
        "# corr_matrix = np.corrcoef(X_test_tensor.numpy().T)\n",
        "# sns.heatmap(corr_matrix, annot=True, cmap='coolwarm', fmt=\".2f\")\n",
        "# plt.title('Correlation Matrix of Features')\n",
        "# plt.show()\n"
      ]
    },
    {
      "cell_type": "code",
      "execution_count": null,
      "metadata": {
        "id": "WQYSRYhCK-0C"
      },
      "outputs": [],
      "source": [
        "\n",
        "# # 6. **Precision-Recall Curve**\n",
        "# from sklearn.metrics import precision_recall_curve\n",
        "# from sklearn.metrics import average_precision_score\n",
        "\n",
        "# precision, recall, _ = precision_recall_curve(Y_test_tensor, y_pred_classes)\n",
        "# average_precision = average_precision_score(Y_test_tensor, y_pred_classes)\n",
        "\n",
        "# # Plot Precision-Recall Curve\n",
        "# plt.figure(figsize=(8, 6))\n",
        "# plt.plot(recall, precision, color='b', label=f'Average Precision: {average_precision:.2f}')\n",
        "# plt.xlabel('Recall')\n",
        "# plt.ylabel('Precision')\n",
        "# plt.title('Precision-Recall Curve')\n",
        "# plt.legend()\n",
        "# plt.show()\n"
      ]
    },
    {
      "cell_type": "code",
      "execution_count": null,
      "metadata": {
        "id": "OiCS523yK-0C"
      },
      "outputs": [],
      "source": [
        "\n",
        "# 7. **ROC Curve and AUC**\n",
        "from sklearn.metrics import roc_curve, auc\n",
        "\n",
        "fpr, tpr, thresholds = roc_curve(Y_test_tensor, y_pred_classes, pos_label=1)\n",
        "roc_auc = auc(fpr, tpr)\n",
        "\n",
        "# Plot ROC Curve\n",
        "plt.figure(figsize=(8, 6))\n",
        "plt.plot(fpr, tpr, color='b', label=f'AUC: {roc_auc:.2f}')\n",
        "plt.plot([0, 1], [0, 1], color='r', linestyle='--')\n",
        "plt.xlabel('False Positive Rate')\n",
        "plt.ylabel('True Positive Rate')\n",
        "plt.title('ROC Curve')\n",
        "plt.legend()\n",
        "plt.show()\n"
      ]
    },
    {
      "cell_type": "markdown",
      "metadata": {
        "id": "yNxo8ZPlVvRb"
      },
      "source": [
        "#K-Fold"
      ]
    },
    {
      "cell_type": "code",
      "execution_count": null,
      "metadata": {
        "id": "TlZ9cpWuV_ss"
      },
      "outputs": [],
      "source": [
        "from sklearn.model_selection import KFold\n",
        "import tensorflow as tf\n",
        "from tensorflow.keras import layers, models\n",
        "from tensorflow.keras.applications import ResNet50, EfficientNetB0\n",
        "import numpy as np\n",
        "import matplotlib.pyplot as plt\n",
        "from tensorflow.keras.callbacks import Callback\n"
      ]
    },
    {
      "cell_type": "code",
      "execution_count": null,
      "metadata": {
        "id": "LVdG35VrK-0C"
      },
      "outputs": [],
      "source": [
        "\n",
        "# Parameters for K-Fold\n",
        "k_folds = 5  # Number of folds\n",
        "batch_size = 32\n",
        "epochs = 10\n",
        "num_classes = 3  # Number of classes in the dataset\n",
        "\n",
        "# Scale the data to [0, 1] range\n",
        "X_scaled = X / 255.0\n",
        "\n",
        "# Convert to TensorFlow tensors\n",
        "X_tensor = tf.convert_to_tensor(X_scaled, dtype=tf.float32)\n",
        "Y_tensor = tf.convert_to_tensor(Y, dtype=tf.int64)\n"
      ]
    },
    {
      "cell_type": "code",
      "execution_count": null,
      "metadata": {
        "id": "4DawbvOrK-0D"
      },
      "outputs": [],
      "source": [
        "\n",
        "# Build CNN Model\n",
        "def build_cnn_model():\n",
        "    model = models.Sequential([\n",
        "        layers.Conv2D(32, (3, 3), activation='relu', input_shape=(256, 256, 3), name=\"conv2d_1\"),\n",
        "        layers.MaxPooling2D(name=\"maxpool_1\"),\n",
        "        layers.Conv2D(64, (3, 3), activation='relu', name=\"conv2d_2\"),\n",
        "        layers.MaxPooling2D(name=\"maxpool_2\"),\n",
        "        layers.Flatten(name=\"flatten\"),\n",
        "        layers.Dense(128, activation='relu', name=\"dense_1\"),\n",
        "        layers.Dense(num_classes, activation='softmax', name=\"output\")\n",
        "    ])\n",
        "    return model\n",
        "\n",
        "# Build ResNet Model (Pretrained)\n",
        "def build_resnet_model():\n",
        "    base_model = ResNet50(weights='imagenet', include_top=False, input_shape=(256, 256, 3))\n",
        "    base_model.trainable = False\n",
        "    model = models.Sequential([\n",
        "        base_model,\n",
        "        layers.GlobalAveragePooling2D(name=\"global_avg_pool\"),\n",
        "        layers.Dense(num_classes, activation='softmax', name=\"output\")\n",
        "    ])\n",
        "    return model\n",
        "\n",
        "# Build EfficientNet Model (Pretrained)\n",
        "def build_efficientnet_model():\n",
        "    base_model = EfficientNetB0(weights='imagenet', include_top=False, input_shape=(256, 256, 3))\n",
        "    base_model.trainable = False\n",
        "    model = models.Sequential([\n",
        "        base_model,\n",
        "        layers.GlobalAveragePooling2D(name=\"global_avg_pool\"),\n",
        "        layers.Dense(num_classes, activation='softmax', name=\"output\")\n",
        "    ])\n",
        "    return model\n"
      ]
    },
    {
      "cell_type": "code",
      "execution_count": null,
      "metadata": {
        "id": "GmecgSGxK-0D"
      },
      "outputs": [],
      "source": [
        "\n",
        "# Create the Ensemble Model\n",
        "class EnsembleModel(tf.keras.Model):\n",
        "    def __init__(self, models):\n",
        "        super(EnsembleModel, self).__init__()\n",
        "        self.models = models\n",
        "\n",
        "    def call(self, inputs):\n",
        "        outputs = [model(inputs) for model in self.models]\n",
        "        return tf.reduce_mean(outputs, axis=0)  # Averaging the outputs\n",
        "\n",
        "# Visualization Callback\n",
        "class FeatureMapVisualizer(Callback):\n",
        "    def __init__(self, model, X_train, num_images=1, layer_names=None):\n",
        "        self.model = model\n",
        "        self.X_train = X_train[:num_images]\n",
        "        self.layer_names = layer_names or [\"conv2d_1\", \"conv2d_2\"]\n",
        "\n",
        "    def on_epoch_end(self, epoch, logs=None):\n",
        "        for layer_name in self.layer_names:\n",
        "            self.visualize_layer(layer_name, epoch)\n",
        "\n",
        "    def visualize_layer(self, layer_name, epoch):\n",
        "        layer_output = self.model.get_layer(layer_name).output\n",
        "        feature_map_model = tf.keras.models.Model(inputs=self.model.input, outputs=layer_output)\n",
        "\n",
        "        # Get feature maps\n",
        "        feature_maps = feature_map_model.predict(self.X_train)\n",
        "\n",
        "        # Plot the feature maps\n",
        "        num_feature_maps = feature_maps.shape[-1]\n",
        "        num_columns = 8\n",
        "        num_rows = num_feature_maps // num_columns + (num_feature_maps % num_columns != 0)\n",
        "        plt.figure(figsize=(15, 15))\n",
        "\n",
        "        for i in range(num_feature_maps):\n",
        "            plt.subplot(num_rows, num_columns, i + 1)\n",
        "            plt.imshow(feature_maps[0, :, :, i], cmap='gray')\n",
        "            plt.axis('off')\n",
        "\n",
        "        plt.suptitle(f\"Feature Maps for Layer {layer_name} - Epoch {epoch + 1}\")\n",
        "        plt.show()\n"
      ]
    },
    {
      "cell_type": "code",
      "execution_count": null,
      "metadata": {
        "id": "Znr7nFCEV44m"
      },
      "outputs": [],
      "source": [
        "# Instantiate individual models\n",
        "cnn_model = build_cnn_model()\n",
        "resnet_model = build_resnet_model()\n",
        "efficientnet_model = build_efficientnet_model()\n",
        "\n",
        "# Create the ensemble model\n",
        "ensemble_model = EnsembleModel([cnn_model, resnet_model, efficientnet_model])\n"
      ]
    },
    {
      "cell_type": "markdown",
      "metadata": {
        "id": "4hApnsXlK-0D"
      },
      "source": [
        "#Adam"
      ]
    },
    {
      "cell_type": "code",
      "execution_count": null,
      "metadata": {
        "id": "V2CvWQAxK-0D"
      },
      "outputs": [],
      "source": [
        "\n",
        "# Compile the ensemble model\n",
        "ensemble_model.compile(optimizer='adam',\n",
        "                       loss='sparse_categorical_crossentropy',\n",
        "                       metrics=['accuracy'])\n"
      ]
    },
    {
      "cell_type": "code",
      "execution_count": null,
      "metadata": {
        "id": "Xk7JHoz2K-0D"
      },
      "outputs": [],
      "source": [
        "\n",
        "# K-Fold Cross-Validation\n",
        "kf = KFold(n_splits=k_folds, shuffle=True, random_state=42)\n",
        "\n",
        "fold = 1\n",
        "for train_index, val_index in kf.split(X_tensor):\n",
        "    print(f\"\\nTraining on Fold {fold}/{k_folds}...\")\n",
        "\n",
        "    # Split data into training and validation sets for this fold\n",
        "    X_train_fold, X_val_fold = X_tensor[train_index], X_tensor[val_index]\n",
        "    Y_train_fold, Y_val_fold = Y_tensor[train_index], Y_tensor[val_index]\n",
        "\n",
        "    # Visualizer callback to see feature maps for each convolutional layer\n",
        "    visualizer = FeatureMapVisualizer(ensemble_model, X_train_fold.numpy(), layer_names=[\"conv2d_1\", \"conv2d_2\"])\n",
        "\n",
        "\n",
        "    # Train the ensemble model on this fold\n",
        "    history = ensemble_model.fit(\n",
        "        X_train_fold,\n",
        "        Y_train_fold,\n",
        "        validation_data=(X_val_fold, Y_val_fold),\n",
        "        epochs=epochs,\n",
        "        batch_size=batch_size,\n",
        "        callbacks=[visualizer]\n",
        "    )\n",
        "\n",
        "    # Evaluate the model on the validation set\n",
        "    val_loss, val_acc = ensemble_model.evaluate(X_val_fold, Y_val_fold)\n",
        "    print(f\"Fold {fold} - Validation Accuracy: {val_acc}\")\n",
        "\n",
        "    fold += 1\n",
        "\n",
        "# Final Evaluation\n",
        "print(\"\\nFinal Evaluation on Test Set...\")\n",
        "test_loss, test_acc = ensemble_model.evaluate(X_test_tensor, Y_test_tensor)\n",
        "print(f\"Test Accuracy: {test_acc}\")\n",
        "\n",
        "\n",
        "# Plot Training History\n",
        "def plot_training_history(history):\n",
        "    plt.figure(figsize=(12, 6))\n",
        "\n",
        "    # Accuracy\n",
        "    plt.subplot(1, 2, 1)\n",
        "    plt.plot(history.history['accuracy'], label='Train Accuracy')\n",
        "    plt.plot(history.history['val_accuracy'], label='Validation Accuracy')\n",
        "    plt.xlabel('Epochs')\n",
        "    plt.ylabel('Accuracy')\n",
        "    plt.title('Training and Validation Accuracy')\n",
        "    plt.legend()\n",
        "\n",
        "    # Loss\n",
        "    plt.subplot(1, 2, 2)\n",
        "    plt.plot(history.history['loss'], label='Train Loss')\n",
        "    plt.plot(history.history['val_loss'], label='Validation Loss')\n",
        "    plt.xlabel('Epochs')\n",
        "    plt.ylabel('Loss')\n",
        "    plt.title('Training and Validation Loss')\n",
        "    plt.legend()\n",
        "\n",
        "    plt.show()\n",
        "\n",
        "# Call the plotting function with the last fold's history\n",
        "plot_training_history(history)"
      ]
    },
    {
      "cell_type": "code",
      "execution_count": null,
      "metadata": {
        "id": "lAsvPSwYV4ul"
      },
      "outputs": [],
      "source": [
        "ensemble_model.save('ensemble_model_Kfold.h5')\n",
        "print(\"Model loaded successfully!\")"
      ]
    },
    {
      "cell_type": "markdown",
      "metadata": {
        "id": "99Q0kwY_K-0E"
      },
      "source": [
        "#RMSprop"
      ]
    },
    {
      "cell_type": "code",
      "execution_count": null,
      "metadata": {
        "id": "5hSmLzpPK-0E"
      },
      "outputs": [],
      "source": [
        "from tensorflow.keras.optimizers import RMSprop\n",
        "\n",
        "# Compile the ensemble model with RMSprop and custom learning rate\n",
        "ensemble_model.compile(optimizer=RMSprop(learning_rate=1e-4),  # You can adjust the learning rate as needed\n",
        "                       loss='sparse_categorical_crossentropy',\n",
        "                       metrics=['accuracy'])\n"
      ]
    },
    {
      "cell_type": "code",
      "execution_count": null,
      "metadata": {
        "id": "WADea3m0K-0E"
      },
      "outputs": [],
      "source": [
        "\n",
        "# K-Fold Cross-Validation\n",
        "kf = KFold(n_splits=k_folds, shuffle=True, random_state=42)\n",
        "\n",
        "fold = 1\n",
        "for train_index, val_index in kf.split(X_tensor):\n",
        "    print(f\"\\nTraining on Fold {fold}/{k_folds}...\")\n",
        "\n",
        "    # Split data into training and validation sets for this fold\n",
        "    X_train_fold, X_val_fold = X_tensor[train_index], X_tensor[val_index]\n",
        "    Y_train_fold, Y_val_fold = Y_tensor[train_index], Y_tensor[val_index]\n",
        "\n",
        "    # Visualizer callback to see feature maps for each convolutional layer\n",
        "    visualizer = FeatureMapVisualizer(ensemble_model, X_train_fold.numpy(), layer_names=[\"conv2d_1\", \"conv2d_2\"])\n",
        "\n",
        "\n",
        "    # Train the ensemble model on this fold\n",
        "    history = ensemble_model.fit(\n",
        "        X_train_fold,\n",
        "        Y_train_fold,\n",
        "        validation_data=(X_val_fold, Y_val_fold),\n",
        "        epochs=epochs,\n",
        "        batch_size=batch_size,\n",
        "        callbacks=[visualizer]\n",
        "    )\n",
        "\n",
        "    # Evaluate the model on the validation set\n",
        "    val_loss, val_acc = ensemble_model.evaluate(X_val_fold, Y_val_fold)\n",
        "    print(f\"Fold {fold} - Validation Accuracy: {val_acc}\")\n",
        "\n",
        "    fold += 1\n",
        "\n",
        "# Final Evaluation\n",
        "print(\"\\nFinal Evaluation on Test Set...\")\n",
        "test_loss, test_acc = ensemble_model.evaluate(X_test_tensor, Y_test_tensor)\n",
        "print(f\"Test Accuracy: {test_acc}\")\n",
        "\n",
        "\n",
        "# Plot Training History\n",
        "def plot_training_history(history):\n",
        "    plt.figure(figsize=(12, 6))\n",
        "\n",
        "    # Accuracy\n",
        "    plt.subplot(1, 2, 1)\n",
        "    plt.plot(history.history['accuracy'], label='Train Accuracy')\n",
        "    plt.plot(history.history['val_accuracy'], label='Validation Accuracy')\n",
        "    plt.xlabel('Epochs')\n",
        "    plt.ylabel('Accuracy')\n",
        "    plt.title('Training and Validation Accuracy')\n",
        "    plt.legend()\n",
        "\n",
        "    # Loss\n",
        "    plt.subplot(1, 2, 2)\n",
        "    plt.plot(history.history['loss'], label='Train Loss')\n",
        "    plt.plot(history.history['val_loss'], label='Validation Loss')\n",
        "    plt.xlabel('Epochs')\n",
        "    plt.ylabel('Loss')\n",
        "    plt.title('Training and Validation Loss')\n",
        "    plt.legend()\n",
        "\n",
        "    plt.show()\n",
        "\n",
        "# Call the plotting function with the last fold's history\n",
        "plot_training_history(history)"
      ]
    },
    {
      "cell_type": "code",
      "execution_count": null,
      "metadata": {
        "id": "-Ndn6mw2K-0F"
      },
      "outputs": [],
      "source": [
        "ensemble_model.save('ensemble_model_Kfold.h5')\n",
        "print(\"Model loaded successfully!\")"
      ]
    }
  ],
  "metadata": {
    "accelerator": "GPU",
    "colab": {
      "gpuType": "A100",
      "machine_shape": "hm",
      "provenance": []
    },
    "kernelspec": {
      "display_name": "Python 3",
      "name": "python3"
    },
    "language_info": {
      "codemirror_mode": {
        "name": "ipython",
        "version": 3
      },
      "file_extension": ".py",
      "mimetype": "text/x-python",
      "name": "python",
      "nbconvert_exporter": "python",
      "pygments_lexer": "ipython3",
      "version": "3.12.3"
    }
  },
  "nbformat": 4,
  "nbformat_minor": 0
}