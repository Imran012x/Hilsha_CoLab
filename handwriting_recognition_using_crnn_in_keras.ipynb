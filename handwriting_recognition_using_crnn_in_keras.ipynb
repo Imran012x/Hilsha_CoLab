{
  "cells": [
    {
      "cell_type": "markdown",
      "metadata": {
        "id": "view-in-github",
        "colab_type": "text"
      },
      "source": [
        "<a href=\"https://colab.research.google.com/github/Imran012x/Hilsha_CoLab/blob/main/handwriting_recognition_using_crnn_in_keras.ipynb\" target=\"_parent\"><img src=\"https://colab.research.google.com/assets/colab-badge.svg\" alt=\"Open In Colab\"/></a>"
      ]
    },
    {
      "cell_type": "markdown",
      "metadata": {
        "id": "PZUwY6KmqCyg"
      },
      "source": [
        "In this notebook, we'll go through the steps to train a CRNN (CNN+RNN) model for handwriting recognition. The model will be trained using the CTC(Connectionist Temporal Classification) loss.\n",
        "\n",
        "\n",
        "![Webp.net-resizeimage.jpg](attachment:Webp.net-resizeimage.jpg)"
      ]
    },
    {
      "cell_type": "code",
      "source": [
        "# !pip install kora\n",
        "# from kora import files\n",
        "# files.upload_dir()  # This opens a file browser to select a folder.\n"
      ],
      "metadata": {
        "id": "-xPwEqX-quiW"
      },
      "execution_count": null,
      "outputs": []
    },
    {
      "cell_type": "code",
      "source": [],
      "metadata": {
        "id": "ZeU-yuQWquXK"
      },
      "execution_count": null,
      "outputs": []
    },
    {
      "cell_type": "code",
      "source": [
        "from google.colab import files\n",
        "uploaded = files.upload()  # This allows you to select and upload the .zip file.\n"
      ],
      "metadata": {
        "colab": {
          "base_uri": "https://localhost:8080/",
          "height": 73
        },
        "id": "SKh_YlE7qb7w",
        "outputId": "f2329ce8-a978-4add-ad11-4c681eb12eeb"
      },
      "execution_count": 1,
      "outputs": [
        {
          "output_type": "display_data",
          "data": {
            "text/plain": [
              "<IPython.core.display.HTML object>"
            ],
            "text/html": [
              "\n",
              "     <input type=\"file\" id=\"files-2e148071-4bc4-4469-9c53-f421fde30a8e\" name=\"files[]\" multiple disabled\n",
              "        style=\"border:none\" />\n",
              "     <output id=\"result-2e148071-4bc4-4469-9c53-f421fde30a8e\">\n",
              "      Upload widget is only available when the cell has been executed in the\n",
              "      current browser session. Please rerun this cell to enable.\n",
              "      </output>\n",
              "      <script>// Copyright 2017 Google LLC\n",
              "//\n",
              "// Licensed under the Apache License, Version 2.0 (the \"License\");\n",
              "// you may not use this file except in compliance with the License.\n",
              "// You may obtain a copy of the License at\n",
              "//\n",
              "//      http://www.apache.org/licenses/LICENSE-2.0\n",
              "//\n",
              "// Unless required by applicable law or agreed to in writing, software\n",
              "// distributed under the License is distributed on an \"AS IS\" BASIS,\n",
              "// WITHOUT WARRANTIES OR CONDITIONS OF ANY KIND, either express or implied.\n",
              "// See the License for the specific language governing permissions and\n",
              "// limitations under the License.\n",
              "\n",
              "/**\n",
              " * @fileoverview Helpers for google.colab Python module.\n",
              " */\n",
              "(function(scope) {\n",
              "function span(text, styleAttributes = {}) {\n",
              "  const element = document.createElement('span');\n",
              "  element.textContent = text;\n",
              "  for (const key of Object.keys(styleAttributes)) {\n",
              "    element.style[key] = styleAttributes[key];\n",
              "  }\n",
              "  return element;\n",
              "}\n",
              "\n",
              "// Max number of bytes which will be uploaded at a time.\n",
              "const MAX_PAYLOAD_SIZE = 100 * 1024;\n",
              "\n",
              "function _uploadFiles(inputId, outputId) {\n",
              "  const steps = uploadFilesStep(inputId, outputId);\n",
              "  const outputElement = document.getElementById(outputId);\n",
              "  // Cache steps on the outputElement to make it available for the next call\n",
              "  // to uploadFilesContinue from Python.\n",
              "  outputElement.steps = steps;\n",
              "\n",
              "  return _uploadFilesContinue(outputId);\n",
              "}\n",
              "\n",
              "// This is roughly an async generator (not supported in the browser yet),\n",
              "// where there are multiple asynchronous steps and the Python side is going\n",
              "// to poll for completion of each step.\n",
              "// This uses a Promise to block the python side on completion of each step,\n",
              "// then passes the result of the previous step as the input to the next step.\n",
              "function _uploadFilesContinue(outputId) {\n",
              "  const outputElement = document.getElementById(outputId);\n",
              "  const steps = outputElement.steps;\n",
              "\n",
              "  const next = steps.next(outputElement.lastPromiseValue);\n",
              "  return Promise.resolve(next.value.promise).then((value) => {\n",
              "    // Cache the last promise value to make it available to the next\n",
              "    // step of the generator.\n",
              "    outputElement.lastPromiseValue = value;\n",
              "    return next.value.response;\n",
              "  });\n",
              "}\n",
              "\n",
              "/**\n",
              " * Generator function which is called between each async step of the upload\n",
              " * process.\n",
              " * @param {string} inputId Element ID of the input file picker element.\n",
              " * @param {string} outputId Element ID of the output display.\n",
              " * @return {!Iterable<!Object>} Iterable of next steps.\n",
              " */\n",
              "function* uploadFilesStep(inputId, outputId) {\n",
              "  const inputElement = document.getElementById(inputId);\n",
              "  inputElement.disabled = false;\n",
              "\n",
              "  const outputElement = document.getElementById(outputId);\n",
              "  outputElement.innerHTML = '';\n",
              "\n",
              "  const pickedPromise = new Promise((resolve) => {\n",
              "    inputElement.addEventListener('change', (e) => {\n",
              "      resolve(e.target.files);\n",
              "    });\n",
              "  });\n",
              "\n",
              "  const cancel = document.createElement('button');\n",
              "  inputElement.parentElement.appendChild(cancel);\n",
              "  cancel.textContent = 'Cancel upload';\n",
              "  const cancelPromise = new Promise((resolve) => {\n",
              "    cancel.onclick = () => {\n",
              "      resolve(null);\n",
              "    };\n",
              "  });\n",
              "\n",
              "  // Wait for the user to pick the files.\n",
              "  const files = yield {\n",
              "    promise: Promise.race([pickedPromise, cancelPromise]),\n",
              "    response: {\n",
              "      action: 'starting',\n",
              "    }\n",
              "  };\n",
              "\n",
              "  cancel.remove();\n",
              "\n",
              "  // Disable the input element since further picks are not allowed.\n",
              "  inputElement.disabled = true;\n",
              "\n",
              "  if (!files) {\n",
              "    return {\n",
              "      response: {\n",
              "        action: 'complete',\n",
              "      }\n",
              "    };\n",
              "  }\n",
              "\n",
              "  for (const file of files) {\n",
              "    const li = document.createElement('li');\n",
              "    li.append(span(file.name, {fontWeight: 'bold'}));\n",
              "    li.append(span(\n",
              "        `(${file.type || 'n/a'}) - ${file.size} bytes, ` +\n",
              "        `last modified: ${\n",
              "            file.lastModifiedDate ? file.lastModifiedDate.toLocaleDateString() :\n",
              "                                    'n/a'} - `));\n",
              "    const percent = span('0% done');\n",
              "    li.appendChild(percent);\n",
              "\n",
              "    outputElement.appendChild(li);\n",
              "\n",
              "    const fileDataPromise = new Promise((resolve) => {\n",
              "      const reader = new FileReader();\n",
              "      reader.onload = (e) => {\n",
              "        resolve(e.target.result);\n",
              "      };\n",
              "      reader.readAsArrayBuffer(file);\n",
              "    });\n",
              "    // Wait for the data to be ready.\n",
              "    let fileData = yield {\n",
              "      promise: fileDataPromise,\n",
              "      response: {\n",
              "        action: 'continue',\n",
              "      }\n",
              "    };\n",
              "\n",
              "    // Use a chunked sending to avoid message size limits. See b/62115660.\n",
              "    let position = 0;\n",
              "    do {\n",
              "      const length = Math.min(fileData.byteLength - position, MAX_PAYLOAD_SIZE);\n",
              "      const chunk = new Uint8Array(fileData, position, length);\n",
              "      position += length;\n",
              "\n",
              "      const base64 = btoa(String.fromCharCode.apply(null, chunk));\n",
              "      yield {\n",
              "        response: {\n",
              "          action: 'append',\n",
              "          file: file.name,\n",
              "          data: base64,\n",
              "        },\n",
              "      };\n",
              "\n",
              "      let percentDone = fileData.byteLength === 0 ?\n",
              "          100 :\n",
              "          Math.round((position / fileData.byteLength) * 100);\n",
              "      percent.textContent = `${percentDone}% done`;\n",
              "\n",
              "    } while (position < fileData.byteLength);\n",
              "  }\n",
              "\n",
              "  // All done.\n",
              "  yield {\n",
              "    response: {\n",
              "      action: 'complete',\n",
              "    }\n",
              "  };\n",
              "}\n",
              "\n",
              "scope.google = scope.google || {};\n",
              "scope.google.colab = scope.google.colab || {};\n",
              "scope.google.colab._files = {\n",
              "  _uploadFiles,\n",
              "  _uploadFilesContinue,\n",
              "};\n",
              "})(self);\n",
              "</script> "
            ]
          },
          "metadata": {}
        },
        {
          "output_type": "stream",
          "name": "stdout",
          "text": [
            "Saving augment.zip to augment.zip\n"
          ]
        }
      ]
    },
    {
      "cell_type": "code",
      "source": [
        "import os\n",
        "import zipfile\n",
        "\n",
        "with zipfile.ZipFile('augment.zip', 'r') as zip_ref:\n",
        "    zip_ref.extractall('/content/sardin')\n"
      ],
      "metadata": {
        "id": "EpwUxqEDqb1p"
      },
      "execution_count": 2,
      "outputs": []
    },
    {
      "cell_type": "code",
      "source": [
        "from google.colab import drive\n",
        "drive.mount('/content/drive')"
      ],
      "metadata": {
        "id": "EFQNRFent6-I"
      },
      "execution_count": null,
      "outputs": []
    },
    {
      "cell_type": "code",
      "source": [],
      "metadata": {
        "id": "gndz-PZoqbwd"
      },
      "execution_count": null,
      "outputs": []
    },
    {
      "cell_type": "markdown",
      "metadata": {
        "id": "pMBnTxKUqCyk"
      },
      "source": [
        "Lets start by importing the necessary libraries. I'll be using Keras for building our CRNN model."
      ]
    },
    {
      "cell_type": "code",
      "execution_count": null,
      "metadata": {
        "_cell_guid": "79c7e3d0-c299-4dcb-8224-4455121ee9b0",
        "_uuid": "d629ff2d2480ee46fbb7e2d37f6b5fab8052498a",
        "execution": {
          "iopub.execute_input": "2023-03-20T07:12:34.445844Z",
          "iopub.status.busy": "2023-03-20T07:12:34.445486Z",
          "iopub.status.idle": "2023-03-20T07:12:39.855779Z",
          "shell.execute_reply": "2023-03-20T07:12:39.854883Z",
          "shell.execute_reply.started": "2023-03-20T07:12:34.445813Z"
        },
        "trusted": true,
        "id": "N1Ah0CouqCyl",
        "outputId": "b7991c75-e6b8-480d-fc59-0d0718a92365"
      },
      "outputs": [
        {
          "name": "stderr",
          "output_type": "stream",
          "text": [
            "2025-01-19 00:13:18.591498: I external/local_xla/xla/tsl/cuda/cudart_stub.cc:32] Could not find cuda drivers on your machine, GPU will not be used.\n",
            "2025-01-19 00:13:18.735620: I external/local_xla/xla/tsl/cuda/cudart_stub.cc:32] Could not find cuda drivers on your machine, GPU will not be used.\n",
            "2025-01-19 00:13:18.973114: E external/local_xla/xla/stream_executor/cuda/cuda_fft.cc:477] Unable to register cuFFT factory: Attempting to register factory for plugin cuFFT when one has already been registered\n",
            "WARNING: All log messages before absl::InitializeLog() is called are written to STDERR\n",
            "E0000 00:00:1737223999.102910  261047 cuda_dnn.cc:8310] Unable to register cuDNN factory: Attempting to register factory for plugin cuDNN when one has already been registered\n",
            "E0000 00:00:1737223999.131070  261047 cuda_blas.cc:1418] Unable to register cuBLAS factory: Attempting to register factory for plugin cuBLAS when one has already been registered\n",
            "2025-01-19 00:13:19.445543: I tensorflow/core/platform/cpu_feature_guard.cc:210] This TensorFlow binary is optimized to use available CPU instructions in performance-critical operations.\n",
            "To enable the following instructions: AVX2 FMA, in other operations, rebuild TensorFlow with the appropriate compiler flags.\n"
          ]
        }
      ],
      "source": [
        "import os\n",
        "import cv2\n",
        "import random\n",
        "import json\n",
        "import numpy as np\n",
        "import pandas as pd\n",
        "import matplotlib.pyplot as plt\n",
        "\n",
        "import tensorflow as tf\n",
        "from keras import backend as K\n",
        "from keras.models import Model\n",
        "from keras.layers import Input, Conv2D, MaxPooling2D, Reshape, Bidirectional, LSTM, Dense, Lambda, Activation, BatchNormalization, Dropout\n",
        "from keras.optimizers import Adam\n",
        "tf.config.run_functions_eagerly(True)"
      ]
    },
    {
      "cell_type": "markdown",
      "metadata": {
        "id": "TTsd7bZ6qCyo"
      },
      "source": [
        "## Load and view data"
      ]
    },
    {
      "cell_type": "code",
      "execution_count": null,
      "metadata": {
        "execution": {
          "iopub.execute_input": "2023-03-20T07:13:02.367993Z",
          "iopub.status.busy": "2023-03-20T07:13:02.367629Z",
          "iopub.status.idle": "2023-03-20T07:13:02.821154Z",
          "shell.execute_reply": "2023-03-20T07:13:02.820192Z",
          "shell.execute_reply.started": "2023-03-20T07:13:02.367961Z"
        },
        "trusted": true,
        "id": "FiRSy63cqCyo"
      },
      "outputs": [],
      "source": [
        "train = pd.read_csv('./written_name_train_v2.csv')\n",
        "valid = pd.read_csv('./written_name_validation_v2.csv')"
      ]
    },
    {
      "cell_type": "code",
      "execution_count": null,
      "metadata": {
        "execution": {
          "iopub.execute_input": "2023-03-20T07:13:03.786028Z",
          "iopub.status.busy": "2023-03-20T07:13:03.785661Z",
          "iopub.status.idle": "2023-03-20T07:13:03.793410Z",
          "shell.execute_reply": "2023-03-20T07:13:03.792223Z",
          "shell.execute_reply.started": "2023-03-20T07:13:03.785994Z"
        },
        "trusted": true,
        "id": "aTfgGcJGqCyp",
        "outputId": "2e76dfe2-49f9-465b-822d-04a23f01f1b0"
      },
      "outputs": [
        {
          "data": {
            "text/plain": [
              "(330961, 2)"
            ]
          },
          "execution_count": 3,
          "metadata": {},
          "output_type": "execute_result"
        }
      ],
      "source": [
        "train.shape"
      ]
    },
    {
      "cell_type": "code",
      "execution_count": null,
      "metadata": {
        "execution": {
          "iopub.execute_input": "2023-03-20T07:13:11.466969Z",
          "iopub.status.busy": "2023-03-20T07:13:11.466411Z",
          "iopub.status.idle": "2023-03-20T07:13:11.855482Z",
          "shell.execute_reply": "2023-03-20T07:13:11.854595Z",
          "shell.execute_reply.started": "2023-03-20T07:13:11.466930Z"
        },
        "trusted": true,
        "id": "poqHUKrbqCyp",
        "outputId": "93e09c3f-479e-48b7-fd8b-654494789690"
      },
      "outputs": [
        {
          "data": {
            "image/png": "[encoded data removed]",
            "text/plain": [
              "<Figure size 1500x1000 with 6 Axes>"
            ]
          },
          "metadata": {},
          "output_type": "display_data"
        }
      ],
      "source": [
        "plt.figure(figsize=(15, 10))\n",
        "\n",
        "for i in range(6):\n",
        "    ax = plt.subplot(2, 3, i+1)\n",
        "    img_dir = './train_v2/train/'+train.loc[i, 'FILENAME']\n",
        "    image = cv2.imread(img_dir, cv2.IMREAD_GRAYSCALE)\n",
        "    plt.imshow(image, cmap = 'gray')\n",
        "    plt.title(train.loc[i, 'IDENTITY'], fontsize=12)\n",
        "    plt.axis('off')\n",
        "\n",
        "plt.subplots_adjust(wspace=0.2, hspace=-0.8)"
      ]
    },
    {
      "cell_type": "markdown",
      "metadata": {
        "id": "on9zK3sKqCyq"
      },
      "source": [
        "## Cleaning Data"
      ]
    },
    {
      "cell_type": "markdown",
      "metadata": {
        "id": "CjovpfCwqCyq"
      },
      "source": [
        "Let's check for NaNs in our label."
      ]
    },
    {
      "cell_type": "code",
      "execution_count": null,
      "metadata": {
        "execution": {
          "iopub.execute_input": "2023-03-20T07:13:11.999005Z",
          "iopub.status.busy": "2023-03-20T07:13:11.998676Z",
          "iopub.status.idle": "2023-03-20T07:13:12.025489Z",
          "shell.execute_reply": "2023-03-20T07:13:12.024531Z",
          "shell.execute_reply.started": "2023-03-20T07:13:11.998976Z"
        },
        "trusted": true,
        "id": "bK_uB-CSqCyr",
        "outputId": "f2f0ed08-394d-45d8-a91f-4dbd4b07dd7e"
      },
      "outputs": [
        {
          "name": "stdout",
          "output_type": "stream",
          "text": [
            "Number of NaNs in train set      :  565\n",
            "Number of NaNs in validation set :  78\n"
          ]
        }
      ],
      "source": [
        "print(\"Number of NaNs in train set      : \", train['IDENTITY'].isnull().sum())\n",
        "print(\"Number of NaNs in validation set : \", valid['IDENTITY'].isnull().sum())"
      ]
    },
    {
      "cell_type": "code",
      "execution_count": null,
      "metadata": {
        "execution": {
          "iopub.execute_input": "2023-03-20T07:13:12.156262Z",
          "iopub.status.busy": "2023-03-20T07:13:12.155941Z",
          "iopub.status.idle": "2023-03-20T07:13:12.232547Z",
          "shell.execute_reply": "2023-03-20T07:13:12.231643Z",
          "shell.execute_reply.started": "2023-03-20T07:13:12.156233Z"
        },
        "trusted": true,
        "id": "m2O3b5U8qCyr"
      },
      "outputs": [],
      "source": [
        "train.dropna(axis=0, inplace=True)\n",
        "valid.dropna(axis=0, inplace=True)"
      ]
    },
    {
      "cell_type": "markdown",
      "metadata": {
        "id": "kCvCCjAnqCys"
      },
      "source": [
        "Also, there are some images in our data with the label 'UNREADABLE'. Lets check those images and remove them."
      ]
    },
    {
      "cell_type": "code",
      "execution_count": null,
      "metadata": {
        "execution": {
          "iopub.execute_input": "2023-03-20T07:13:12.508285Z",
          "iopub.status.busy": "2023-03-20T07:13:12.507958Z",
          "iopub.status.idle": "2023-03-20T07:13:12.843758Z",
          "shell.execute_reply": "2023-03-20T07:13:12.842895Z",
          "shell.execute_reply.started": "2023-03-20T07:13:12.508255Z"
        },
        "trusted": true,
        "id": "x6TPn8ViqCys",
        "outputId": "c930c2f1-1a78-4d67-ffd8-bfea5ce6af77"
      },
      "outputs": [
        {
          "data": {
            "image/png": "[encoded data removed]",
            "text/plain": [
              "<Figure size 1500x1000 with 6 Axes>"
            ]
          },
          "metadata": {},
          "output_type": "display_data"
        }
      ],
      "source": [
        "unreadable = train[train['IDENTITY'] == 'UNREADABLE']\n",
        "unreadable.reset_index(inplace = True, drop=True)\n",
        "\n",
        "plt.figure(figsize=(15, 10))\n",
        "\n",
        "for i in range(6):\n",
        "    ax = plt.subplot(2, 3, i+1)\n",
        "    img_dir = './train_v2/train/'+unreadable.loc[i, 'FILENAME']\n",
        "    image = cv2.imread(img_dir, cv2.IMREAD_GRAYSCALE)\n",
        "    plt.imshow(image, cmap = 'gray')\n",
        "    plt.title(unreadable.loc[i, 'IDENTITY'], fontsize=12)\n",
        "    plt.axis('off')\n",
        "\n",
        "plt.subplots_adjust(wspace=0.2, hspace=-0.8)"
      ]
    },
    {
      "cell_type": "code",
      "execution_count": null,
      "metadata": {
        "execution": {
          "iopub.execute_input": "2023-03-20T07:13:12.846339Z",
          "iopub.status.busy": "2023-03-20T07:13:12.845917Z",
          "iopub.status.idle": "2023-03-20T07:13:12.896900Z",
          "shell.execute_reply": "2023-03-20T07:13:12.895994Z",
          "shell.execute_reply.started": "2023-03-20T07:13:12.846299Z"
        },
        "trusted": true,
        "id": "CCGr9OKSqCyt"
      },
      "outputs": [],
      "source": [
        "train = train[train['IDENTITY'] != 'UNREADABLE']\n",
        "valid = valid[valid['IDENTITY'] != 'UNREADABLE']"
      ]
    },
    {
      "cell_type": "markdown",
      "metadata": {
        "id": "YmZr6XNOqCyt"
      },
      "source": [
        "There are some labels which are in lowercase. To maintain uniformity in the labels, I convert all the labels to uppercase."
      ]
    },
    {
      "cell_type": "code",
      "execution_count": null,
      "metadata": {
        "execution": {
          "iopub.execute_input": "2023-03-20T07:13:13.017646Z",
          "iopub.status.busy": "2023-03-20T07:13:13.017269Z",
          "iopub.status.idle": "2023-03-20T07:13:13.181475Z",
          "shell.execute_reply": "2023-03-20T07:13:13.180503Z",
          "shell.execute_reply.started": "2023-03-20T07:13:13.017585Z"
        },
        "trusted": true,
        "id": "Et3VjNrTqCyt"
      },
      "outputs": [],
      "source": [
        "train['IDENTITY'] = train['IDENTITY'].str.upper()\n",
        "valid['IDENTITY'] = valid['IDENTITY'].str.upper()"
      ]
    },
    {
      "cell_type": "markdown",
      "metadata": {
        "id": "5s31GBTzqCyt"
      },
      "source": [
        "Reset the index and we are done with cleaning."
      ]
    },
    {
      "cell_type": "code",
      "execution_count": null,
      "metadata": {
        "execution": {
          "iopub.execute_input": "2023-03-20T07:13:13.384631Z",
          "iopub.status.busy": "2023-03-20T07:13:13.384290Z",
          "iopub.status.idle": "2023-03-20T07:13:13.389321Z",
          "shell.execute_reply": "2023-03-20T07:13:13.388370Z",
          "shell.execute_reply.started": "2023-03-20T07:13:13.384582Z"
        },
        "trusted": true,
        "id": "viSF_xvdqCyu"
      },
      "outputs": [],
      "source": [
        "train.reset_index(inplace = True, drop=True)\n",
        "valid.reset_index(inplace = True, drop=True)"
      ]
    },
    {
      "cell_type": "code",
      "execution_count": null,
      "metadata": {
        "execution": {
          "iopub.execute_input": "2023-03-20T07:13:13.536957Z",
          "iopub.status.busy": "2023-03-20T07:13:13.536575Z",
          "iopub.status.idle": "2023-03-20T07:13:13.543141Z",
          "shell.execute_reply": "2023-03-20T07:13:13.542031Z",
          "shell.execute_reply.started": "2023-03-20T07:13:13.536925Z"
        },
        "trusted": true,
        "id": "F4B5gMDHqCyu",
        "outputId": "1c963802-cf20-4da0-fdcc-3f5d6ed9fec3"
      },
      "outputs": [
        {
          "data": {
            "text/plain": [
              "2580.421875"
            ]
          },
          "execution_count": 11,
          "metadata": {},
          "output_type": "execute_result"
        }
      ],
      "source": [
        "train.shape[0]/128"
      ]
    },
    {
      "cell_type": "markdown",
      "metadata": {
        "id": "i2d65V-uqCyu"
      },
      "source": [
        "## Preprocessing and preparing the images for training"
      ]
    },
    {
      "cell_type": "markdown",
      "metadata": {
        "id": "qnRldzb5qCyu"
      },
      "source": [
        "* The images are loaded as grayscale and reshaped to width 256 and height 64.  \n",
        "* The width and height are cropped if they are greater than 256 and 64 respectively. If they are smaller, then the image is padded with white pixels. Finally the image is rotated clockwise to bring the image shape to (x, y).\n",
        "* The image is then normalized to range [0, 1]"
      ]
    },
    {
      "cell_type": "code",
      "execution_count": null,
      "metadata": {
        "execution": {
          "iopub.execute_input": "2023-03-20T07:13:14.053313Z",
          "iopub.status.busy": "2023-03-20T07:13:14.052976Z",
          "iopub.status.idle": "2023-03-20T07:13:14.059818Z",
          "shell.execute_reply": "2023-03-20T07:13:14.058725Z",
          "shell.execute_reply.started": "2023-03-20T07:13:14.053273Z"
        },
        "trusted": true,
        "id": "qYl1AJdbqCyu"
      },
      "outputs": [],
      "source": [
        "def preprocess(img):\n",
        "    (h, w) = img.shape\n",
        "\n",
        "    final_img = np.ones([64, 256])*255 # blank white image\n",
        "\n",
        "    # crop\n",
        "    if w > 256:\n",
        "        img = img[:, :256]\n",
        "\n",
        "    if h > 64:\n",
        "        img = img[:64, :]\n",
        "\n",
        "\n",
        "    final_img[:h, :w] = img\n",
        "    return cv2.rotate(final_img, cv2.ROTATE_90_CLOCKWISE)"
      ]
    },
    {
      "cell_type": "markdown",
      "metadata": {
        "id": "49no37duqCyv"
      },
      "source": [
        "The model will be trained on 30000 images and validate on 3000 images"
      ]
    },
    {
      "cell_type": "code",
      "execution_count": null,
      "metadata": {
        "execution": {
          "iopub.execute_input": "2023-03-20T07:13:14.420120Z",
          "iopub.status.busy": "2023-03-20T07:13:14.419600Z",
          "iopub.status.idle": "2023-03-20T07:13:14.425109Z",
          "shell.execute_reply": "2023-03-20T07:13:14.424078Z",
          "shell.execute_reply.started": "2023-03-20T07:13:14.420078Z"
        },
        "trusted": true,
        "id": "Eom-_lweqCyv"
      },
      "outputs": [],
      "source": [
        "# train_size = 30000\n",
        "valid_size= 3000"
      ]
    },
    {
      "cell_type": "code",
      "execution_count": null,
      "metadata": {
        "execution": {
          "iopub.execute_input": "2023-03-20T07:13:14.584975Z",
          "iopub.status.busy": "2023-03-20T07:13:14.584595Z",
          "iopub.status.idle": "2023-03-20T07:13:45.256575Z",
          "shell.execute_reply": "2023-03-20T07:13:45.255488Z",
          "shell.execute_reply.started": "2023-03-20T07:13:14.584943Z"
        },
        "trusted": true,
        "id": "0xdXwvqBqCyv"
      },
      "outputs": [],
      "source": [
        "valid_x = []\n",
        "\n",
        "for i in range(valid_size):\n",
        "    img_dir = './validation_v2/validation/'+valid.loc[i, 'FILENAME']\n",
        "    image = cv2.imread(img_dir, cv2.IMREAD_GRAYSCALE)\n",
        "    image = preprocess(image)\n",
        "    image = image/255.\n",
        "    valid_x.append(image)"
      ]
    },
    {
      "cell_type": "code",
      "execution_count": null,
      "metadata": {
        "execution": {
          "iopub.execute_input": "2023-03-20T07:13:45.258946Z",
          "iopub.status.busy": "2023-03-20T07:13:45.258517Z",
          "iopub.status.idle": "2023-03-20T07:13:45.384410Z",
          "shell.execute_reply": "2023-03-20T07:13:45.383486Z",
          "shell.execute_reply.started": "2023-03-20T07:13:45.258906Z"
        },
        "trusted": true,
        "id": "x7_U6daeqCyv"
      },
      "outputs": [],
      "source": [
        "# train_x = np.array(train_x).reshape(-1, 256, 64, 1)\n",
        "valid_x = np.array(valid_x).reshape(-1, 256, 64, 1)"
      ]
    },
    {
      "cell_type": "markdown",
      "metadata": {
        "id": "DNjuwUPzqCyw"
      },
      "source": [
        "## Preparing the labels for CTC Loss\n",
        "\n",
        "Learn more about CTC loss and why its amazing for text recognition from [here](https://theailearner.com/2019/05/29/connectionist-temporal-classificationctc/).\n",
        "\n",
        "The labels have to be converted to numbers which represent each character in the training set. The 'alphabets' consist of A-Z and three special characters (-  '  and space)."
      ]
    },
    {
      "cell_type": "code",
      "execution_count": null,
      "metadata": {
        "execution": {
          "iopub.execute_input": "2023-03-20T07:13:45.386390Z",
          "iopub.status.busy": "2023-03-20T07:13:45.385921Z",
          "iopub.status.idle": "2023-03-20T07:13:45.394815Z",
          "shell.execute_reply": "2023-03-20T07:13:45.393745Z",
          "shell.execute_reply.started": "2023-03-20T07:13:45.386349Z"
        },
        "trusted": true,
        "id": "F4H5rMPkqCyw"
      },
      "outputs": [],
      "source": [
        "alphabets = u\"ABCDEFGHIJKLMNOPQRSTUVWXYZ-' \"\n",
        "max_str_len = 24 # max length of input labels\n",
        "num_of_characters = len(alphabets) + 1 # +1 for ctc pseudo blank\n",
        "num_of_timestamps = 64 # max length of predicted labels\n",
        "batch_size = 128\n",
        "\n",
        "def label_to_num(label):\n",
        "    label_num = []\n",
        "    for ch in label:\n",
        "\n",
        "            label_num.append(alphabets.find(ch) if alphabets.find(ch)!=-1 else alphabets.find('-'))\n",
        "\n",
        "    return np.array(label_num)\n",
        "\n",
        "def num_to_label(num):\n",
        "    ret = \"\"\n",
        "    for ch in num:\n",
        "        if ch == -1:  # CTC Blank\n",
        "            break\n",
        "        else:\n",
        "            ret+=alphabets[ch]\n",
        "    return ret"
      ]
    },
    {
      "cell_type": "code",
      "execution_count": null,
      "metadata": {
        "execution": {
          "iopub.execute_input": "2023-03-20T07:13:45.396859Z",
          "iopub.status.busy": "2023-03-20T07:13:45.396340Z",
          "iopub.status.idle": "2023-03-20T07:13:45.409247Z",
          "shell.execute_reply": "2023-03-20T07:13:45.408218Z",
          "shell.execute_reply.started": "2023-03-20T07:13:45.396804Z"
        },
        "trusted": true,
        "id": "fbdMakcfqCyw",
        "outputId": "bae11273-9b2a-4fb1-a783-2f7256856392"
      },
      "outputs": [
        {
          "name": "stdout",
          "output_type": "stream",
          "text": [
            "JEBASTIN \n",
            " [ 9  4  1  0 18 19  8 13]\n"
          ]
        }
      ],
      "source": [
        "name = 'JEBASTIN'\n",
        "print(name, '\\n',label_to_num(name))"
      ]
    },
    {
      "cell_type": "markdown",
      "metadata": {
        "id": "4bXj_jXbqCyw"
      },
      "source": [
        "* **train_y** contains the true labels converted to numbers and padded with -1. The length of each label is equal to max_str_len.\n",
        "* **train_label_len** contains the length of each true label (without padding)\n",
        "* **train_input_len** contains the length of each predicted label. The length of all the predicted labels is constant i.e number of timestamps - 2.  \n",
        "* **train_output** is a dummy output for ctc loss.\n"
      ]
    },
    {
      "cell_type": "markdown",
      "metadata": {
        "id": "mJW5YscCqCyw"
      },
      "source": [
        "# Use gnerator for same purpose"
      ]
    },
    {
      "cell_type": "code",
      "execution_count": null,
      "metadata": {
        "execution": {
          "iopub.execute_input": "2023-03-20T07:13:45.413250Z",
          "iopub.status.busy": "2023-03-20T07:13:45.412872Z",
          "iopub.status.idle": "2023-03-20T07:13:45.420477Z",
          "shell.execute_reply": "2023-03-20T07:13:45.419219Z",
          "shell.execute_reply.started": "2023-03-20T07:13:45.413217Z"
        },
        "trusted": true,
        "id": "4ZtXwsYQqCyx",
        "outputId": "b092b630-183a-4955-eafd-f90a8c0e2931"
      },
      "outputs": [
        {
          "data": {
            "text/plain": [
              "(330294, 2)"
            ]
          },
          "execution_count": 18,
          "metadata": {},
          "output_type": "execute_result"
        }
      ],
      "source": [
        "train.shape"
      ]
    },
    {
      "cell_type": "code",
      "execution_count": null,
      "metadata": {
        "execution": {
          "iopub.execute_input": "2023-03-20T07:13:45.422952Z",
          "iopub.status.busy": "2023-03-20T07:13:45.422304Z",
          "iopub.status.idle": "2023-03-20T07:13:45.428039Z",
          "shell.execute_reply": "2023-03-20T07:13:45.427043Z",
          "shell.execute_reply.started": "2023-03-20T07:13:45.422856Z"
        },
        "trusted": true,
        "id": "q35A5Y20qCyx"
      },
      "outputs": [],
      "source": [
        "# path = '/kaggle/input/handwriting-recognition/train_v2/train/'\n",
        "\n",
        "# counts = []\n",
        "# for row, val in train.iloc[37000:40000].iterrows():\n",
        "# #     pass\n",
        "#     img_dir = os.path.join(path, val['FILENAME'])\n",
        "#     image = cv2.imread(img_dir, cv2.IMREAD_GRAYSCALE)\n",
        "#     counts.append(len(val['IDENTITY']))\n",
        "# print(counts)"
      ]
    },
    {
      "cell_type": "code",
      "execution_count": null,
      "metadata": {
        "execution": {
          "iopub.execute_input": "2023-03-20T07:13:45.430303Z",
          "iopub.status.busy": "2023-03-20T07:13:45.429425Z",
          "iopub.status.idle": "2023-03-20T07:13:45.438825Z",
          "shell.execute_reply": "2023-03-20T07:13:45.437726Z",
          "shell.execute_reply.started": "2023-03-20T07:13:45.430252Z"
        },
        "trusted": true,
        "id": "ObSkpGVXqCyx",
        "outputId": "c2cee08b-1804-486b-d550-5c46fec81a88"
      },
      "outputs": [
        {
          "data": {
            "text/plain": [
              "34"
            ]
          },
          "execution_count": 20,
          "metadata": {},
          "output_type": "execute_result"
        }
      ],
      "source": [
        "len(train.iloc[39128]['IDENTITY'])"
      ]
    },
    {
      "cell_type": "code",
      "execution_count": null,
      "metadata": {
        "execution": {
          "iopub.execute_input": "2023-03-20T07:13:45.441009Z",
          "iopub.status.busy": "2023-03-20T07:13:45.440301Z",
          "iopub.status.idle": "2023-03-20T07:13:45.450074Z",
          "shell.execute_reply": "2023-03-20T07:13:45.449109Z",
          "shell.execute_reply.started": "2023-03-20T07:13:45.440974Z"
        },
        "trusted": true,
        "id": "Vglbg1ZoqCyy"
      },
      "outputs": [],
      "source": [
        "directory = './train_v2/train/'\n",
        "\n",
        "def image_generator(path):\n",
        "        for row, val in  train.iterrows(): #need improvement\n",
        "#             try:\n",
        "                img_dir = os.path.join(path, val['FILENAME'])\n",
        "                image = cv2.imread(img_dir, cv2.IMREAD_GRAYSCALE)\n",
        "                image = preprocess(image)[..., np.newaxis]\n",
        "        #         print(image.shape)\n",
        "                image = image/255.\n",
        "                if image.shape !=(256,64,1):\n",
        "                    break\n",
        "        #         train_label_len[i] = len(train.loc[i, 'IDENTITY'])\n",
        "                if (len(val['IDENTITY'])>max_str_len):\n",
        "                    continue\n",
        "                labels = label_to_num(val['IDENTITY'])\n",
        "                yield (image, labels)\n",
        "#             except Exception as e:\n",
        "#                 continue\n"
      ]
    },
    {
      "cell_type": "code",
      "execution_count": null,
      "metadata": {
        "execution": {
          "iopub.execute_input": "2023-03-20T07:13:45.452176Z",
          "iopub.status.busy": "2023-03-20T07:13:45.451632Z",
          "iopub.status.idle": "2023-03-20T07:13:45.458752Z",
          "shell.execute_reply": "2023-03-20T07:13:45.457810Z",
          "shell.execute_reply.started": "2023-03-20T07:13:45.452142Z"
        },
        "trusted": true,
        "id": "Gsh6lxyFqCyy"
      },
      "outputs": [],
      "source": [
        "AUTOTUNE = tf.data.experimental.AUTOTUNE"
      ]
    },
    {
      "cell_type": "code",
      "execution_count": null,
      "metadata": {
        "trusted": true,
        "id": "oiQ85RvmqCyy"
      },
      "outputs": [],
      "source": []
    },
    {
      "cell_type": "code",
      "execution_count": null,
      "metadata": {
        "execution": {
          "iopub.execute_input": "2023-03-20T07:13:45.460969Z",
          "iopub.status.busy": "2023-03-20T07:13:45.460323Z",
          "iopub.status.idle": "2023-03-20T07:13:47.449374Z",
          "shell.execute_reply": "2023-03-20T07:13:47.448412Z",
          "shell.execute_reply.started": "2023-03-20T07:13:45.460934Z"
        },
        "trusted": true,
        "id": "T6ATjiEfqCyy",
        "outputId": "f0609304-d2ca-4134-c882-70701943370c"
      },
      "outputs": [
        {
          "name": "stdout",
          "output_type": "stream",
          "text": [
            "WARNING:tensorflow:From /tmp/ipykernel_261047/3327333757.py:4: calling DatasetV2.from_generator (from tensorflow.python.data.ops.dataset_ops) with output_types is deprecated and will be removed in a future version.\n",
            "Instructions for updating:\n",
            "Use output_signature instead\n"
          ]
        },
        {
          "name": "stderr",
          "output_type": "stream",
          "text": [
            "2025-01-19 00:13:29.425214: E external/local_xla/xla/stream_executor/cuda/cuda_driver.cc:152] failed call to cuInit: INTERNAL: CUDA error: Failed call to cuInit: UNKNOWN ERROR (303)\n",
            "/home/imran/Documents/Drive/VE/lib/python3.12/site-packages/tensorflow/python/data/ops/structured_function.py:258: UserWarning: Even though the `tf.config.experimental_run_functions_eagerly` option is set, this option does not apply to tf.data functions. To force eager execution of tf.data functions, please use `tf.data.experimental.enable_debug_mode()`.\n",
            "  warnings.warn(\n"
          ]
        }
      ],
      "source": [
        "# # dataset = tf.data.Dataset.from_generator(lambda: image_generator(directory), output_types=())\n",
        "# directory = '/kaggle/input/handwriting-recognition/train_v2/train/'\n",
        "\n",
        "dataset = tf.data.Dataset.from_generator(lambda: image_generator(directory), (tf.float32, tf.float32))# , ([256, 64,1], [None]))\n",
        "def foo(*val):\n",
        "    xl = val[0]\n",
        "    lab = val[1]\n",
        "    lab_len = len(lab)\n",
        "    one_pad = -tf.ones((max_str_len - lab_len))#*(-1)\n",
        "    y = tf.concat([lab, one_pad], -1)\n",
        "\n",
        "    return xl, y, [num_of_timestamps-2], [lab_len], [0]\n",
        "\n",
        "dataset = dataset.map(foo).batch(batch_size)\n",
        "dataset_final = dataset.map(lambda *x: (x[0:-1],x[-1])).prefetch(AUTOTUNE)\n"
      ]
    },
    {
      "cell_type": "code",
      "execution_count": null,
      "metadata": {
        "execution": {
          "iopub.execute_input": "2023-03-20T07:13:47.451491Z",
          "iopub.status.busy": "2023-03-20T07:13:47.451006Z",
          "iopub.status.idle": "2023-03-20T07:13:47.457055Z",
          "shell.execute_reply": "2023-03-20T07:13:47.455536Z",
          "shell.execute_reply.started": "2023-03-20T07:13:47.451451Z"
        },
        "trusted": true,
        "id": "QPQIIzssqCyz"
      },
      "outputs": [],
      "source": [
        "# # c = 0\n",
        "# for j in dataset_final:\n",
        "# #     c+=1\n",
        "# # #     if c>1:\n",
        "#     print(len(j))\n",
        "#     print(j[0][1])\n",
        "# #     print(j[0][0].shape, j[0][1].shape,  j[0][2].shape, j[0][3].shape, j[1].shape)\n",
        "# #     print(j[0][0].shape, j[0][1].shape,  j[0][2], j[0][3], j[1].shape)\n",
        "#     break"
      ]
    },
    {
      "cell_type": "code",
      "execution_count": null,
      "metadata": {
        "execution": {
          "iopub.execute_input": "2023-03-20T07:13:47.462480Z",
          "iopub.status.busy": "2023-03-20T07:13:47.460521Z",
          "iopub.status.idle": "2023-03-20T07:13:47.627354Z",
          "shell.execute_reply": "2023-03-20T07:13:47.626141Z",
          "shell.execute_reply.started": "2023-03-20T07:13:47.462434Z"
        },
        "trusted": true,
        "id": "as687JhqqCy6"
      },
      "outputs": [],
      "source": [
        "valid_y = np.ones([valid_size, max_str_len]) * -1\n",
        "valid_label_len = np.zeros([valid_size, 1])\n",
        "valid_input_len = np.ones([valid_size, 1]) * (num_of_timestamps-2)\n",
        "valid_output = np.zeros([valid_size])\n",
        "\n",
        "for i in range(valid_size):\n",
        "    valid_label_len[i] = len(valid.loc[i, 'IDENTITY'])\n",
        "    valid_y[i, 0:len(valid.loc[i, 'IDENTITY'])]= label_to_num(valid.loc[i, 'IDENTITY'])"
      ]
    },
    {
      "cell_type": "code",
      "execution_count": null,
      "metadata": {
        "execution": {
          "iopub.execute_input": "2023-03-20T07:13:47.633196Z",
          "iopub.status.busy": "2023-03-20T07:13:47.632839Z",
          "iopub.status.idle": "2023-03-20T07:13:47.642684Z",
          "shell.execute_reply": "2023-03-20T07:13:47.641666Z",
          "shell.execute_reply.started": "2023-03-20T07:13:47.633160Z"
        },
        "trusted": true,
        "id": "grz8tPiOqCy6"
      },
      "outputs": [],
      "source": [
        "# print('True label : ',train.loc[100, 'IDENTITY'] , '\\ntrain_y : ',train_y[100],'\\ntrain_label_len : ',train_label_len[100],\n",
        "#       '\\ntrain_input_len : ', train_input_len[100])"
      ]
    },
    {
      "cell_type": "markdown",
      "metadata": {
        "id": "2rZfSqzyqCy6"
      },
      "source": [
        "## Building our model\n"
      ]
    },
    {
      "cell_type": "code",
      "execution_count": null,
      "metadata": {
        "execution": {
          "iopub.execute_input": "2023-03-20T07:13:47.648666Z",
          "iopub.status.busy": "2023-03-20T07:13:47.647994Z",
          "iopub.status.idle": "2023-03-20T07:13:49.155224Z",
          "shell.execute_reply": "2023-03-20T07:13:49.154463Z",
          "shell.execute_reply.started": "2023-03-20T07:13:47.648626Z"
        },
        "trusted": true,
        "id": "NYLXwNaeqCy7",
        "outputId": "6506e6b4-e203-4c32-b520-5447edb8adcd"
      },
      "outputs": [
        {
          "data": {
            "text/html": [
              "<pre style=\"white-space:pre;overflow-x:auto;line-height:normal;font-family:Menlo,'DejaVu Sans Mono',consolas,'Courier New',monospace\"><span style=\"font-weight: bold\">Model: \"functional\"</span>\n",
              "</pre>\n"
            ],
            "text/plain": [
              "\u001b[1mModel: \"functional\"\u001b[0m\n"
            ]
          },
          "metadata": {},
          "output_type": "display_data"
        },
        {
          "data": {
            "text/html": [
              "<pre style=\"white-space:pre;overflow-x:auto;line-height:normal;font-family:Menlo,'DejaVu Sans Mono',consolas,'Courier New',monospace\">┏━━━━━━━━━━━━━━━━━━━━━━━━━━━━━━━━━┳━━━━━━━━━━━━━━━━━━━━━━━━┳━━━━━━━━━━━━━━━┓\n",
              "┃<span style=\"font-weight: bold\"> Layer (type)                    </span>┃<span style=\"font-weight: bold\"> Output Shape           </span>┃<span style=\"font-weight: bold\">       Param # </span>┃\n",
              "┡━━━━━━━━━━━━━━━━━━━━━━━━━━━━━━━━━╇━━━━━━━━━━━━━━━━━━━━━━━━╇━━━━━━━━━━━━━━━┩\n",
              "│ input (<span style=\"color: #0087ff; text-decoration-color: #0087ff\">InputLayer</span>)              │ (<span style=\"color: #00d7ff; text-decoration-color: #00d7ff\">None</span>, <span style=\"color: #00af00; text-decoration-color: #00af00\">256</span>, <span style=\"color: #00af00; text-decoration-color: #00af00\">64</span>, <span style=\"color: #00af00; text-decoration-color: #00af00\">1</span>)     │             <span style=\"color: #00af00; text-decoration-color: #00af00\">0</span> │\n",
              "├─────────────────────────────────┼────────────────────────┼───────────────┤\n",
              "│ conv1 (<span style=\"color: #0087ff; text-decoration-color: #0087ff\">Conv2D</span>)                  │ (<span style=\"color: #00d7ff; text-decoration-color: #00d7ff\">None</span>, <span style=\"color: #00af00; text-decoration-color: #00af00\">256</span>, <span style=\"color: #00af00; text-decoration-color: #00af00\">64</span>, <span style=\"color: #00af00; text-decoration-color: #00af00\">32</span>)    │           <span style=\"color: #00af00; text-decoration-color: #00af00\">320</span> │\n",
              "├─────────────────────────────────┼────────────────────────┼───────────────┤\n",
              "│ batch_normalization             │ (<span style=\"color: #00d7ff; text-decoration-color: #00d7ff\">None</span>, <span style=\"color: #00af00; text-decoration-color: #00af00\">256</span>, <span style=\"color: #00af00; text-decoration-color: #00af00\">64</span>, <span style=\"color: #00af00; text-decoration-color: #00af00\">32</span>)    │           <span style=\"color: #00af00; text-decoration-color: #00af00\">128</span> │\n",
              "│ (<span style=\"color: #0087ff; text-decoration-color: #0087ff\">BatchNormalization</span>)            │                        │               │\n",
              "├─────────────────────────────────┼────────────────────────┼───────────────┤\n",
              "│ activation (<span style=\"color: #0087ff; text-decoration-color: #0087ff\">Activation</span>)         │ (<span style=\"color: #00d7ff; text-decoration-color: #00d7ff\">None</span>, <span style=\"color: #00af00; text-decoration-color: #00af00\">256</span>, <span style=\"color: #00af00; text-decoration-color: #00af00\">64</span>, <span style=\"color: #00af00; text-decoration-color: #00af00\">32</span>)    │             <span style=\"color: #00af00; text-decoration-color: #00af00\">0</span> │\n",
              "├─────────────────────────────────┼────────────────────────┼───────────────┤\n",
              "│ max1 (<span style=\"color: #0087ff; text-decoration-color: #0087ff\">MaxPooling2D</span>)             │ (<span style=\"color: #00d7ff; text-decoration-color: #00d7ff\">None</span>, <span style=\"color: #00af00; text-decoration-color: #00af00\">128</span>, <span style=\"color: #00af00; text-decoration-color: #00af00\">32</span>, <span style=\"color: #00af00; text-decoration-color: #00af00\">32</span>)    │             <span style=\"color: #00af00; text-decoration-color: #00af00\">0</span> │\n",
              "├─────────────────────────────────┼────────────────────────┼───────────────┤\n",
              "│ conv2 (<span style=\"color: #0087ff; text-decoration-color: #0087ff\">Conv2D</span>)                  │ (<span style=\"color: #00d7ff; text-decoration-color: #00d7ff\">None</span>, <span style=\"color: #00af00; text-decoration-color: #00af00\">128</span>, <span style=\"color: #00af00; text-decoration-color: #00af00\">32</span>, <span style=\"color: #00af00; text-decoration-color: #00af00\">64</span>)    │        <span style=\"color: #00af00; text-decoration-color: #00af00\">18,496</span> │\n",
              "├─────────────────────────────────┼────────────────────────┼───────────────┤\n",
              "│ batch_normalization_1           │ (<span style=\"color: #00d7ff; text-decoration-color: #00d7ff\">None</span>, <span style=\"color: #00af00; text-decoration-color: #00af00\">128</span>, <span style=\"color: #00af00; text-decoration-color: #00af00\">32</span>, <span style=\"color: #00af00; text-decoration-color: #00af00\">64</span>)    │           <span style=\"color: #00af00; text-decoration-color: #00af00\">256</span> │\n",
              "│ (<span style=\"color: #0087ff; text-decoration-color: #0087ff\">BatchNormalization</span>)            │                        │               │\n",
              "├─────────────────────────────────┼────────────────────────┼───────────────┤\n",
              "│ activation_1 (<span style=\"color: #0087ff; text-decoration-color: #0087ff\">Activation</span>)       │ (<span style=\"color: #00d7ff; text-decoration-color: #00d7ff\">None</span>, <span style=\"color: #00af00; text-decoration-color: #00af00\">128</span>, <span style=\"color: #00af00; text-decoration-color: #00af00\">32</span>, <span style=\"color: #00af00; text-decoration-color: #00af00\">64</span>)    │             <span style=\"color: #00af00; text-decoration-color: #00af00\">0</span> │\n",
              "├─────────────────────────────────┼────────────────────────┼───────────────┤\n",
              "│ max2 (<span style=\"color: #0087ff; text-decoration-color: #0087ff\">MaxPooling2D</span>)             │ (<span style=\"color: #00d7ff; text-decoration-color: #00d7ff\">None</span>, <span style=\"color: #00af00; text-decoration-color: #00af00\">64</span>, <span style=\"color: #00af00; text-decoration-color: #00af00\">16</span>, <span style=\"color: #00af00; text-decoration-color: #00af00\">64</span>)     │             <span style=\"color: #00af00; text-decoration-color: #00af00\">0</span> │\n",
              "├─────────────────────────────────┼────────────────────────┼───────────────┤\n",
              "│ dropout (<span style=\"color: #0087ff; text-decoration-color: #0087ff\">Dropout</span>)               │ (<span style=\"color: #00d7ff; text-decoration-color: #00d7ff\">None</span>, <span style=\"color: #00af00; text-decoration-color: #00af00\">64</span>, <span style=\"color: #00af00; text-decoration-color: #00af00\">16</span>, <span style=\"color: #00af00; text-decoration-color: #00af00\">64</span>)     │             <span style=\"color: #00af00; text-decoration-color: #00af00\">0</span> │\n",
              "├─────────────────────────────────┼────────────────────────┼───────────────┤\n",
              "│ conv3 (<span style=\"color: #0087ff; text-decoration-color: #0087ff\">Conv2D</span>)                  │ (<span style=\"color: #00d7ff; text-decoration-color: #00d7ff\">None</span>, <span style=\"color: #00af00; text-decoration-color: #00af00\">64</span>, <span style=\"color: #00af00; text-decoration-color: #00af00\">16</span>, <span style=\"color: #00af00; text-decoration-color: #00af00\">128</span>)    │        <span style=\"color: #00af00; text-decoration-color: #00af00\">73,856</span> │\n",
              "├─────────────────────────────────┼────────────────────────┼───────────────┤\n",
              "│ batch_normalization_2           │ (<span style=\"color: #00d7ff; text-decoration-color: #00d7ff\">None</span>, <span style=\"color: #00af00; text-decoration-color: #00af00\">64</span>, <span style=\"color: #00af00; text-decoration-color: #00af00\">16</span>, <span style=\"color: #00af00; text-decoration-color: #00af00\">128</span>)    │           <span style=\"color: #00af00; text-decoration-color: #00af00\">512</span> │\n",
              "│ (<span style=\"color: #0087ff; text-decoration-color: #0087ff\">BatchNormalization</span>)            │                        │               │\n",
              "├─────────────────────────────────┼────────────────────────┼───────────────┤\n",
              "│ activation_2 (<span style=\"color: #0087ff; text-decoration-color: #0087ff\">Activation</span>)       │ (<span style=\"color: #00d7ff; text-decoration-color: #00d7ff\">None</span>, <span style=\"color: #00af00; text-decoration-color: #00af00\">64</span>, <span style=\"color: #00af00; text-decoration-color: #00af00\">16</span>, <span style=\"color: #00af00; text-decoration-color: #00af00\">128</span>)    │             <span style=\"color: #00af00; text-decoration-color: #00af00\">0</span> │\n",
              "├─────────────────────────────────┼────────────────────────┼───────────────┤\n",
              "│ max3 (<span style=\"color: #0087ff; text-decoration-color: #0087ff\">MaxPooling2D</span>)             │ (<span style=\"color: #00d7ff; text-decoration-color: #00d7ff\">None</span>, <span style=\"color: #00af00; text-decoration-color: #00af00\">64</span>, <span style=\"color: #00af00; text-decoration-color: #00af00\">8</span>, <span style=\"color: #00af00; text-decoration-color: #00af00\">128</span>)     │             <span style=\"color: #00af00; text-decoration-color: #00af00\">0</span> │\n",
              "├─────────────────────────────────┼────────────────────────┼───────────────┤\n",
              "│ dropout_1 (<span style=\"color: #0087ff; text-decoration-color: #0087ff\">Dropout</span>)             │ (<span style=\"color: #00d7ff; text-decoration-color: #00d7ff\">None</span>, <span style=\"color: #00af00; text-decoration-color: #00af00\">64</span>, <span style=\"color: #00af00; text-decoration-color: #00af00\">8</span>, <span style=\"color: #00af00; text-decoration-color: #00af00\">128</span>)     │             <span style=\"color: #00af00; text-decoration-color: #00af00\">0</span> │\n",
              "├─────────────────────────────────┼────────────────────────┼───────────────┤\n",
              "│ reshape (<span style=\"color: #0087ff; text-decoration-color: #0087ff\">Reshape</span>)               │ (<span style=\"color: #00d7ff; text-decoration-color: #00d7ff\">None</span>, <span style=\"color: #00af00; text-decoration-color: #00af00\">64</span>, <span style=\"color: #00af00; text-decoration-color: #00af00\">1024</span>)       │             <span style=\"color: #00af00; text-decoration-color: #00af00\">0</span> │\n",
              "├─────────────────────────────────┼────────────────────────┼───────────────┤\n",
              "│ dense1 (<span style=\"color: #0087ff; text-decoration-color: #0087ff\">Dense</span>)                  │ (<span style=\"color: #00d7ff; text-decoration-color: #00d7ff\">None</span>, <span style=\"color: #00af00; text-decoration-color: #00af00\">64</span>, <span style=\"color: #00af00; text-decoration-color: #00af00\">64</span>)         │        <span style=\"color: #00af00; text-decoration-color: #00af00\">65,600</span> │\n",
              "├─────────────────────────────────┼────────────────────────┼───────────────┤\n",
              "│ lstm1 (<span style=\"color: #0087ff; text-decoration-color: #0087ff\">Bidirectional</span>)           │ (<span style=\"color: #00d7ff; text-decoration-color: #00d7ff\">None</span>, <span style=\"color: #00af00; text-decoration-color: #00af00\">64</span>, <span style=\"color: #00af00; text-decoration-color: #00af00\">512</span>)        │       <span style=\"color: #00af00; text-decoration-color: #00af00\">657,408</span> │\n",
              "├─────────────────────────────────┼────────────────────────┼───────────────┤\n",
              "│ lstm2 (<span style=\"color: #0087ff; text-decoration-color: #0087ff\">Bidirectional</span>)           │ (<span style=\"color: #00d7ff; text-decoration-color: #00d7ff\">None</span>, <span style=\"color: #00af00; text-decoration-color: #00af00\">64</span>, <span style=\"color: #00af00; text-decoration-color: #00af00\">512</span>)        │     <span style=\"color: #00af00; text-decoration-color: #00af00\">1,574,912</span> │\n",
              "├─────────────────────────────────┼────────────────────────┼───────────────┤\n",
              "│ dense2 (<span style=\"color: #0087ff; text-decoration-color: #0087ff\">Dense</span>)                  │ (<span style=\"color: #00d7ff; text-decoration-color: #00d7ff\">None</span>, <span style=\"color: #00af00; text-decoration-color: #00af00\">64</span>, <span style=\"color: #00af00; text-decoration-color: #00af00\">30</span>)         │        <span style=\"color: #00af00; text-decoration-color: #00af00\">15,390</span> │\n",
              "├─────────────────────────────────┼────────────────────────┼───────────────┤\n",
              "│ softmax (<span style=\"color: #0087ff; text-decoration-color: #0087ff\">Activation</span>)            │ (<span style=\"color: #00d7ff; text-decoration-color: #00d7ff\">None</span>, <span style=\"color: #00af00; text-decoration-color: #00af00\">64</span>, <span style=\"color: #00af00; text-decoration-color: #00af00\">30</span>)         │             <span style=\"color: #00af00; text-decoration-color: #00af00\">0</span> │\n",
              "└─────────────────────────────────┴────────────────────────┴───────────────┘\n",
              "</pre>\n"
            ],
            "text/plain": [
              "┏━━━━━━━━━━━━━━━━━━━━━━━━━━━━━━━━━┳━━━━━━━━━━━━━━━━━━━━━━━━┳━━━━━━━━━━━━━━━┓\n",
              "┃\u001b[1m \u001b[0m\u001b[1mLayer (type)                   \u001b[0m\u001b[1m \u001b[0m┃\u001b[1m \u001b[0m\u001b[1mOutput Shape          \u001b[0m\u001b[1m \u001b[0m┃\u001b[1m \u001b[0m\u001b[1m      Param #\u001b[0m\u001b[1m \u001b[0m┃\n",
              "┡━━━━━━━━━━━━━━━━━━━━━━━━━━━━━━━━━╇━━━━━━━━━━━━━━━━━━━━━━━━╇━━━━━━━━━━━━━━━┩\n",
              "│ input (\u001b[38;5;33mInputLayer\u001b[0m)              │ (\u001b[38;5;45mNone\u001b[0m, \u001b[38;5;34m256\u001b[0m, \u001b[38;5;34m64\u001b[0m, \u001b[38;5;34m1\u001b[0m)     │             \u001b[38;5;34m0\u001b[0m │\n",
              "├─────────────────────────────────┼────────────────────────┼───────────────┤\n",
              "│ conv1 (\u001b[38;5;33mConv2D\u001b[0m)                  │ (\u001b[38;5;45mNone\u001b[0m, \u001b[38;5;34m256\u001b[0m, \u001b[38;5;34m64\u001b[0m, \u001b[38;5;34m32\u001b[0m)    │           \u001b[38;5;34m320\u001b[0m │\n",
              "├─────────────────────────────────┼────────────────────────┼───────────────┤\n",
              "│ batch_normalization             │ (\u001b[38;5;45mNone\u001b[0m, \u001b[38;5;34m256\u001b[0m, \u001b[38;5;34m64\u001b[0m, \u001b[38;5;34m32\u001b[0m)    │           \u001b[38;5;34m128\u001b[0m │\n",
              "│ (\u001b[38;5;33mBatchNormalization\u001b[0m)            │                        │               │\n",
              "├─────────────────────────────────┼────────────────────────┼───────────────┤\n",
              "│ activation (\u001b[38;5;33mActivation\u001b[0m)         │ (\u001b[38;5;45mNone\u001b[0m, \u001b[38;5;34m256\u001b[0m, \u001b[38;5;34m64\u001b[0m, \u001b[38;5;34m32\u001b[0m)    │             \u001b[38;5;34m0\u001b[0m │\n",
              "├─────────────────────────────────┼────────────────────────┼───────────────┤\n",
              "│ max1 (\u001b[38;5;33mMaxPooling2D\u001b[0m)             │ (\u001b[38;5;45mNone\u001b[0m, \u001b[38;5;34m128\u001b[0m, \u001b[38;5;34m32\u001b[0m, \u001b[38;5;34m32\u001b[0m)    │             \u001b[38;5;34m0\u001b[0m │\n",
              "├─────────────────────────────────┼────────────────────────┼───────────────┤\n",
              "│ conv2 (\u001b[38;5;33mConv2D\u001b[0m)                  │ (\u001b[38;5;45mNone\u001b[0m, \u001b[38;5;34m128\u001b[0m, \u001b[38;5;34m32\u001b[0m, \u001b[38;5;34m64\u001b[0m)    │        \u001b[38;5;34m18,496\u001b[0m │\n",
              "├─────────────────────────────────┼────────────────────────┼───────────────┤\n",
              "│ batch_normalization_1           │ (\u001b[38;5;45mNone\u001b[0m, \u001b[38;5;34m128\u001b[0m, \u001b[38;5;34m32\u001b[0m, \u001b[38;5;34m64\u001b[0m)    │           \u001b[38;5;34m256\u001b[0m │\n",
              "│ (\u001b[38;5;33mBatchNormalization\u001b[0m)            │                        │               │\n",
              "├─────────────────────────────────┼────────────────────────┼───────────────┤\n",
              "│ activation_1 (\u001b[38;5;33mActivation\u001b[0m)       │ (\u001b[38;5;45mNone\u001b[0m, \u001b[38;5;34m128\u001b[0m, \u001b[38;5;34m32\u001b[0m, \u001b[38;5;34m64\u001b[0m)    │             \u001b[38;5;34m0\u001b[0m │\n",
              "├─────────────────────────────────┼────────────────────────┼───────────────┤\n",
              "│ max2 (\u001b[38;5;33mMaxPooling2D\u001b[0m)             │ (\u001b[38;5;45mNone\u001b[0m, \u001b[38;5;34m64\u001b[0m, \u001b[38;5;34m16\u001b[0m, \u001b[38;5;34m64\u001b[0m)     │             \u001b[38;5;34m0\u001b[0m │\n",
              "├─────────────────────────────────┼────────────────────────┼───────────────┤\n",
              "│ dropout (\u001b[38;5;33mDropout\u001b[0m)               │ (\u001b[38;5;45mNone\u001b[0m, \u001b[38;5;34m64\u001b[0m, \u001b[38;5;34m16\u001b[0m, \u001b[38;5;34m64\u001b[0m)     │             \u001b[38;5;34m0\u001b[0m │\n",
              "├─────────────────────────────────┼────────────────────────┼───────────────┤\n",
              "│ conv3 (\u001b[38;5;33mConv2D\u001b[0m)                  │ (\u001b[38;5;45mNone\u001b[0m, \u001b[38;5;34m64\u001b[0m, \u001b[38;5;34m16\u001b[0m, \u001b[38;5;34m128\u001b[0m)    │        \u001b[38;5;34m73,856\u001b[0m │\n",
              "├─────────────────────────────────┼────────────────────────┼───────────────┤\n",
              "│ batch_normalization_2           │ (\u001b[38;5;45mNone\u001b[0m, \u001b[38;5;34m64\u001b[0m, \u001b[38;5;34m16\u001b[0m, \u001b[38;5;34m128\u001b[0m)    │           \u001b[38;5;34m512\u001b[0m │\n",
              "│ (\u001b[38;5;33mBatchNormalization\u001b[0m)            │                        │               │\n",
              "├─────────────────────────────────┼────────────────────────┼───────────────┤\n",
              "│ activation_2 (\u001b[38;5;33mActivation\u001b[0m)       │ (\u001b[38;5;45mNone\u001b[0m, \u001b[38;5;34m64\u001b[0m, \u001b[38;5;34m16\u001b[0m, \u001b[38;5;34m128\u001b[0m)    │             \u001b[38;5;34m0\u001b[0m │\n",
              "├─────────────────────────────────┼────────────────────────┼───────────────┤\n",
              "│ max3 (\u001b[38;5;33mMaxPooling2D\u001b[0m)             │ (\u001b[38;5;45mNone\u001b[0m, \u001b[38;5;34m64\u001b[0m, \u001b[38;5;34m8\u001b[0m, \u001b[38;5;34m128\u001b[0m)     │             \u001b[38;5;34m0\u001b[0m │\n",
              "├─────────────────────────────────┼────────────────────────┼───────────────┤\n",
              "│ dropout_1 (\u001b[38;5;33mDropout\u001b[0m)             │ (\u001b[38;5;45mNone\u001b[0m, \u001b[38;5;34m64\u001b[0m, \u001b[38;5;34m8\u001b[0m, \u001b[38;5;34m128\u001b[0m)     │             \u001b[38;5;34m0\u001b[0m │\n",
              "├─────────────────────────────────┼────────────────────────┼───────────────┤\n",
              "│ reshape (\u001b[38;5;33mReshape\u001b[0m)               │ (\u001b[38;5;45mNone\u001b[0m, \u001b[38;5;34m64\u001b[0m, \u001b[38;5;34m1024\u001b[0m)       │             \u001b[38;5;34m0\u001b[0m │\n",
              "├─────────────────────────────────┼────────────────────────┼───────────────┤\n",
              "│ dense1 (\u001b[38;5;33mDense\u001b[0m)                  │ (\u001b[38;5;45mNone\u001b[0m, \u001b[38;5;34m64\u001b[0m, \u001b[38;5;34m64\u001b[0m)         │        \u001b[38;5;34m65,600\u001b[0m │\n",
              "├─────────────────────────────────┼────────────────────────┼───────────────┤\n",
              "│ lstm1 (\u001b[38;5;33mBidirectional\u001b[0m)           │ (\u001b[38;5;45mNone\u001b[0m, \u001b[38;5;34m64\u001b[0m, \u001b[38;5;34m512\u001b[0m)        │       \u001b[38;5;34m657,408\u001b[0m │\n",
              "├─────────────────────────────────┼────────────────────────┼───────────────┤\n",
              "│ lstm2 (\u001b[38;5;33mBidirectional\u001b[0m)           │ (\u001b[38;5;45mNone\u001b[0m, \u001b[38;5;34m64\u001b[0m, \u001b[38;5;34m512\u001b[0m)        │     \u001b[38;5;34m1,574,912\u001b[0m │\n",
              "├─────────────────────────────────┼────────────────────────┼───────────────┤\n",
              "│ dense2 (\u001b[38;5;33mDense\u001b[0m)                  │ (\u001b[38;5;45mNone\u001b[0m, \u001b[38;5;34m64\u001b[0m, \u001b[38;5;34m30\u001b[0m)         │        \u001b[38;5;34m15,390\u001b[0m │\n",
              "├─────────────────────────────────┼────────────────────────┼───────────────┤\n",
              "│ softmax (\u001b[38;5;33mActivation\u001b[0m)            │ (\u001b[38;5;45mNone\u001b[0m, \u001b[38;5;34m64\u001b[0m, \u001b[38;5;34m30\u001b[0m)         │             \u001b[38;5;34m0\u001b[0m │\n",
              "└─────────────────────────────────┴────────────────────────┴───────────────┘\n"
            ]
          },
          "metadata": {},
          "output_type": "display_data"
        },
        {
          "data": {
            "text/html": [
              "<pre style=\"white-space:pre;overflow-x:auto;line-height:normal;font-family:Menlo,'DejaVu Sans Mono',consolas,'Courier New',monospace\"><span style=\"font-weight: bold\"> Total params: </span><span style=\"color: #00af00; text-decoration-color: #00af00\">2,406,878</span> (9.18 MB)\n",
              "</pre>\n"
            ],
            "text/plain": [
              "\u001b[1m Total params: \u001b[0m\u001b[38;5;34m2,406,878\u001b[0m (9.18 MB)\n"
            ]
          },
          "metadata": {},
          "output_type": "display_data"
        },
        {
          "data": {
            "text/html": [
              "<pre style=\"white-space:pre;overflow-x:auto;line-height:normal;font-family:Menlo,'DejaVu Sans Mono',consolas,'Courier New',monospace\"><span style=\"font-weight: bold\"> Trainable params: </span><span style=\"color: #00af00; text-decoration-color: #00af00\">2,406,430</span> (9.18 MB)\n",
              "</pre>\n"
            ],
            "text/plain": [
              "\u001b[1m Trainable params: \u001b[0m\u001b[38;5;34m2,406,430\u001b[0m (9.18 MB)\n"
            ]
          },
          "metadata": {},
          "output_type": "display_data"
        },
        {
          "data": {
            "text/html": [
              "<pre style=\"white-space:pre;overflow-x:auto;line-height:normal;font-family:Menlo,'DejaVu Sans Mono',consolas,'Courier New',monospace\"><span style=\"font-weight: bold\"> Non-trainable params: </span><span style=\"color: #00af00; text-decoration-color: #00af00\">448</span> (1.75 KB)\n",
              "</pre>\n"
            ],
            "text/plain": [
              "\u001b[1m Non-trainable params: \u001b[0m\u001b[38;5;34m448\u001b[0m (1.75 KB)\n"
            ]
          },
          "metadata": {},
          "output_type": "display_data"
        }
      ],
      "source": [
        "input_data = Input(shape=(256, 64, 1), name='input')\n",
        "\n",
        "inner = Conv2D(32, (3, 3), padding='same', name='conv1', kernel_initializer='he_normal')(input_data)\n",
        "inner = BatchNormalization()(inner)\n",
        "inner = Activation('relu')(inner)\n",
        "inner = MaxPooling2D(pool_size=(2, 2), name='max1')(inner)\n",
        "\n",
        "inner = Conv2D(64, (3, 3), padding='same', name='conv2', kernel_initializer='he_normal')(inner)\n",
        "inner = BatchNormalization()(inner)\n",
        "inner = Activation('relu')(inner)\n",
        "inner = MaxPooling2D(pool_size=(2, 2), name='max2')(inner)\n",
        "inner = Dropout(0.3)(inner)\n",
        "\n",
        "inner = Conv2D(128, (3, 3), padding='same', name='conv3', kernel_initializer='he_normal')(inner)\n",
        "inner = BatchNormalization()(inner)\n",
        "inner = Activation('relu')(inner)\n",
        "inner = MaxPooling2D(pool_size=(1, 2), name='max3')(inner)\n",
        "inner = Dropout(0.3)(inner)\n",
        "\n",
        "# CNN to RNN\n",
        "inner = Reshape(target_shape=((num_of_timestamps, 1024)), name='reshape')(inner)\n",
        "inner = Dense(num_of_timestamps, activation='relu', kernel_initializer='he_normal', name='dense1')(inner)\n",
        "\n",
        "## RNN\n",
        "inner = Bidirectional(LSTM(256, return_sequences=True), name = 'lstm1')(inner)\n",
        "inner = Bidirectional(LSTM(256, return_sequences=True), name = 'lstm2')(inner)\n",
        "\n",
        "## OUTPUT\n",
        "inner = Dense(num_of_characters, kernel_initializer='he_normal',name='dense2')(inner)\n",
        "y_pred = Activation('softmax', name='softmax')(inner)\n",
        "\n",
        "model = Model(inputs=input_data, outputs=y_pred)\n",
        "model.summary()"
      ]
    },
    {
      "cell_type": "markdown",
      "metadata": {
        "id": "8Scp4EmwqCy7"
      },
      "source": [
        "The output shape of the predictions is (64, 30). The model predicts words of 64 characters and each character contains the probability of the 30 alphabets which we defined earlier.  "
      ]
    },
    {
      "cell_type": "code",
      "execution_count": null,
      "metadata": {
        "execution": {
          "iopub.execute_input": "2023-03-20T07:13:49.160706Z",
          "iopub.status.busy": "2023-03-20T07:13:49.160399Z",
          "iopub.status.idle": "2023-03-20T07:13:49.167356Z",
          "shell.execute_reply": "2023-03-20T07:13:49.166421Z",
          "shell.execute_reply.started": "2023-03-20T07:13:49.160671Z"
        },
        "trusted": true,
        "id": "enNJB6_XqCy7"
      },
      "outputs": [],
      "source": [
        "# # the ctc loss function\n",
        "# def ctc_lambda_func(args):\n",
        "#     y_pred, labels, input_length, label_length = args\n",
        "#     # the 2 is critical here since the first couple outputs of the RNN\n",
        "#     # tend to be garbage\n",
        "#     y_pred = y_pred[:, 2:, :]\n",
        "#     return K.ctc_batch_cost(labels, y_pred, input_length, label_length)\n",
        "\n",
        "\n",
        "import tensorflow as tf\n",
        "\n",
        "# Define the CTC loss function\n",
        "def ctc_lambda_func(args):\n",
        "    y_pred, labels, input_length, label_length = args\n",
        "\n",
        "    # Reshape y_pred to match the required shape for tf.nn.ctc_loss\n",
        "    y_pred = tf.transpose(y_pred, perm=[1, 0, 2])  # Time-major format\n",
        "\n",
        "    # Compute CTC loss\n",
        "    ctc_loss = tf.nn.ctc_loss(\n",
        "        labels=tf.cast(labels, tf.int32),\n",
        "        logits=y_pred,\n",
        "        label_length=tf.squeeze(label_length),\n",
        "        logit_length=tf.squeeze(input_length),\n",
        "        logits_time_major=True,\n",
        "        blank_index=-1  # Default is the last class\n",
        "    )\n",
        "    return tf.reduce_mean(ctc_loss)\n"
      ]
    },
    {
      "cell_type": "code",
      "execution_count": null,
      "metadata": {
        "execution": {
          "iopub.execute_input": "2023-03-20T07:13:49.168879Z",
          "iopub.status.busy": "2023-03-20T07:13:49.168500Z",
          "iopub.status.idle": "2023-03-20T07:13:49.272033Z",
          "shell.execute_reply": "2023-03-20T07:13:49.271392Z",
          "shell.execute_reply.started": "2023-03-20T07:13:49.168842Z"
        },
        "trusted": true,
        "id": "ZPZvL1FEqCy7"
      },
      "outputs": [],
      "source": [
        "labels = Input(name='gtruth_labels', shape=[max_str_len], dtype='float32')\n",
        "input_length = Input(name='input_length', shape=[1], dtype='int64')\n",
        "label_length = Input(name='label_length', shape=[1], dtype='int64')\n",
        "\n",
        "ctc_loss = Lambda(ctc_lambda_func, output_shape=(1,), name='ctc')([y_pred, labels, input_length, label_length])\n",
        "model_final = Model(inputs=[input_data, labels, input_length, label_length], outputs=ctc_loss)"
      ]
    },
    {
      "cell_type": "markdown",
      "metadata": {
        "id": "GdvweeK0qCy8"
      },
      "source": [
        "## Train our model"
      ]
    },
    {
      "cell_type": "code",
      "execution_count": null,
      "metadata": {
        "id": "Krn1lYLJqCy8"
      },
      "outputs": [],
      "source": [
        "import tensorflow as tf\n",
        "\n",
        "def custom_ctc_loss(y_true, y_pred):\n",
        "    input_length = tf.reduce_sum(tf.ones_like(y_pred[:, :, 0]), axis=-1)\n",
        "    label_length = tf.reduce_sum(tf.ones_like(y_true), axis=-1)\n",
        "    return tf.nn.ctc_loss(\n",
        "        labels=y_true,\n",
        "        logits=y_pred,\n",
        "        label_length=label_length,\n",
        "        logit_length=input_length,\n",
        "        logits_time_major=False\n",
        "    )\n"
      ]
    },
    {
      "cell_type": "code",
      "execution_count": null,
      "metadata": {
        "execution": {
          "iopub.execute_input": "2023-03-20T07:13:49.273667Z",
          "iopub.status.busy": "2023-03-20T07:13:49.273331Z",
          "iopub.status.idle": "2023-03-20T07:13:49.290486Z",
          "shell.execute_reply": "2023-03-20T07:13:49.289538Z",
          "shell.execute_reply.started": "2023-03-20T07:13:49.273625Z"
        },
        "trusted": true,
        "id": "7-e47aDzqCy8"
      },
      "outputs": [],
      "source": [
        "# # the loss calculation occurs elsewhere, so we use a dummy lambda function for the loss\n",
        "model_final.compile(loss={'ctc': lambda y_true, y_pred: y_pred}, optimizer=Adam(learning_rate = 0.0001))\n"
      ]
    },
    {
      "cell_type": "code",
      "execution_count": null,
      "metadata": {
        "execution": {
          "iopub.execute_input": "2023-03-20T07:13:49.292513Z",
          "iopub.status.busy": "2023-03-20T07:13:49.292185Z",
          "iopub.status.idle": "2023-03-20T10:21:56.604513Z",
          "shell.execute_reply": "2023-03-20T10:21:56.603565Z",
          "shell.execute_reply.started": "2023-03-20T07:13:49.292479Z"
        },
        "trusted": true,
        "id": "l9Oc0P0PqCy9",
        "outputId": "8d882864-1fed-480a-efd3-06253ddefaf3"
      },
      "outputs": [
        {
          "name": "stdout",
          "output_type": "stream",
          "text": [
            "Epoch 1/8\n"
          ]
        }
      ],
      "source": [
        "\n",
        "model_final.fit(dataset_final, epochs=8,verbose=1)\n",
        "# model_final.fit(x=[train_x, train_y, train_input_len, train_label_len], y=train_output,\n",
        "#                 validation_data=([valid_x, valid_y, valid_input_len, valid_label_len], valid_output),\n",
        "#                 epochs=60, batch_size=128)"
      ]
    },
    {
      "cell_type": "code",
      "execution_count": null,
      "metadata": {
        "execution": {
          "iopub.execute_input": "2023-03-20T10:22:14.214602Z",
          "iopub.status.busy": "2023-03-20T10:22:14.214215Z",
          "iopub.status.idle": "2023-03-20T10:22:14.288298Z",
          "shell.execute_reply": "2023-03-20T10:22:14.287247Z",
          "shell.execute_reply.started": "2023-03-20T10:22:14.214567Z"
        },
        "trusted": true,
        "id": "9B67kvoLqCy9"
      },
      "outputs": [],
      "source": [
        "model.save('/kaggle/working/model', save_format='h5')"
      ]
    },
    {
      "cell_type": "code",
      "execution_count": null,
      "metadata": {
        "id": "yyx735FaqCy9"
      },
      "outputs": [],
      "source": [
        "ssss"
      ]
    },
    {
      "cell_type": "code",
      "execution_count": null,
      "metadata": {
        "execution": {
          "iopub.execute_input": "2023-03-20T10:22:53.663752Z",
          "iopub.status.busy": "2023-03-20T10:22:53.663388Z",
          "iopub.status.idle": "2023-03-20T10:22:53.667877Z",
          "shell.execute_reply": "2023-03-20T10:22:53.666905Z",
          "shell.execute_reply.started": "2023-03-20T10:22:53.663718Z"
        },
        "trusted": true,
        "id": "XsP_BAPgqCy9"
      },
      "outputs": [],
      "source": [
        "# model_final.load('/kaggle/working/model', save_format='h5')\n",
        "from tensorflow import keras\n",
        "\n",
        "# final_model = keras.models.load_model('/kaggle/working/model', compile=False)\n"
      ]
    },
    {
      "cell_type": "code",
      "execution_count": null,
      "metadata": {
        "execution": {
          "iopub.execute_input": "2023-03-20T10:23:21.617192Z",
          "iopub.status.busy": "2023-03-20T10:23:21.616873Z",
          "iopub.status.idle": "2023-03-20T10:23:22.688285Z",
          "shell.execute_reply": "2023-03-20T10:23:22.687429Z",
          "shell.execute_reply.started": "2023-03-20T10:23:21.617163Z"
        },
        "trusted": true,
        "id": "2yfb3k3hqCy-"
      },
      "outputs": [],
      "source": [
        "my_model = keras.models.load_model('/kaggle/working/model')#, compile=False)"
      ]
    },
    {
      "cell_type": "code",
      "execution_count": null,
      "metadata": {
        "execution": {
          "iopub.execute_input": "2023-03-18T13:05:32.233118Z",
          "iopub.status.busy": "2023-03-18T13:05:32.232683Z",
          "iopub.status.idle": "2023-03-18T13:05:32.238725Z",
          "shell.execute_reply": "2023-03-18T13:05:32.238108Z",
          "shell.execute_reply.started": "2023-03-18T13:05:32.233083Z"
        },
        "trusted": true,
        "id": "_6eEADrGqCy-"
      },
      "outputs": [],
      "source": [
        "# from IPython.display import FileLink\n",
        "# import os\n",
        "# os.chdir(r'/kaggle/working')\n",
        "# FileLink(r'model')"
      ]
    },
    {
      "cell_type": "code",
      "execution_count": null,
      "metadata": {
        "execution": {
          "iopub.execute_input": "2023-03-18T13:05:32.249864Z",
          "iopub.status.busy": "2023-03-18T13:05:32.249468Z",
          "iopub.status.idle": "2023-03-18T13:05:32.258348Z",
          "shell.execute_reply": "2023-03-18T13:05:32.257592Z",
          "shell.execute_reply.started": "2023-03-18T13:05:32.249810Z"
        },
        "trusted": true,
        "id": "tbwZAC6kqCy-"
      },
      "outputs": [],
      "source": [
        "# train_generator = get_batch_generator(image_generator(directory),batch_examples)\n",
        "\n",
        "# model_final.fit(dataset_final.repeat(2), epochs=9)"
      ]
    },
    {
      "cell_type": "code",
      "execution_count": null,
      "metadata": {
        "execution": {
          "iopub.execute_input": "2023-03-18T13:05:32.260476Z",
          "iopub.status.busy": "2023-03-18T13:05:32.260100Z",
          "iopub.status.idle": "2023-03-18T13:05:32.267711Z",
          "shell.execute_reply": "2023-03-18T13:05:32.266763Z",
          "shell.execute_reply.started": "2023-03-18T13:05:32.260406Z"
        },
        "trusted": true,
        "id": "fJgWi9hNqCy-"
      },
      "outputs": [],
      "source": [
        "# batch_examples = 128\n",
        "# train_generator = get_batch_generator(image_generator(directory),batch_examples)\n",
        "# .fit_generator(\n",
        "#     generator=train_generator,\n",
        "#     steps_per_epoch=train.shape[0]//batch_examples,\n",
        "#     epochs=10,)"
      ]
    },
    {
      "cell_type": "markdown",
      "metadata": {
        "id": "kW6JoolFqCy_"
      },
      "source": [
        "## Check model performance on validation set"
      ]
    },
    {
      "cell_type": "code",
      "execution_count": null,
      "metadata": {
        "execution": {
          "iopub.execute_input": "2023-03-20T10:23:39.815205Z",
          "iopub.status.busy": "2023-03-20T10:23:39.814847Z",
          "iopub.status.idle": "2023-03-20T10:23:42.072692Z",
          "shell.execute_reply": "2023-03-20T10:23:42.071570Z",
          "shell.execute_reply.started": "2023-03-20T10:23:39.815174Z"
        },
        "trusted": true,
        "id": "Hyh5tkXyqCy_"
      },
      "outputs": [],
      "source": [
        "preds = my_model.predict(valid_x)\n",
        "decoded = K.get_value(K.ctc_decode(preds, input_length=np.ones(preds.shape[0])*preds.shape[1],\n",
        "                                   greedy=True)[0][0])\n",
        "\n",
        "prediction = []\n",
        "for i in range(valid_size):\n",
        "    prediction.append(num_to_label(decoded[i]))"
      ]
    },
    {
      "cell_type": "code",
      "execution_count": null,
      "metadata": {
        "execution": {
          "iopub.execute_input": "2023-03-20T10:23:42.075466Z",
          "iopub.status.busy": "2023-03-20T10:23:42.074793Z",
          "iopub.status.idle": "2023-03-20T10:23:42.125449Z",
          "shell.execute_reply": "2023-03-20T10:23:42.124512Z",
          "shell.execute_reply.started": "2023-03-20T10:23:42.075426Z"
        },
        "trusted": true,
        "id": "saVeED1yqCy_",
        "outputId": "af4146e9-15fb-43c2-b44f-de58d9dcbaba"
      },
      "outputs": [
        {
          "name": "stdout",
          "output_type": "stream",
          "text": [
            "Correct characters predicted : 86.14%\n",
            "Correct words predicted      : 75.40%\n"
          ]
        }
      ],
      "source": [
        "y_true = valid.loc[0:valid_size, 'IDENTITY']\n",
        "correct_char = 0\n",
        "total_char = 0\n",
        "correct = 0\n",
        "\n",
        "for i in range(valid_size):\n",
        "    pr = prediction[i]\n",
        "    tr = y_true[i]\n",
        "    total_char += len(tr)\n",
        "\n",
        "    for j in range(min(len(tr), len(pr))):\n",
        "        if tr[j] == pr[j]:\n",
        "            correct_char += 1\n",
        "\n",
        "    if pr == tr :\n",
        "        correct += 1\n",
        "\n",
        "print('Correct characters predicted : %.2f%%' %(correct_char*100/total_char))\n",
        "print('Correct words predicted      : %.2f%%' %(correct*100/valid_size))"
      ]
    },
    {
      "cell_type": "markdown",
      "metadata": {
        "id": "11e_1ue_qCzA"
      },
      "source": [
        "## Some predictions on test set"
      ]
    },
    {
      "cell_type": "code",
      "execution_count": null,
      "metadata": {
        "execution": {
          "iopub.execute_input": "2023-03-20T10:24:09.274072Z",
          "iopub.status.busy": "2023-03-20T10:24:09.273735Z",
          "iopub.status.idle": "2023-03-20T10:24:09.983513Z",
          "shell.execute_reply": "2023-03-20T10:24:09.982645Z",
          "shell.execute_reply.started": "2023-03-20T10:24:09.274041Z"
        },
        "trusted": true,
        "id": "Zk_sxPa9qCzA",
        "outputId": "c4fa5f09-4aa4-4da1-ac5b-b404fc471986"
      },
      "outputs": [
        {
          "data": {
            "image/png": "[encoded data removed]",
            "text/plain": [
              "<Figure size 1080x720 with 6 Axes>"
            ]
          },
          "metadata": {
            "needs_background": "light"
          },
          "output_type": "display_data"
        }
      ],
      "source": [
        "test = pd.read_csv('/kaggle/input/handwriting-recognition/written_name_test_v2.csv')\n",
        "\n",
        "plt.figure(figsize=(15, 10))\n",
        "for i in range(6):\n",
        "    ax = plt.subplot(2, 3, i+1)\n",
        "    img_dir = '/kaggle/input/handwriting-recognition/test_v2/test/'+test.loc[i, 'FILENAME']\n",
        "    image = cv2.imread(img_dir, cv2.IMREAD_GRAYSCALE)\n",
        "    plt.imshow(image, cmap='gray')\n",
        "\n",
        "    image = preprocess(image)\n",
        "    image = image/255.\n",
        "    pred = model.predict(image.reshape(1, 256, 64, 1))\n",
        "    decoded = K.get_value(K.ctc_decode(pred, input_length=np.ones(pred.shape[0])*pred.shape[1],\n",
        "                                       greedy=True)[0][0])\n",
        "    plt.title(num_to_label(decoded[0]), fontsize=12)\n",
        "    plt.axis('off')\n",
        "\n",
        "plt.subplots_adjust(wspace=0.2, hspace=-0.8)"
      ]
    },
    {
      "cell_type": "markdown",
      "metadata": {
        "id": "iijP-iMqqCzA"
      },
      "source": [
        "## transfer learning"
      ]
    },
    {
      "cell_type": "code",
      "execution_count": null,
      "metadata": {
        "execution": {
          "iopub.execute_input": "2023-03-20T10:24:28.107410Z",
          "iopub.status.busy": "2023-03-20T10:24:28.107065Z",
          "iopub.status.idle": "2023-03-20T10:24:28.112125Z",
          "shell.execute_reply": "2023-03-20T10:24:28.111100Z",
          "shell.execute_reply.started": "2023-03-20T10:24:28.107379Z"
        },
        "trusted": true,
        "id": "ignrb0g_qCzB"
      },
      "outputs": [],
      "source": [
        "import string\n",
        "import json\n"
      ]
    },
    {
      "cell_type": "code",
      "execution_count": null,
      "metadata": {
        "execution": {
          "iopub.execute_input": "2023-03-20T10:24:29.996603Z",
          "iopub.status.busy": "2023-03-20T10:24:29.996260Z",
          "iopub.status.idle": "2023-03-20T10:24:30.003308Z",
          "shell.execute_reply": "2023-03-20T10:24:30.002307Z",
          "shell.execute_reply.started": "2023-03-20T10:24:29.996568Z"
        },
        "trusted": true,
        "id": "LBahO7xgqCzB"
      },
      "outputs": [],
      "source": [
        "batch_size = 8\n",
        "alphabets = string.digits +\"ABCDEFGHIJKLMNOPQRSTUVWXYZ-' \"\n",
        "\n",
        "def label_to_num(label):\n",
        "    label_num = []\n",
        "    for ch in label:\n",
        "        label_num.append(alphabets.find(ch))\n",
        "\n",
        "    return np.array(label_num)\n",
        "\n",
        "def num_to_label(num):\n",
        "    ret = \"\"\n",
        "    for ch in num:\n",
        "        if ch == -1:  # CTC Blank\n",
        "            break\n",
        "        else:\n",
        "            ret+=alphabets[ch]\n",
        "    return ret"
      ]
    },
    {
      "cell_type": "code",
      "execution_count": null,
      "metadata": {
        "execution": {
          "iopub.execute_input": "2023-03-20T10:24:31.724292Z",
          "iopub.status.busy": "2023-03-20T10:24:31.723864Z",
          "iopub.status.idle": "2023-03-20T10:24:31.749023Z",
          "shell.execute_reply": "2023-03-20T10:24:31.748016Z",
          "shell.execute_reply.started": "2023-03-20T10:24:31.724254Z"
        },
        "trusted": true,
        "id": "S8Vp6AwlqCzB"
      },
      "outputs": [],
      "source": [
        "width = 256\n",
        "height = 64\n",
        "# num_of_timestamps = 50\n",
        "# max_str_len = num_of_timestamps\n",
        "rnn_steps_to_discard = 2\n",
        "all_data = '/kaggle/input/tags-licenseplate/ocr-licence-plate.csv'\n",
        "data_all = pd.read_csv(all_data)"
      ]
    },
    {
      "cell_type": "code",
      "execution_count": null,
      "metadata": {
        "execution": {
          "iopub.execute_input": "2023-03-20T10:24:34.701805Z",
          "iopub.status.busy": "2023-03-20T10:24:34.701457Z",
          "iopub.status.idle": "2023-03-20T10:24:34.708568Z",
          "shell.execute_reply": "2023-03-20T10:24:34.707456Z",
          "shell.execute_reply.started": "2023-03-20T10:24:34.701773Z"
        },
        "trusted": true,
        "id": "CGHw2E2EqCzC"
      },
      "outputs": [],
      "source": [
        "def yolo_to_abs(data_dict):#, scale=100.0):\n",
        "    cord = {}\n",
        "\n",
        "    original_width = data_dict['original_width']\n",
        "    original_height = data_dict['original_height']\n",
        "\n",
        "    pixel_x = int(data_dict['x']/100. * original_width)\n",
        "    pixel_y = int(data_dict['y']/100. * original_height)\n",
        "    pixel_width = int(data_dict['width']/100. * original_width)\n",
        "    pixel_height = int(data_dict['height']/100. * original_height)\n",
        "#     return[pixel_x, pixel_y, pixel_width, pixel_height]\n",
        "    cord['x1'] = pixel_x #- pixel_width #/2)*original_width\n",
        "    cord['y1'] = pixel_y #- pixel_height#/2)*original_height\n",
        "    cord['x2'] = pixel_x + pixel_width#/2)*original_width\n",
        "    cord['y2'] = pixel_y + pixel_height#/2)*original_height\n",
        "    return cord"
      ]
    },
    {
      "cell_type": "code",
      "execution_count": null,
      "metadata": {
        "execution": {
          "iopub.execute_input": "2023-03-20T10:24:35.879876Z",
          "iopub.status.busy": "2023-03-20T10:24:35.879456Z",
          "iopub.status.idle": "2023-03-20T10:24:35.892958Z",
          "shell.execute_reply": "2023-03-20T10:24:35.891691Z",
          "shell.execute_reply.started": "2023-03-20T10:24:35.879840Z"
        },
        "trusted": true,
        "id": "FnEBA-4oqCzC"
      },
      "outputs": [],
      "source": [
        "def preprocess_2(image, width: int, height: int, cval: int = 255, mode=\"letterbox\", return_scale=False,):\n",
        "    \"\"\"Obtain a new image, fit to the specified size.\n",
        "    Args:\n",
        "        image: The input image\n",
        "        width: The new width\n",
        "        height: The new height\n",
        "        cval: The constant value to use to fill the remaining areas of\n",
        "            the image\n",
        "        return_scale: Whether to return the scale used for the image\n",
        "    Returns:\n",
        "        The new image\n",
        "    \"\"\"\n",
        "    fitted = None\n",
        "    x_scale = width / image.shape[1]\n",
        "    y_scale = height / image.shape[0]\n",
        "    if x_scale == 1 and y_scale == 1:\n",
        "        fitted = image\n",
        "        scale = 1\n",
        "    elif (x_scale <= y_scale and mode == \"letterbox\") or (\n",
        "        x_scale >= y_scale and mode == \"crop\"\n",
        "    ):\n",
        "        scale = width / image.shape[1]\n",
        "        resize_width = width\n",
        "        resize_height = (width / image.shape[1]) * image.shape[0]\n",
        "    else:\n",
        "        scale = height / image.shape[0]\n",
        "        resize_height = height\n",
        "        resize_width = scale * image.shape[1]\n",
        "    if fitted is None:\n",
        "        resize_width, resize_height = map(int, [resize_width, resize_height])\n",
        "        if mode == \"letterbox\":\n",
        "            fitted = np.zeros((height, width, 3), dtype=\"uint8\") + cval\n",
        "            image = cv2.resize(image, dsize=(resize_width, resize_height))\n",
        "            fitted[: image.shape[0], : image.shape[1]] = image[:height, :width]\n",
        "        elif mode == \"crop\":\n",
        "            image = cv2.resize(image, dsize=(resize_width, resize_height))\n",
        "            fitted = image[:height, :width]\n",
        "        else:\n",
        "            raise NotImplementedError(f\"Unsupported mode: {mode}\")\n",
        "    if not return_scale:\n",
        "        return fitted\n",
        "    return fitted, scale"
      ]
    },
    {
      "cell_type": "code",
      "execution_count": null,
      "metadata": {
        "execution": {
          "iopub.execute_input": "2023-03-20T10:24:40.806128Z",
          "iopub.status.busy": "2023-03-20T10:24:40.805807Z",
          "iopub.status.idle": "2023-03-20T10:24:40.818015Z",
          "shell.execute_reply": "2023-03-20T10:24:40.816995Z",
          "shell.execute_reply.started": "2023-03-20T10:24:40.806098Z"
        },
        "trusted": true,
        "id": "xcQ7BRpSqCzC"
      },
      "outputs": [],
      "source": [
        "def image_generator_2(path, pd_data):\n",
        "    for row, val in  pd_data.iterrows():                         # need improvement\n",
        "        img_dir = os.path.join(path, val['ocr'].split('-')[-1])\n",
        "        image = cv2.imread(img_dir, cv2.IMREAD_ANYCOLOR)\n",
        "#             image = preprocess(image)[..., np.newaxis]\n",
        "        try:\n",
        "            labels = json.loads(val['transcription'])\n",
        "        except ValueError:\n",
        "            labels = str(val['transcription'])\n",
        "        for num, bbox in enumerate(json.loads(val['bbox'])):\n",
        "            cart_cord = yolo_to_abs(bbox)\n",
        "            crop_img = image[cart_cord['y1']:cart_cord['y2'],\n",
        "                             cart_cord['x1']:cart_cord['x2']]\n",
        "            process_img = preprocess_2(crop_img, width=width,height=height)\n",
        "            process_img = cv2.rotate(process_img, cv2.ROTATE_90_CLOCKWISE)\n",
        "            process_img = cv2.cvtColor(process_img, cv2.COLOR_RGB2GRAY).astype(\"float32\")[..., np.newaxis]\n",
        "            process_img /=255\n",
        "            if isinstance(labels, list):\n",
        "                yield process_img, label_to_num(labels[num])\n",
        "            else:\n",
        "                yield process_img, label_to_num(str(labels))\n",
        "#             image = image/255.\n",
        "#             if image.shape !=(256,64,1):\n",
        "#                 break\n",
        "    #         train_label_len[i] = len(train.loc[i, 'IDENTITY'])\n",
        "#             if (len(val['IDENTITY'])>max_str_len):\n",
        "#                 continue\n",
        "#             labels = val['transcription']\n",
        "#             labels = label_to_num(val['IDENTITY'])\n",
        "#             yield (image, labels)\n",
        "#         except Exception as e:\n",
        "#             continue\n",
        "def data_joiner(*val):\n",
        "    xl = val[0]\n",
        "    lab = val[1]\n",
        "    lab_len = len(lab)\n",
        "    one_pad = -tf.ones((max_str_len - lab_len - rnn_steps_to_discard))#*(-1)\n",
        "    y = tf.concat([lab, one_pad], -1)\n",
        "\n",
        "    return xl, y, [num_of_timestamps-2], [lab_len], [0]\n"
      ]
    },
    {
      "cell_type": "code",
      "execution_count": null,
      "metadata": {
        "execution": {
          "iopub.execute_input": "2023-03-20T10:25:05.054790Z",
          "iopub.status.busy": "2023-03-20T10:25:05.054416Z",
          "iopub.status.idle": "2023-03-20T10:25:05.061463Z",
          "shell.execute_reply": "2023-03-20T10:25:05.060092Z",
          "shell.execute_reply.started": "2023-03-20T10:25:05.054754Z"
        },
        "trusted": true,
        "id": "UM-5nWUNqCzD",
        "outputId": "cb8c2376-0e0b-4a80-c278-69db5f884e53"
      },
      "outputs": [
        {
          "data": {
            "text/plain": [
              "251"
            ]
          },
          "execution_count": 47,
          "metadata": {},
          "output_type": "execute_result"
        }
      ],
      "source": [
        "int(len(data_all)*.8)"
      ]
    },
    {
      "cell_type": "code",
      "execution_count": null,
      "metadata": {
        "execution": {
          "iopub.execute_input": "2023-03-20T10:25:15.507816Z",
          "iopub.status.busy": "2023-03-20T10:25:15.507460Z",
          "iopub.status.idle": "2023-03-20T10:25:15.522722Z",
          "shell.execute_reply": "2023-03-20T10:25:15.521745Z",
          "shell.execute_reply.started": "2023-03-20T10:25:15.507785Z"
        },
        "trusted": true,
        "id": "tLSGk07vqCzD"
      },
      "outputs": [],
      "source": [
        "cuttof = 220\n",
        "train = data_all.iloc[:cuttof]\n",
        "test = data_all.iloc[cuttof:]"
      ]
    },
    {
      "cell_type": "code",
      "execution_count": null,
      "metadata": {
        "execution": {
          "iopub.execute_input": "2023-03-20T10:27:44.217093Z",
          "iopub.status.busy": "2023-03-20T10:27:44.216724Z",
          "iopub.status.idle": "2023-03-20T10:27:44.272934Z",
          "shell.execute_reply": "2023-03-20T10:27:44.271905Z",
          "shell.execute_reply.started": "2023-03-20T10:27:44.217060Z"
        },
        "trusted": true,
        "id": "tZ0lDV5jqCzE"
      },
      "outputs": [],
      "source": [
        "batch_size = 8\n",
        "\n",
        "directory = '/kaggle/input/car-plate-detection/images/'\n",
        "\n",
        "dataset = tf.data.Dataset.from_generator(lambda: image_generator_2(directory, train), (tf.float32, tf.float32))# , ([256, 64,1], [None]))\n",
        "dataset = dataset.map(data_joiner).batch(batch_size)\n",
        "dataset_train= dataset.map(lambda *x: (x[0:-1],x[-1]))"
      ]
    },
    {
      "cell_type": "code",
      "execution_count": null,
      "metadata": {
        "execution": {
          "iopub.execute_input": "2023-03-20T10:21:56.622948Z",
          "iopub.status.busy": "2023-03-20T10:21:56.622422Z",
          "iopub.status.idle": "2023-03-20T10:21:56.628278Z",
          "shell.execute_reply": "2023-03-20T10:21:56.626730Z",
          "shell.execute_reply.started": "2023-03-20T10:21:56.622903Z"
        },
        "trusted": true,
        "id": "5Bt_KjdeqCzE"
      },
      "outputs": [],
      "source": [
        "# for i in dataset_train:\n",
        "#     print(i)\n",
        "#     break"
      ]
    },
    {
      "cell_type": "code",
      "execution_count": null,
      "metadata": {
        "execution": {
          "iopub.execute_input": "2023-03-18T13:05:35.538425Z",
          "iopub.status.busy": "2023-03-18T13:05:35.538004Z",
          "iopub.status.idle": "2023-03-18T13:05:35.650532Z",
          "shell.execute_reply": "2023-03-18T13:05:35.649816Z",
          "shell.execute_reply.started": "2023-03-18T13:05:35.538384Z"
        },
        "trusted": true,
        "id": "C7z3Q1w0qCzE",
        "outputId": "0e4821fa-757d-4d9b-d8ed-aba645cdf506"
      },
      "outputs": [
        {
          "data": {
            "text/plain": [
              "<matplotlib.image.AxesImage at 0x7f57dc6ad350>"
            ]
          },
          "execution_count": 54,
          "metadata": {},
          "output_type": "execute_result"
        },
        {
          "data": {
            "image/png": "[encoded data removed]",
            "text/plain": [
              "<Figure size 432x288 with 1 Axes>"
            ]
          },
          "metadata": {
            "needs_background": "light"
          },
          "output_type": "display_data"
        }
      ],
      "source": [
        "# plt.plot(i[0][0][0,:,:,:])\n",
        "# plt.imshow(i[0][0][0])\n",
        "plt.imshow(i[0][0][0,:,:,0], cmap='gray')"
      ]
    },
    {
      "cell_type": "code",
      "execution_count": null,
      "metadata": {
        "execution": {
          "iopub.execute_input": "2023-03-20T10:46:23.496191Z",
          "iopub.status.busy": "2023-03-20T10:46:23.495855Z",
          "iopub.status.idle": "2023-03-20T10:46:23.534569Z",
          "shell.execute_reply": "2023-03-20T10:46:23.533870Z",
          "shell.execute_reply.started": "2023-03-20T10:46:23.496161Z"
        },
        "trusted": true,
        "id": "5M8u3aaYqCzF"
      },
      "outputs": [],
      "source": [
        "\n",
        "decoder_layer = Dense(len(alphabets) + 1, kernel_initializer='he_normal',\n",
        "                           activation='softmax',  name='fc_12')(my_model.layers[-3].output)\n",
        "x = Lambda(lambda x: x[:, rnn_steps_to_discard:])(decoder_layer)\n",
        "\n",
        "\n",
        "new_model = Model(inputs=my_model.inputs, outputs=x)\n",
        "# prediction_model = keras.models.Model(inputs=new_model.inputs, outputs=CTCDecoder()(new_model.output))"
      ]
    },
    {
      "cell_type": "code",
      "execution_count": null,
      "metadata": {
        "execution": {
          "iopub.execute_input": "2023-03-20T10:46:26.876120Z",
          "iopub.status.busy": "2023-03-20T10:46:26.875800Z",
          "iopub.status.idle": "2023-03-20T10:46:26.881056Z",
          "shell.execute_reply": "2023-03-20T10:46:26.878623Z",
          "shell.execute_reply.started": "2023-03-20T10:46:26.876091Z"
        },
        "trusted": true,
        "id": "dWmWx6l1qCzF"
      },
      "outputs": [],
      "source": [
        "# for layer in new_model.layers[:-7]:\n",
        "# #     print(layer)\n",
        "#      layer.trainable = False"
      ]
    },
    {
      "cell_type": "code",
      "execution_count": null,
      "metadata": {
        "execution": {
          "iopub.execute_input": "2023-03-20T10:46:28.507870Z",
          "iopub.status.busy": "2023-03-20T10:46:28.507485Z",
          "iopub.status.idle": "2023-03-20T10:46:28.613812Z",
          "shell.execute_reply": "2023-03-20T10:46:28.612921Z",
          "shell.execute_reply.started": "2023-03-20T10:46:28.507837Z"
        },
        "trusted": true,
        "id": "IRkga1PXqCzG"
      },
      "outputs": [],
      "source": [
        "labels = Input(name=\"labels\", shape=[new_model.output_shape[1]], dtype=\"float32\")\n",
        "\n",
        "label_length = Input(shape=[1])\n",
        "input_length = Input(shape=[1])\n",
        "\n",
        "loss = Lambda(lambda x: K.ctc_batch_cost(y_true=x[0], y_pred=x[1], input_length=x[2], label_length=x[3])\n",
        "                          )([labels, new_model.output, input_length, label_length])\n",
        "training_model =  Model(inputs=[new_model.input, labels, input_length, label_length], outputs=loss)"
      ]
    },
    {
      "cell_type": "code",
      "execution_count": null,
      "metadata": {
        "execution": {
          "iopub.execute_input": "2023-03-20T10:46:28.742015Z",
          "iopub.status.busy": "2023-03-20T10:46:28.741701Z",
          "iopub.status.idle": "2023-03-20T10:46:28.745571Z",
          "shell.execute_reply": "2023-03-20T10:46:28.744444Z",
          "shell.execute_reply.started": "2023-03-20T10:46:28.741984Z"
        },
        "trusted": true,
        "id": "YPawrcpMqCzG"
      },
      "outputs": [],
      "source": [
        "# for layer in new_model.layers[:-9]:\n",
        "# #     print(layer)\n",
        "#      layer.trainable = False"
      ]
    },
    {
      "cell_type": "code",
      "execution_count": null,
      "metadata": {
        "execution": {
          "iopub.execute_input": "2023-03-20T10:46:29.213009Z",
          "iopub.status.busy": "2023-03-20T10:46:29.212670Z",
          "iopub.status.idle": "2023-03-20T10:46:29.233779Z",
          "shell.execute_reply": "2023-03-20T10:46:29.233065Z",
          "shell.execute_reply.started": "2023-03-20T10:46:29.212978Z"
        },
        "trusted": true,
        "id": "HMIet92PqCzG",
        "outputId": "d8d77727-2e96-479f-b4ab-352fad44b82e"
      },
      "outputs": [
        {
          "name": "stdout",
          "output_type": "stream",
          "text": [
            "Model: \"functional_15\"\n",
            "__________________________________________________________________________________________________\n",
            "Layer (type)                    Output Shape         Param #     Connected to                     \n",
            "==================================================================================================\n",
            "input (InputLayer)              [(None, 256, 64, 1)] 0                                            \n",
            "__________________________________________________________________________________________________\n",
            "conv1 (Conv2D)                  (None, 256, 64, 32)  320         input[0][0]                      \n",
            "__________________________________________________________________________________________________\n",
            "batch_normalization (BatchNorma (None, 256, 64, 32)  128         conv1[0][0]                      \n",
            "__________________________________________________________________________________________________\n",
            "activation (Activation)         (None, 256, 64, 32)  0           batch_normalization[0][0]        \n",
            "__________________________________________________________________________________________________\n",
            "max1 (MaxPooling2D)             (None, 128, 32, 32)  0           activation[0][0]                 \n",
            "__________________________________________________________________________________________________\n",
            "conv2 (Conv2D)                  (None, 128, 32, 64)  18496       max1[0][0]                       \n",
            "__________________________________________________________________________________________________\n",
            "batch_normalization_1 (BatchNor (None, 128, 32, 64)  256         conv2[0][0]                      \n",
            "__________________________________________________________________________________________________\n",
            "activation_1 (Activation)       (None, 128, 32, 64)  0           batch_normalization_1[0][0]      \n",
            "__________________________________________________________________________________________________\n",
            "max2 (MaxPooling2D)             (None, 64, 16, 64)   0           activation_1[0][0]               \n",
            "__________________________________________________________________________________________________\n",
            "dropout (Dropout)               (None, 64, 16, 64)   0           max2[0][0]                       \n",
            "__________________________________________________________________________________________________\n",
            "conv3 (Conv2D)                  (None, 64, 16, 128)  73856       dropout[0][0]                    \n",
            "__________________________________________________________________________________________________\n",
            "batch_normalization_2 (BatchNor (None, 64, 16, 128)  512         conv3[0][0]                      \n",
            "__________________________________________________________________________________________________\n",
            "activation_2 (Activation)       (None, 64, 16, 128)  0           batch_normalization_2[0][0]      \n",
            "__________________________________________________________________________________________________\n",
            "max3 (MaxPooling2D)             (None, 64, 8, 128)   0           activation_2[0][0]               \n",
            "__________________________________________________________________________________________________\n",
            "dropout_1 (Dropout)             (None, 64, 8, 128)   0           max3[0][0]                       \n",
            "__________________________________________________________________________________________________\n",
            "reshape (Reshape)               (None, 64, 1024)     0           dropout_1[0][0]                  \n",
            "__________________________________________________________________________________________________\n",
            "dense1 (Dense)                  (None, 64, 64)       65600       reshape[0][0]                    \n",
            "__________________________________________________________________________________________________\n",
            "lstm1 (Bidirectional)           (None, 64, 512)      657408      dense1[0][0]                     \n",
            "__________________________________________________________________________________________________\n",
            "lstm2 (Bidirectional)           (None, 64, 512)      1574912     lstm1[0][0]                      \n",
            "__________________________________________________________________________________________________\n",
            "fc_12 (Dense)                   (None, 64, 40)       20520       lstm2[0][0]                      \n",
            "__________________________________________________________________________________________________\n",
            "labels (InputLayer)             [(None, 62)]         0                                            \n",
            "__________________________________________________________________________________________________\n",
            "lambda_4 (Lambda)               (None, 62, 40)       0           fc_12[0][0]                      \n",
            "__________________________________________________________________________________________________\n",
            "input_6 (InputLayer)            [(None, 1)]          0                                            \n",
            "__________________________________________________________________________________________________\n",
            "input_5 (InputLayer)            [(None, 1)]          0                                            \n",
            "__________________________________________________________________________________________________\n",
            "lambda_5 (Lambda)               (None, 1)            0           labels[0][0]                     \n",
            "                                                                 lambda_4[0][0]                   \n",
            "                                                                 input_6[0][0]                    \n",
            "                                                                 input_5[0][0]                    \n",
            "==================================================================================================\n",
            "Total params: 2,412,008\n",
            "Trainable params: 2,318,440\n",
            "Non-trainable params: 93,568\n",
            "__________________________________________________________________________________________________\n"
          ]
        }
      ],
      "source": [
        "training_model.summary()"
      ]
    },
    {
      "cell_type": "code",
      "execution_count": null,
      "metadata": {
        "execution": {
          "iopub.execute_input": "2023-03-20T10:46:29.700463Z",
          "iopub.status.busy": "2023-03-20T10:46:29.700125Z",
          "iopub.status.idle": "2023-03-20T10:46:29.715522Z",
          "shell.execute_reply": "2023-03-20T10:46:29.714396Z",
          "shell.execute_reply.started": "2023-03-20T10:46:29.700431Z"
        },
        "trusted": true,
        "id": "emlvWqqaqCzG"
      },
      "outputs": [],
      "source": [
        "# kwargs = {}\n",
        "# kwargs[\"optimizer\"] = Adam(lr = 0.0001) #\"RMSprop\" #Adam\n",
        "# kwargs[\"loss\"] = lambda _, y_pred: y_pred\n",
        "training_model.compile(loss=lambda _, y_pred: y_pred,optimizer=Adam(lr = 0.0001))"
      ]
    },
    {
      "cell_type": "code",
      "execution_count": null,
      "metadata": {
        "execution": {
          "iopub.execute_input": "2023-03-20T10:46:30.513824Z",
          "iopub.status.busy": "2023-03-20T10:46:30.513480Z",
          "iopub.status.idle": "2023-03-20T10:47:02.645771Z",
          "shell.execute_reply": "2023-03-20T10:47:02.644739Z",
          "shell.execute_reply.started": "2023-03-20T10:46:30.513792Z"
        },
        "trusted": true,
        "id": "VsmZGcvvqCzH",
        "outputId": "83d55f82-e45a-4ba3-990c-f98471cd79be"
      },
      "outputs": [
        {
          "name": "stdout",
          "output_type": "stream",
          "text": [
            "Epoch 1/8\n",
            "30/30 [==============================] - 4s 119ms/step - loss: 127.6380\n",
            "Epoch 2/8\n",
            "30/30 [==============================] - 4s 136ms/step - loss: 33.0746\n",
            "Epoch 3/8\n",
            "30/30 [==============================] - 4s 117ms/step - loss: 29.0888\n",
            "Epoch 4/8\n",
            "30/30 [==============================] - 4s 135ms/step - loss: 28.2281\n",
            "Epoch 5/8\n",
            "30/30 [==============================] - 4s 127ms/step - loss: 27.8501\n",
            "Epoch 6/8\n",
            "30/30 [==============================] - 4s 121ms/step - loss: 27.5950\n",
            "Epoch 7/8\n",
            "30/30 [==============================] - 4s 121ms/step - loss: 27.3758\n",
            "Epoch 8/8\n",
            "30/30 [==============================] - 4s 130ms/step - loss: 27.2014\n"
          ]
        },
        {
          "data": {
            "text/plain": [
              "<tensorflow.python.keras.callbacks.History at 0x7f6512a15990>"
            ]
          },
          "execution_count": 96,
          "metadata": {},
          "output_type": "execute_result"
        }
      ],
      "source": [
        "training_model.fit(dataset_train, epochs=8)#,verbose=1)"
      ]
    },
    {
      "cell_type": "code",
      "execution_count": null,
      "metadata": {
        "execution": {
          "iopub.execute_input": "2023-03-20T10:34:05.024878Z",
          "iopub.status.busy": "2023-03-20T10:34:05.024481Z",
          "iopub.status.idle": "2023-03-20T10:34:05.294447Z",
          "shell.execute_reply": "2023-03-20T10:34:05.293064Z",
          "shell.execute_reply.started": "2023-03-20T10:34:05.024842Z"
        },
        "trusted": true,
        "id": "a5XWps2nqCzH",
        "outputId": "5ef5648e-c3ed-44bd-c163-35ea8a1c8a90"
      },
      "outputs": [
        {
          "ename": "TypeError",
          "evalue": "'int' object is not subscriptable",
          "output_type": "error",
          "traceback": [
            "\u001b[0;31m---------------------------------------------------------------------------\u001b[0m",
            "\u001b[0;31mTypeError\u001b[0m                                 Traceback (most recent call last)",
            "\u001b[0;32m<ipython-input-66-49b103bef032>\u001b[0m in \u001b[0;36m<module>\u001b[0;34m\u001b[0m\n\u001b[0;32m----> 1\u001b[0;31m \u001b[0mplt\u001b[0m\u001b[0;34m.\u001b[0m\u001b[0mimshow\u001b[0m\u001b[0;34m(\u001b[0m\u001b[0mi\u001b[0m\u001b[0;34m[\u001b[0m\u001b[0;36m0\u001b[0m\u001b[0;34m]\u001b[0m\u001b[0;34m[\u001b[0m\u001b[0;36m0\u001b[0m\u001b[0;34m]\u001b[0m\u001b[0;34m[\u001b[0m\u001b[0;36m0\u001b[0m\u001b[0;34m,\u001b[0m\u001b[0;34m:\u001b[0m\u001b[0;34m,\u001b[0m\u001b[0;34m:\u001b[0m\u001b[0;34m,\u001b[0m\u001b[0;36m0\u001b[0m\u001b[0;34m]\u001b[0m\u001b[0;34m,\u001b[0m \u001b[0mcmap\u001b[0m\u001b[0;34m=\u001b[0m\u001b[0;34m'gray'\u001b[0m\u001b[0;34m)\u001b[0m\u001b[0;34m\u001b[0m\u001b[0;34m\u001b[0m\u001b[0m\n\u001b[0m",
            "\u001b[0;31mTypeError\u001b[0m: 'int' object is not subscriptable"
          ]
        }
      ],
      "source": [
        "plt.imshow(i[0][0][0,:,:,0], cmap='gray')"
      ]
    },
    {
      "cell_type": "code",
      "execution_count": null,
      "metadata": {
        "execution": {
          "iopub.execute_input": "2023-03-20T10:36:46.812390Z",
          "iopub.status.busy": "2023-03-20T10:36:46.812039Z",
          "iopub.status.idle": "2023-03-20T10:36:46.869884Z",
          "shell.execute_reply": "2023-03-20T10:36:46.868993Z",
          "shell.execute_reply.started": "2023-03-20T10:36:46.812356Z"
        },
        "trusted": true,
        "id": "N-9k4tjTqCzH",
        "outputId": "ea5ea055-08da-41ef-fe67-c4f43c2d3f10"
      },
      "outputs": [
        {
          "name": "stderr",
          "output_type": "stream",
          "text": [
            "/opt/conda/lib/python3.7/site-packages/tensorflow/python/data/ops/dataset_ops.py:3350: UserWarning: Even though the tf.config.experimental_run_functions_eagerly option is set, this option does not apply to tf.data functions. tf.data functions are still traced and executed as graphs.\n",
            "  \"Even though the tf.config.experimental_run_functions_eagerly \"\n"
          ]
        }
      ],
      "source": [
        "batch_size = 1\n",
        "\n",
        "dataset = tf.data.Dataset.from_generator(\n",
        "    lambda: image_generator_2(directory, test), (tf.float32, tf.float32)).map(data_joiner).batch(batch_size)\n",
        "\n",
        "dataset_test= dataset.map(lambda *x: (x[0:-1],x[-1]))"
      ]
    },
    {
      "cell_type": "code",
      "execution_count": null,
      "metadata": {
        "execution": {
          "iopub.execute_input": "2023-03-20T10:36:47.096673Z",
          "iopub.status.busy": "2023-03-20T10:36:47.096318Z",
          "iopub.status.idle": "2023-03-20T10:36:47.185852Z",
          "shell.execute_reply": "2023-03-20T10:36:47.184954Z",
          "shell.execute_reply.started": "2023-03-20T10:36:47.096635Z"
        },
        "trusted": true,
        "id": "o7VOeClmqCzI"
      },
      "outputs": [],
      "source": [
        "for smaple_test in dataset_test:\n",
        "#     print(smaple_test)\n",
        "    break"
      ]
    },
    {
      "cell_type": "code",
      "execution_count": null,
      "metadata": {
        "execution": {
          "iopub.execute_input": "2023-03-20T10:37:47.514927Z",
          "iopub.status.busy": "2023-03-20T10:37:47.514538Z",
          "iopub.status.idle": "2023-03-20T10:37:47.859292Z",
          "shell.execute_reply": "2023-03-20T10:37:47.858372Z",
          "shell.execute_reply.started": "2023-03-20T10:37:47.514891Z"
        },
        "trusted": true,
        "id": "7o-sVUZQqCzI",
        "outputId": "7672fbb3-862c-47b7-b000-375f0b66e64c"
      },
      "outputs": [
        {
          "data": {
            "text/plain": [
              "<matplotlib.image.AxesImage at 0x7f6513487fd0>"
            ]
          },
          "execution_count": 81,
          "metadata": {},
          "output_type": "execute_result"
        },
        {
          "data": {
            "image/png": "[encoded data removed]",
            "text/plain": [
              "<Figure size 432x288 with 1 Axes>"
            ]
          },
          "metadata": {
            "needs_background": "light"
          },
          "output_type": "display_data"
        }
      ],
      "source": [
        "# plt.imshow(smaple_test[0][0][0])\n",
        "# plt.plot(i[0][0][0,:,:,:])\n",
        "# plt.imshow(i[0][0][0])\n",
        "plt.imshow(smaple_test[0][0][0,:,:,0], cmap='gray')"
      ]
    },
    {
      "cell_type": "code",
      "execution_count": null,
      "metadata": {
        "id": "xWPjcdZlqCzI"
      },
      "outputs": [],
      "source": [
        "labels = []\n",
        "test_images = []\n",
        "for X,y in dataset_test:\n",
        "    test_images.append(X[0].numpy()[0])\n",
        "    labels.append(X[1])"
      ]
    },
    {
      "cell_type": "code",
      "execution_count": null,
      "metadata": {
        "execution": {
          "iopub.execute_input": "2023-03-20T10:48:48.561961Z",
          "iopub.status.busy": "2023-03-20T10:48:48.561554Z",
          "iopub.status.idle": "2023-03-20T10:48:53.791195Z",
          "shell.execute_reply": "2023-03-20T10:48:53.790250Z",
          "shell.execute_reply.started": "2023-03-20T10:48:48.561925Z"
        },
        "trusted": true,
        "id": "Y_p3ZEBuqCzJ"
      },
      "outputs": [],
      "source": [
        "preds = new_model.predict(dataset_test)\n",
        "\n",
        "preds = new_model.predict(valid_x)\n",
        "decoded = K.get_value(K.ctc_decode(preds, input_length=np.ones(preds.shape[0])*preds.shape[1],\n",
        "                                   greedy=True)[0][0])\n",
        "\n",
        "prediction = []\n",
        "for i in range(valid_size):\n",
        "    prediction.append(num_to_label(decoded[i]))"
      ]
    },
    {
      "cell_type": "code",
      "execution_count": null,
      "metadata": {
        "execution": {
          "iopub.execute_input": "2023-03-20T10:39:45.502132Z",
          "iopub.status.busy": "2023-03-20T10:39:45.501772Z",
          "iopub.status.idle": "2023-03-20T10:39:45.511902Z",
          "shell.execute_reply": "2023-03-20T10:39:45.510882Z",
          "shell.execute_reply.started": "2023-03-20T10:39:45.502100Z"
        },
        "trusted": true,
        "id": "u5G89JhUqCzJ"
      },
      "outputs": [],
      "source": [
        "decoded = K.get_value(K.ctc_decode(v, input_length=np.ones(v.shape[0])*v.shape[1],\n",
        "                                   greedy=True)[0][0])"
      ]
    },
    {
      "cell_type": "code",
      "execution_count": null,
      "metadata": {
        "execution": {
          "iopub.execute_input": "2023-03-20T10:50:50.538937Z",
          "iopub.status.busy": "2023-03-20T10:50:50.538547Z",
          "iopub.status.idle": "2023-03-20T10:50:50.546925Z",
          "shell.execute_reply": "2023-03-20T10:50:50.545877Z",
          "shell.execute_reply.started": "2023-03-20T10:50:50.538904Z"
        },
        "trusted": true,
        "id": "AfIAxJN3qCzJ",
        "outputId": "48ef3dcf-70be-42e2-fbab-76aa378dc39d"
      },
      "outputs": [
        {
          "data": {
            "text/plain": [
              "<TakeDataset shapes: ((<unknown>, (None, None), (None, 1), (None, 1)), (None, 1)), types: ((tf.float32, tf.float32, tf.int32, tf.int32), tf.int32)>"
            ]
          },
          "execution_count": 105,
          "metadata": {},
          "output_type": "execute_result"
        }
      ],
      "source": [
        "dataset_test.take(1)"
      ]
    },
    {
      "cell_type": "code",
      "execution_count": null,
      "metadata": {
        "execution": {
          "iopub.execute_input": "2023-03-18T13:06:10.360688Z",
          "iopub.status.busy": "2023-03-18T13:06:10.360307Z"
        },
        "trusted": true,
        "id": "Icz_ThIXqCzK"
      },
      "outputs": [],
      "source": [
        "preds = new_model.predict(test_images)"
      ]
    },
    {
      "cell_type": "code",
      "execution_count": null,
      "metadata": {
        "trusted": true,
        "id": "P-9pd7hYqCzK"
      },
      "outputs": [],
      "source": [
        "len(labels)"
      ]
    },
    {
      "cell_type": "code",
      "execution_count": null,
      "metadata": {
        "trusted": true,
        "id": "f5uTwax6qCzK"
      },
      "outputs": [],
      "source": [
        "preds.shape"
      ]
    },
    {
      "cell_type": "code",
      "execution_count": null,
      "metadata": {
        "trusted": true,
        "id": "sEeIowyQqCzK"
      },
      "outputs": [],
      "source": [
        "preds = new_model.predict(test_images)\n",
        "decoded = K.get_value(K.ctc_decode(preds, input_length=np.ones(preds.shape[0])*preds.shape[1],\n",
        "                                   greedy=True)[0][0])"
      ]
    },
    {
      "cell_type": "code",
      "execution_count": null,
      "metadata": {
        "trusted": true,
        "id": "aoNj2q2ZqCzL"
      },
      "outputs": [],
      "source": [
        "prediction = []\n",
        "for i in range(len()):\n",
        "    prediction.append(num_to_label(decoded[i]))"
      ]
    },
    {
      "cell_type": "markdown",
      "metadata": {
        "id": "AWKqFTdFqCzL"
      },
      "source": [
        "# bentch mark"
      ]
    },
    {
      "cell_type": "code",
      "execution_count": null,
      "metadata": {
        "trusted": true,
        "id": "KWmxGpgrqCzL"
      },
      "outputs": [],
      "source": [
        "y_true = test.loc[0:valid_size, 'IDENTITY']\n",
        "correct_char = 0\n",
        "total_char = 0\n",
        "correct = 0\n",
        "\n",
        "for x ,y in range(valid_size):\n",
        "    pr = prediction[i]\n",
        "    tr = y_true[i]\n",
        "    total_char += len(tr)\n",
        "\n",
        "    for j in range(min(len(tr), len(pr))):\n",
        "        if tr[j] == pr[j]:\n",
        "            correct_char += 1\n",
        "\n",
        "    if pr == tr :\n",
        "        correct += 1\n",
        "\n",
        "print('Correct characters predicted : %.2f%%' %(correct_char*100/total_char))\n",
        "print('Correct words predicted      : %.2f%%' %(correct*100/valid_size))"
      ]
    },
    {
      "cell_type": "code",
      "execution_count": null,
      "metadata": {
        "execution": {
          "iopub.execute_input": "2023-03-20T10:41:50.646569Z",
          "iopub.status.busy": "2023-03-20T10:41:50.646244Z",
          "iopub.status.idle": "2023-03-20T10:41:50.752096Z",
          "shell.execute_reply": "2023-03-20T10:41:50.751156Z",
          "shell.execute_reply.started": "2023-03-20T10:41:50.646539Z"
        },
        "trusted": true,
        "id": "HsPUWBBbqCzL"
      },
      "outputs": [],
      "source": [
        "import tensorflow as tf\n",
        "\n",
        "interpreter = tf.lite.Interpreter(model_path='/kaggle/input/keras-ocr/tflite/float16/2/2.tflite')\n"
      ]
    },
    {
      "cell_type": "code",
      "execution_count": null,
      "metadata": {
        "execution": {
          "iopub.execute_input": "2023-03-20T10:51:53.784304Z",
          "iopub.status.busy": "2023-03-20T10:51:53.783972Z",
          "iopub.status.idle": "2023-03-20T10:51:53.793065Z",
          "shell.execute_reply": "2023-03-20T10:51:53.791966Z",
          "shell.execute_reply.started": "2023-03-20T10:51:53.784271Z"
        },
        "trusted": true,
        "id": "RpNCSj0LqCzL",
        "outputId": "1f0c6734-ca3e-454b-bd05-873eb866fe8c"
      },
      "outputs": [
        {
          "data": {
            "text/plain": [
              "['__class__',\n",
              " '__del__',\n",
              " '__delattr__',\n",
              " '__dict__',\n",
              " '__dir__',\n",
              " '__doc__',\n",
              " '__eq__',\n",
              " '__format__',\n",
              " '__ge__',\n",
              " '__getattribute__',\n",
              " '__gt__',\n",
              " '__hash__',\n",
              " '__init__',\n",
              " '__init_subclass__',\n",
              " '__le__',\n",
              " '__lt__',\n",
              " '__module__',\n",
              " '__ne__',\n",
              " '__new__',\n",
              " '__reduce__',\n",
              " '__reduce_ex__',\n",
              " '__repr__',\n",
              " '__setattr__',\n",
              " '__sizeof__',\n",
              " '__str__',\n",
              " '__subclasshook__',\n",
              " '__weakref__',\n",
              " '_custom_op_registerers',\n",
              " '_delegates',\n",
              " '_ensure_safe',\n",
              " '_get_op_details',\n",
              " '_get_ops_details',\n",
              " '_get_tensor_details',\n",
              " '_interpreter',\n",
              " '_safe_to_run',\n",
              " '_tf_api_names',\n",
              " '_tf_api_names_v1',\n",
              " 'allocate_tensors',\n",
              " 'get_input_details',\n",
              " 'get_output_details',\n",
              " 'get_tensor',\n",
              " 'get_tensor_details',\n",
              " 'invoke',\n",
              " 'reset_all_variables',\n",
              " 'resize_tensor_input',\n",
              " 'set_tensor',\n",
              " 'tensor']"
            ]
          },
          "execution_count": 107,
          "metadata": {},
          "output_type": "execute_result"
        }
      ],
      "source": [
        "dir(interpreter)"
      ]
    },
    {
      "cell_type": "code",
      "execution_count": null,
      "metadata": {
        "execution": {
          "iopub.execute_input": "2023-03-20T10:52:12.280228Z",
          "iopub.status.busy": "2023-03-20T10:52:12.279879Z",
          "iopub.status.idle": "2023-03-20T10:52:12.286887Z",
          "shell.execute_reply": "2023-03-20T10:52:12.286014Z",
          "shell.execute_reply.started": "2023-03-20T10:52:12.280197Z"
        },
        "trusted": true,
        "id": "Dusws1AJqCzM",
        "outputId": "9faf2aaf-7638-4d1f-e760-d8ea63d1915a"
      },
      "outputs": [
        {
          "data": {
            "text/plain": [
              "[{'name': 'serving_default_input:0',\n",
              "  'index': 0,\n",
              "  'shape': array([  1,  31, 200,   1], dtype=int32),\n",
              "  'shape_signature': array([  1,  31, 200,   1], dtype=int32),\n",
              "  'dtype': numpy.float32,\n",
              "  'quantization': (0.0, 0),\n",
              "  'quantization_parameters': {'scales': array([], dtype=float32),\n",
              "   'zero_points': array([], dtype=int32),\n",
              "   'quantized_dimension': 0},\n",
              "  'sparsity_parameters': {}}]"
            ]
          },
          "execution_count": 108,
          "metadata": {},
          "output_type": "execute_result"
        }
      ],
      "source": [
        "interpreter.get_input_details()"
      ]
    },
    {
      "cell_type": "code",
      "execution_count": null,
      "metadata": {
        "execution": {
          "iopub.execute_input": "2023-03-20T10:56:09.781142Z",
          "iopub.status.busy": "2023-03-20T10:56:09.780739Z",
          "iopub.status.idle": "2023-03-20T10:56:09.785892Z",
          "shell.execute_reply": "2023-03-20T10:56:09.784847Z",
          "shell.execute_reply.started": "2023-03-20T10:56:09.781107Z"
        },
        "trusted": true,
        "id": "3LyHfMmVqCzM"
      },
      "outputs": [],
      "source": [
        "interpreter.allocate_tensors()  # Needed before execution!\n",
        "\n",
        "output = interpreter.get_output_details()[0]  # Model has single output.\n",
        "input = interpreter.get_input_details()[0]  # Model has single input.\n",
        "\n"
      ]
    },
    {
      "cell_type": "code",
      "execution_count": null,
      "metadata": {
        "execution": {
          "iopub.execute_input": "2023-03-20T11:02:00.213441Z",
          "iopub.status.busy": "2023-03-20T11:02:00.213118Z",
          "iopub.status.idle": "2023-03-20T11:02:00.237517Z",
          "shell.execute_reply": "2023-03-20T11:02:00.236709Z",
          "shell.execute_reply.started": "2023-03-20T11:02:00.213411Z"
        },
        "trusted": true,
        "id": "nQsqdmDiqCzM"
      },
      "outputs": [],
      "source": [
        "path = '/kaggle/input/car-plate-detection/images'\n",
        "test_example = test.iloc[0]\n",
        "# val['ocr'].split('-')[-1])\n",
        "# path = test_exaple\n",
        "img_dir = os.path.join(path, test_example['ocr'].split('-')[-1])\n",
        "image = cv2.imread(img_dir, cv2.IMREAD_ANYCOLOR)\n",
        "labels = test_example['transcription']\n",
        "\n",
        "for num, bbox in enumerate(json.loads(test_example['bbox'])):\n",
        "    cart_cord = yolo_to_abs(bbox)\n",
        "    crop_img = image[cart_cord['y1']:cart_cord['y2'],\n",
        "                     cart_cord['x1']:cart_cord['x2']]\n",
        "    process_img = preprocess_2(crop_img, width=200, height=31)\n",
        "#     process_img = cv2.rotate(process_img, cv2.ROTATE_90_CLOCKWISE)\n",
        "    process_img = cv2.cvtColor(process_img, cv2.COLOR_RGB2GRAY).astype(\"float32\")[..., np.newaxis]\n",
        "    process_img /=255\n"
      ]
    },
    {
      "cell_type": "code",
      "execution_count": null,
      "metadata": {
        "execution": {
          "iopub.execute_input": "2023-03-20T11:03:00.924080Z",
          "iopub.status.busy": "2023-03-20T11:03:00.923731Z",
          "iopub.status.idle": "2023-03-20T11:03:00.929145Z",
          "shell.execute_reply": "2023-03-20T11:03:00.928119Z",
          "shell.execute_reply.started": "2023-03-20T11:03:00.924050Z"
        },
        "trusted": true,
        "id": "07fmETceqCzM"
      },
      "outputs": [],
      "source": [
        "arr = process_img[np.newaxis, ...]"
      ]
    },
    {
      "cell_type": "code",
      "execution_count": null,
      "metadata": {
        "execution": {
          "iopub.execute_input": "2023-03-20T11:03:10.975664Z",
          "iopub.status.busy": "2023-03-20T11:03:10.975211Z",
          "iopub.status.idle": "2023-03-20T11:03:11.419579Z",
          "shell.execute_reply": "2023-03-20T11:03:11.418641Z",
          "shell.execute_reply.started": "2023-03-20T11:03:10.975586Z"
        },
        "trusted": true,
        "id": "XzV60GYeqCzN"
      },
      "outputs": [],
      "source": [
        "interpreter.set_tensor(input['index'], arr)\n",
        "interpreter.invoke()\n",
        "result = interpreter.get_tensor(output['index'])"
      ]
    },
    {
      "cell_type": "code",
      "execution_count": null,
      "metadata": {
        "execution": {
          "iopub.execute_input": "2023-03-20T11:05:06.363801Z",
          "iopub.status.busy": "2023-03-20T11:05:06.363449Z",
          "iopub.status.idle": "2023-03-20T11:05:06.369603Z",
          "shell.execute_reply": "2023-03-20T11:05:06.368663Z",
          "shell.execute_reply.started": "2023-03-20T11:05:06.363769Z"
        },
        "trusted": true,
        "id": "LZxXyIgzqCzN"
      },
      "outputs": [],
      "source": [
        "DEFAULT_ALPHABET = string.digits + string.ascii_lowercase\n",
        "def num_to_label(num):\n",
        "    ret = \"\"\n",
        "    for ch in num:\n",
        "        if ch == -1:  # CTC Blank\n",
        "            break\n",
        "        else:\n",
        "            ret+=DEFAULT_ALPHABET[ch]\n",
        "    return ret"
      ]
    },
    {
      "cell_type": "code",
      "execution_count": null,
      "metadata": {
        "execution": {
          "iopub.execute_input": "2023-03-20T11:05:21.753641Z",
          "iopub.status.busy": "2023-03-20T11:05:21.753300Z",
          "iopub.status.idle": "2023-03-20T11:05:21.761024Z",
          "shell.execute_reply": "2023-03-20T11:05:21.758858Z",
          "shell.execute_reply.started": "2023-03-20T11:05:21.753587Z"
        },
        "trusted": true,
        "id": "eldAzgqjqCzN",
        "outputId": "9fbdab65-3565-4da1-9929-73173cd13c1e"
      },
      "outputs": [
        {
          "data": {
            "text/plain": [
              "array([28, 17, 10, 20, 23, 11, 20, -1, -1, -1, -1, -1, -1, -1, -1, -1, -1,\n",
              "       -1, -1, -1, -1, -1, -1, -1, -1, -1, -1, -1, -1, -1, -1, -1, -1, -1,\n",
              "       -1, -1, -1, -1, -1, -1, -1, -1, -1, -1, -1, -1, -1, -1])"
            ]
          },
          "execution_count": 133,
          "metadata": {},
          "output_type": "execute_result"
        }
      ],
      "source": [
        "result[0]"
      ]
    },
    {
      "cell_type": "code",
      "execution_count": null,
      "metadata": {
        "execution": {
          "iopub.execute_input": "2023-03-20T11:05:26.361145Z",
          "iopub.status.busy": "2023-03-20T11:05:26.360819Z",
          "iopub.status.idle": "2023-03-20T11:05:26.370333Z",
          "shell.execute_reply": "2023-03-20T11:05:26.369251Z",
          "shell.execute_reply.started": "2023-03-20T11:05:26.361116Z"
        },
        "trusted": true,
        "id": "wpBmCXxqqCzO",
        "outputId": "2f566408-5465-4922-e826-83d55f59dd89"
      },
      "outputs": [
        {
          "data": {
            "text/plain": [
              "'shaknbk'"
            ]
          },
          "execution_count": 134,
          "metadata": {},
          "output_type": "execute_result"
        }
      ],
      "source": [
        "num_to_label(result[0])"
      ]
    },
    {
      "cell_type": "code",
      "execution_count": null,
      "metadata": {
        "execution": {
          "iopub.execute_input": "2023-03-20T11:05:40.827886Z",
          "iopub.status.busy": "2023-03-20T11:05:40.827535Z",
          "iopub.status.idle": "2023-03-20T11:05:40.833658Z",
          "shell.execute_reply": "2023-03-20T11:05:40.832692Z",
          "shell.execute_reply.started": "2023-03-20T11:05:40.827855Z"
        },
        "trusted": true,
        "id": "oKP7eQK6qCzO",
        "outputId": "b3a085c6-9750-4dc5-c425-5be1edbbf118"
      },
      "outputs": [
        {
          "data": {
            "text/plain": [
              "'SHAKNBK'"
            ]
          },
          "execution_count": 135,
          "metadata": {},
          "output_type": "execute_result"
        }
      ],
      "source": [
        "labels"
      ]
    },
    {
      "cell_type": "code",
      "execution_count": null,
      "metadata": {
        "id": "VpME1rkNqCzO"
      },
      "outputs": [],
      "source": []
    }
  ],
  "metadata": {
    "kernelspec": {
      "display_name": "VE",
      "language": "python",
      "name": "python3"
    },
    "language_info": {
      "codemirror_mode": {
        "name": "ipython",
        "version": 3
      },
      "file_extension": ".py",
      "mimetype": "text/x-python",
      "name": "python",
      "nbconvert_exporter": "python",
      "pygments_lexer": "ipython3",
      "version": "3.12.3"
    },
    "colab": {
      "provenance": [],
      "include_colab_link": true
    }
  },
  "nbformat": 4,
  "nbformat_minor": 0
}