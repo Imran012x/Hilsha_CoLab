{
  "cells": [
    {
      "cell_type": "code",
      "execution_count": 32,
      "metadata": {
        "colab": {
          "base_uri": "https://localhost:8080/"
        },
        "id": "T4y1q_gvLVA9",
        "outputId": "cb631ea4-26e5-4e28-9345-e7c7a8f22df2"
      },
      "outputs": [
        {
          "name": "stdout",
          "output_type": "stream",
          "text": [
            "Drive already mounted at /content/drive; to attempt to forcibly remount, call drive.mount(\"/content/drive\", force_remount=True).\n"
          ]
        }
      ],
      "source": [
        "from google.colab import drive\n",
        "drive.mount('/content/drive')"
      ]
    },
    {
      "cell_type": "code",
      "execution_count": 33,
      "metadata": {
        "id": "sWRbcqGBQGEd"
      },
      "outputs": [],
      "source": [
        "import zipfile\n",
        "import os\n",
        "\n",
        "with zipfile.ZipFile('/content/drive/MyDrive/data.zip', 'r') as zip_ref:\n",
        "    zip_ref.extractall('')\n",
        "# with zipfile.ZipFile('/content/drive/MyDrive/sardin.zip', 'r') as zip_ref:\n",
        "#     zip_ref.extractall('')\n",
        "# with zipfile.ZipFile('/content/drive/MyDrive/chandana.zip', 'r') as zip_ref:\n",
        "#     zip_ref.extractall('')"
      ]
    },
    {
      "cell_type": "markdown",
      "metadata": {
        "id": "MKIrkEC5zrjA"
      },
      "source": [
        "**Importing the Dependencies**"
      ]
    },
    {
      "cell_type": "code",
      "execution_count": 34,
      "metadata": {
        "id": "yEUQCcZPzlfo"
      },
      "outputs": [],
      "source": [
        "import os\n",
        "import numpy as np\n",
        "import matplotlib.pyplot as plt\n",
        "import matplotlib.image as mpimg\n",
        "import cv2\n",
        "from PIL import Image\n",
        "from sklearn.model_selection import train_test_split"
      ]
    },
    {
      "cell_type": "code",
      "execution_count": 35,
      "metadata": {
        "colab": {
          "base_uri": "https://localhost:8080/"
        },
        "id": "i4xGbBHq0PSo",
        "outputId": "d837e7a2-db2b-4df6-8031-cdd10d707667"
      },
      "outputs": [
        {
          "name": "stdout",
          "output_type": "stream",
          "text": [
            "['6373.webp', '5810.webp', '1162.webp', '3737.webp', '5992.webp']\n",
            "['3880.webp', '8808.webp', '131.webp', '8749.webp', '4243.webp']\n",
            "\n"
          ]
        }
      ],
      "source": [
        "Ilish_pic= os.listdir('ilish')\n",
        "print(Ilish_pic[0:5])\n",
        "print(Ilish_pic[-5:])\n",
        "\n",
        "print()"
      ]
    },
    {
      "cell_type": "code",
      "execution_count": 36,
      "metadata": {
        "id": "K_q6sypb0mqK"
      },
      "outputs": [],
      "source": [
        "Sardin_pic= os.listdir('sardin')"
      ]
    },
    {
      "cell_type": "code",
      "execution_count": 37,
      "metadata": {
        "id": "Y0FDUyLbOslx"
      },
      "outputs": [],
      "source": [
        "Chandana_pic= os.listdir('chandana')"
      ]
    },
    {
      "cell_type": "code",
      "execution_count": 38,
      "metadata": {
        "colab": {
          "base_uri": "https://localhost:8080/"
        },
        "id": "o5s8Mk350yqo",
        "outputId": "c68418e1-6dd0-4b86-9001-ad32e6612277"
      },
      "outputs": [
        {
          "name": "stdout",
          "output_type": "stream",
          "text": [
            "Ilish images: 10000\n",
            "Sardin images: 10000\n",
            "Chandana images: 10000\n"
          ]
        }
      ],
      "source": [
        "print('Ilish images:', len(Ilish_pic))\n",
        "print('Sardin images:', len(Sardin_pic))\n",
        "print('Chandana images:', len(Chandana_pic))"
      ]
    },
    {
      "cell_type": "markdown",
      "metadata": {
        "id": "fIEifMkE1Vr8"
      },
      "source": [
        "**Creating Labels for the two class of Images**"
      ]
    },
    {
      "cell_type": "markdown",
      "metadata": {
        "id": "VDqdbJ4I1c9z"
      },
      "source": [
        "Ilish  -->   0\n",
        "\n",
        "Sardin  -->  1\n",
        "\n",
        "Chandana --> 2"
      ]
    },
    {
      "cell_type": "code",
      "execution_count": 39,
      "metadata": {
        "id": "M2EK-RtI1FUS"
      },
      "outputs": [],
      "source": [
        "# create the labels\n",
        "\n",
        "Ilish_labels = [0]*10000\n",
        "\n",
        "Sardin_labels = [1]*10000\n",
        "\n",
        "Chandana_labels = [2]*10000"
      ]
    },
    {
      "cell_type": "code",
      "execution_count": 40,
      "metadata": {
        "colab": {
          "base_uri": "https://localhost:8080/"
        },
        "id": "xJTydgcb13Bc",
        "outputId": "31f19b2a-358f-4593-d153-ce82af02e4de"
      },
      "outputs": [
        {
          "name": "stdout",
          "output_type": "stream",
          "text": [
            "[0, 0, 0, 0, 0]\n",
            "[1, 1, 1, 1, 1]\n",
            "[2, 2, 2, 2, 2]\n"
          ]
        }
      ],
      "source": [
        "print(Ilish_labels[0:5])\n",
        "\n",
        "print(Sardin_labels[0:5])\n",
        "\n",
        "print(Chandana_labels[0:5])"
      ]
    },
    {
      "cell_type": "code",
      "execution_count": 41,
      "metadata": {
        "colab": {
          "base_uri": "https://localhost:8080/"
        },
        "id": "OrIbqLhV193_",
        "outputId": "5f68ced4-dcdb-4984-9074-f861cd9b3a49"
      },
      "outputs": [
        {
          "name": "stdout",
          "output_type": "stream",
          "text": [
            "10000\n",
            "10000\n",
            "10000\n"
          ]
        }
      ],
      "source": [
        "print(len(Ilish_labels))\n",
        "print(len(Sardin_labels))\n",
        "print(len(Chandana_labels))"
      ]
    },
    {
      "cell_type": "code",
      "execution_count": 42,
      "metadata": {
        "colab": {
          "base_uri": "https://localhost:8080/"
        },
        "id": "i7H-OSqA2HZ-",
        "outputId": "28c96b65-3ba6-4748-935c-fff3a6bef6f0"
      },
      "outputs": [
        {
          "name": "stdout",
          "output_type": "stream",
          "text": [
            "30000\n",
            "[0, 0, 0, 0, 0]\n",
            "[2, 2, 2, 2, 2]\n"
          ]
        }
      ],
      "source": [
        "labels = Ilish_labels + Sardin_labels + Chandana_labels\n",
        "\n",
        "print(len(labels))\n",
        "print(labels[0:5])\n",
        "print(labels[-5:])"
      ]
    },
    {
      "cell_type": "markdown",
      "metadata": {
        "id": "4OZz81JJ2d_r"
      },
      "source": [
        "**Displaying the Images**"
      ]
    },
    {
      "cell_type": "markdown",
      "metadata": {
        "id": "r6Q8CJBH3V21"
      },
      "source": [
        "**Image Processing**"
      ]
    },
    {
      "cell_type": "markdown",
      "metadata": {
        "id": "faTbplf63ZXB"
      },
      "source": [
        "1. Resize the Images\n",
        "\n",
        "2. Convert the images to numpy arrays"
      ]
    },
    {
      "cell_type": "code",
      "execution_count": 43,
      "metadata": {
        "id": "GjR7Vmg73MMj"
      },
      "outputs": [],
      "source": [
        "import numpy as np\n",
        "import random\n",
        "from PIL import Image\n",
        "\n",
        "# Parameters\n",
        "image_number = 10000  # Number of images to select from each type\n",
        "\n",
        "# Initialize the list to store the images\n",
        "data = []\n",
        "\n",
        "# Process ilish images\n",
        "ilish_path = 'ilish/'\n",
        "Ilish_pic = sorted(os.listdir(ilish_path))  # Make sure the images are in order\n",
        "random.shuffle(Ilish_pic)  # Shuffle images to get random ones\n",
        "for img_file in Ilish_pic[:image_number]:\n",
        "    image = Image.open(ilish_path + img_file)\n",
        "    image = image.resize((128, 128))\n",
        "    image = image.convert('RGB')\n",
        "    image = np.array(image)\n",
        "    data.append(image)\n",
        "\n",
        "# Process sardin images\n",
        "sardin_path = 'sardin/'\n",
        "Sardin_pic = sorted(os.listdir(sardin_path))  # Make sure the images are in order\n",
        "random.shuffle(Sardin_pic)  # Shuffle images to get random ones\n",
        "for img_file in Sardin_pic[:image_number]:\n",
        "    image = Image.open(sardin_path + img_file)\n",
        "    image = image.resize((128, 128))\n",
        "    image = image.convert('RGB')\n",
        "    image = np.array(image)\n",
        "    data.append(image)\n",
        "\n",
        "# Process chandana images\n",
        "chandana_path = 'chandana/'\n",
        "Chandana_pic = sorted(os.listdir(chandana_path))  # Make sure the images are in order\n",
        "random.shuffle(Chandana_pic)  # Shuffle images to get random ones\n",
        "for img_file in Chandana_pic[:image_number]:\n",
        "    image = Image.open(chandana_path + img_file)\n",
        "    image = image.resize((128, 128))\n",
        "    image = image.convert('RGB')\n",
        "    image = np.array(image)\n",
        "    data.append(image)\n",
        "\n",
        "# Now, `data` contains 4000 random images from each type, for a total of 12,000 images."
      ]
    },
    {
      "cell_type": "code",
      "execution_count": 44,
      "metadata": {
        "colab": {
          "base_uri": "https://localhost:8080/"
        },
        "id": "oME-1eWdetkl",
        "outputId": "f02c5927-f57f-4dde-8a50-cfaaa0da5ff0"
      },
      "outputs": [
        {
          "name": "stdout",
          "output_type": "stream",
          "text": [
            "Class counts: {0: 10000, 1: 10000, 2: 10000}\n"
          ]
        }
      ],
      "source": [
        "# Convert labels to numpy array for easy processing\n",
        "labels = np.array(labels)\n",
        "\n",
        "# Count the number of images in each class\n",
        "unique, counts = np.unique(labels, return_counts=True)\n",
        "\n",
        "# Print the number of images for each class\n",
        "class_counts = dict(zip(unique, counts))\n",
        "print(f\"Class counts: {class_counts}\")"
      ]
    },
    {
      "cell_type": "code",
      "execution_count": 45,
      "metadata": {
        "colab": {
          "base_uri": "https://localhost:8080/",
          "height": 167
        },
        "id": "CWlTCMb0Osl0",
        "outputId": "aee4ab96-3da4-4719-dd5b-f4cb24ecab9a"
      },
      "outputs": [
        {
          "data": {
            "text/html": [
              "<style>\n",
              "      .ndarray_repr .ndarray_raw_data {\n",
              "        display: none;\n",
              "      }\n",
              "      .ndarray_repr.show_array .ndarray_raw_data {\n",
              "        display: block;\n",
              "      }\n",
              "      .ndarray_repr.show_array .ndarray_image_preview {\n",
              "        display: none;\n",
              "      }\n",
              "      </style>\n",
              "      <div id=\"id-9b4aa12e-9b19-4a59-9357-22daf201c0ad\" class=\"ndarray_repr\"><pre>ndarray (128, 128, 3) <button style=\"padding: 0 2px;\">show data</button></pre><img src=\"data:image/png;base64,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\" class=\"ndarray_image_preview\" /><pre class=\"ndarray_raw_data\">array([[[159, 156, 151],\n",
              "        [164, 161, 156],\n",
              "        [153, 151, 146],\n",
              "        ...,\n",
              "        [158, 162, 161],\n",
              "        [155, 157, 154],\n",
              "        [140, 142, 139]],\n",
              "\n",
              "       [[161, 158, 153],\n",
              "        [150, 147, 142],\n",
              "        [153, 150, 145],\n",
              "        ...,\n",
              "        [163, 167, 166],\n",
              "        [166, 168, 165],\n",
              "        [164, 165, 162]],\n",
              "\n",
              "       [[150, 147, 140],\n",
              "        [153, 151, 146],\n",
              "        [150, 149, 144],\n",
              "        ...,\n",
              "        [167, 169, 168],\n",
              "        [153, 155, 151],\n",
              "        [152, 152, 148]],\n",
              "\n",
              "       ...,\n",
              "\n",
              "       [[183, 185, 182],\n",
              "        [188, 190, 187],\n",
              "        [194, 194, 192],\n",
              "        ...,\n",
              "        [114, 113, 108],\n",
              "        [116, 116, 110],\n",
              "        [109, 108, 104]],\n",
              "\n",
              "       [[180, 182, 179],\n",
              "        [181, 182, 179],\n",
              "        [185, 185, 183],\n",
              "        ...,\n",
              "        [125, 127, 122],\n",
              "        [110, 111, 106],\n",
              "        [121, 121, 116]],\n",
              "\n",
              "       [[174, 176, 173],\n",
              "        [178, 180, 177],\n",
              "        [177, 177, 175],\n",
              "        ...,\n",
              "        [117, 119, 116],\n",
              "        [125, 125, 123],\n",
              "        [126, 124, 120]]], dtype=uint8)</pre></div><script>\n",
              "      (() => {\n",
              "      const titles = ['show data', 'hide data'];\n",
              "      let index = 0\n",
              "      document.querySelector('#id-9b4aa12e-9b19-4a59-9357-22daf201c0ad button').onclick = (e) => {\n",
              "        document.querySelector('#id-9b4aa12e-9b19-4a59-9357-22daf201c0ad').classList.toggle('show_array');\n",
              "        index = (++index) % 2;\n",
              "        document.querySelector('#id-9b4aa12e-9b19-4a59-9357-22daf201c0ad button').textContent = titles[index];\n",
              "        e.preventDefault();\n",
              "        e.stopPropagation();\n",
              "      }\n",
              "      })();\n",
              "    </script>"
            ],
            "text/plain": [
              "array([[[159, 156, 151],\n",
              "        [164, 161, 156],\n",
              "        [153, 151, 146],\n",
              "        ...,\n",
              "        [158, 162, 161],\n",
              "        [155, 157, 154],\n",
              "        [140, 142, 139]],\n",
              "\n",
              "       [[161, 158, 153],\n",
              "        [150, 147, 142],\n",
              "        [153, 150, 145],\n",
              "        ...,\n",
              "        [163, 167, 166],\n",
              "        [166, 168, 165],\n",
              "        [164, 165, 162]],\n",
              "\n",
              "       [[150, 147, 140],\n",
              "        [153, 151, 146],\n",
              "        [150, 149, 144],\n",
              "        ...,\n",
              "        [167, 169, 168],\n",
              "        [153, 155, 151],\n",
              "        [152, 152, 148]],\n",
              "\n",
              "       ...,\n",
              "\n",
              "       [[183, 185, 182],\n",
              "        [188, 190, 187],\n",
              "        [194, 194, 192],\n",
              "        ...,\n",
              "        [114, 113, 108],\n",
              "        [116, 116, 110],\n",
              "        [109, 108, 104]],\n",
              "\n",
              "       [[180, 182, 179],\n",
              "        [181, 182, 179],\n",
              "        [185, 185, 183],\n",
              "        ...,\n",
              "        [125, 127, 122],\n",
              "        [110, 111, 106],\n",
              "        [121, 121, 116]],\n",
              "\n",
              "       [[174, 176, 173],\n",
              "        [178, 180, 177],\n",
              "        [177, 177, 175],\n",
              "        ...,\n",
              "        [117, 119, 116],\n",
              "        [125, 125, 123],\n",
              "        [126, 124, 120]]], dtype=uint8)"
            ]
          },
          "execution_count": 45,
          "metadata": {},
          "output_type": "execute_result"
        }
      ],
      "source": [
        "data[50]"
      ]
    },
    {
      "cell_type": "code",
      "execution_count": 46,
      "metadata": {
        "colab": {
          "base_uri": "https://localhost:8080/"
        },
        "id": "kL1ETkSK6Sxu",
        "outputId": "01882333-66fa-4876-cd10-0fc03634fb0d"
      },
      "outputs": [
        {
          "data": {
            "text/plain": [
              "list"
            ]
          },
          "execution_count": 46,
          "metadata": {},
          "output_type": "execute_result"
        }
      ],
      "source": [
        "type(data)"
      ]
    },
    {
      "cell_type": "code",
      "execution_count": 47,
      "metadata": {
        "colab": {
          "base_uri": "https://localhost:8080/"
        },
        "id": "dpgz_u2-6eQo",
        "outputId": "5e185a2e-8789-4acd-c01f-f5bdc21c21ba"
      },
      "outputs": [
        {
          "data": {
            "text/plain": [
              "30000"
            ]
          },
          "execution_count": 47,
          "metadata": {},
          "output_type": "execute_result"
        }
      ],
      "source": [
        "len(data)"
      ]
    },
    {
      "cell_type": "code",
      "execution_count": 48,
      "metadata": {
        "colab": {
          "base_uri": "https://localhost:8080/",
          "height": 167
        },
        "id": "4uD6dF1v6fsg",
        "outputId": "1c0860a6-ec4f-4b9b-c76b-e0d8ec618fef"
      },
      "outputs": [
        {
          "data": {
            "text/html": [
              "<style>\n",
              "      .ndarray_repr .ndarray_raw_data {\n",
              "        display: none;\n",
              "      }\n",
              "      .ndarray_repr.show_array .ndarray_raw_data {\n",
              "        display: block;\n",
              "      }\n",
              "      .ndarray_repr.show_array .ndarray_image_preview {\n",
              "        display: none;\n",
              "      }\n",
              "      </style>\n",
              "      <div id=\"id-d6d791d7-bb62-44a7-ad67-90c47e626320\" class=\"ndarray_repr\"><pre>ndarray (128, 128, 3) <button style=\"padding: 0 2px;\">show data</button></pre><img src=\"data:image/png;base64,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\" class=\"ndarray_image_preview\" /><pre class=\"ndarray_raw_data\">array([[[182, 184, 171],\n",
              "        [183, 185, 174],\n",
              "        [187, 188, 180],\n",
              "        ...,\n",
              "        [178, 178, 169],\n",
              "        [175, 175, 167],\n",
              "        [175, 177, 166]],\n",
              "\n",
              "       [[171, 174, 167],\n",
              "        [183, 186, 179],\n",
              "        [193, 196, 189],\n",
              "        ...,\n",
              "        [169, 170, 162],\n",
              "        [176, 177, 169],\n",
              "        [180, 182, 173]],\n",
              "\n",
              "       [[192, 194, 188],\n",
              "        [191, 197, 190],\n",
              "        [208, 213, 207],\n",
              "        ...,\n",
              "        [173, 174, 166],\n",
              "        [177, 178, 169],\n",
              "        [161, 163, 152]],\n",
              "\n",
              "       ...,\n",
              "\n",
              "       [[152, 152, 144],\n",
              "        [149, 150, 142],\n",
              "        [157, 158, 152],\n",
              "        ...,\n",
              "        [139, 140, 133],\n",
              "        [136, 137, 131],\n",
              "        [140, 141, 136]],\n",
              "\n",
              "       [[162, 164, 159],\n",
              "        [156, 157, 151],\n",
              "        [158, 159, 153],\n",
              "        ...,\n",
              "        [138, 138, 130],\n",
              "        [144, 145, 137],\n",
              "        [144, 144, 137]],\n",
              "\n",
              "       [[156, 157, 152],\n",
              "        [156, 157, 151],\n",
              "        [156, 159, 152],\n",
              "        ...,\n",
              "        [138, 141, 131],\n",
              "        [141, 144, 134],\n",
              "        [136, 138, 130]]], dtype=uint8)</pre></div><script>\n",
              "      (() => {\n",
              "      const titles = ['show data', 'hide data'];\n",
              "      let index = 0\n",
              "      document.querySelector('#id-d6d791d7-bb62-44a7-ad67-90c47e626320 button').onclick = (e) => {\n",
              "        document.querySelector('#id-d6d791d7-bb62-44a7-ad67-90c47e626320').classList.toggle('show_array');\n",
              "        index = (++index) % 2;\n",
              "        document.querySelector('#id-d6d791d7-bb62-44a7-ad67-90c47e626320 button').textContent = titles[index];\n",
              "        e.preventDefault();\n",
              "        e.stopPropagation();\n",
              "      }\n",
              "      })();\n",
              "    </script>"
            ],
            "text/plain": [
              "array([[[182, 184, 171],\n",
              "        [183, 185, 174],\n",
              "        [187, 188, 180],\n",
              "        ...,\n",
              "        [178, 178, 169],\n",
              "        [175, 175, 167],\n",
              "        [175, 177, 166]],\n",
              "\n",
              "       [[171, 174, 167],\n",
              "        [183, 186, 179],\n",
              "        [193, 196, 189],\n",
              "        ...,\n",
              "        [169, 170, 162],\n",
              "        [176, 177, 169],\n",
              "        [180, 182, 173]],\n",
              "\n",
              "       [[192, 194, 188],\n",
              "        [191, 197, 190],\n",
              "        [208, 213, 207],\n",
              "        ...,\n",
              "        [173, 174, 166],\n",
              "        [177, 178, 169],\n",
              "        [161, 163, 152]],\n",
              "\n",
              "       ...,\n",
              "\n",
              "       [[152, 152, 144],\n",
              "        [149, 150, 142],\n",
              "        [157, 158, 152],\n",
              "        ...,\n",
              "        [139, 140, 133],\n",
              "        [136, 137, 131],\n",
              "        [140, 141, 136]],\n",
              "\n",
              "       [[162, 164, 159],\n",
              "        [156, 157, 151],\n",
              "        [158, 159, 153],\n",
              "        ...,\n",
              "        [138, 138, 130],\n",
              "        [144, 145, 137],\n",
              "        [144, 144, 137]],\n",
              "\n",
              "       [[156, 157, 152],\n",
              "        [156, 157, 151],\n",
              "        [156, 159, 152],\n",
              "        ...,\n",
              "        [138, 141, 131],\n",
              "        [141, 144, 134],\n",
              "        [136, 138, 130]]], dtype=uint8)"
            ]
          },
          "execution_count": 48,
          "metadata": {},
          "output_type": "execute_result"
        }
      ],
      "source": [
        "data[0]"
      ]
    },
    {
      "cell_type": "code",
      "execution_count": 49,
      "metadata": {
        "colab": {
          "base_uri": "https://localhost:8080/"
        },
        "id": "HIyzW_yZ6k6m",
        "outputId": "d5c9a6a7-3072-4b4c-df50-f19cb3da1827"
      },
      "outputs": [
        {
          "data": {
            "text/plain": [
              "numpy.ndarray"
            ]
          },
          "execution_count": 49,
          "metadata": {},
          "output_type": "execute_result"
        }
      ],
      "source": [
        "type(data[0])"
      ]
    },
    {
      "cell_type": "code",
      "execution_count": 50,
      "metadata": {
        "colab": {
          "base_uri": "https://localhost:8080/"
        },
        "id": "iXoDEYCe6uhn",
        "outputId": "fbfac24b-1517-4468-ac9f-c584dc330767"
      },
      "outputs": [
        {
          "data": {
            "text/plain": [
              "(128, 128, 3)"
            ]
          },
          "execution_count": 50,
          "metadata": {},
          "output_type": "execute_result"
        }
      ],
      "source": [
        "data[0].shape"
      ]
    },
    {
      "cell_type": "code",
      "execution_count": 51,
      "metadata": {
        "id": "U8pYcWO16xqb"
      },
      "outputs": [],
      "source": [
        "# converting image list and label list to numpy arrays\n",
        "\n",
        "X = np.array(data)\n",
        "Y = np.array(labels)"
      ]
    },
    {
      "cell_type": "code",
      "execution_count": 52,
      "metadata": {
        "colab": {
          "base_uri": "https://localhost:8080/"
        },
        "id": "nOJumzSg7JD4",
        "outputId": "d147c861-fdba-44b0-b8e5-95e2d6e52ff6"
      },
      "outputs": [
        {
          "data": {
            "text/plain": [
              "numpy.ndarray"
            ]
          },
          "execution_count": 52,
          "metadata": {},
          "output_type": "execute_result"
        }
      ],
      "source": [
        "type(X)"
      ]
    },
    {
      "cell_type": "code",
      "execution_count": 53,
      "metadata": {
        "colab": {
          "base_uri": "https://localhost:8080/"
        },
        "id": "uSvCqSFv7J-7",
        "outputId": "1b9b9ef6-8819-4f88-9f3f-ebc50e248084"
      },
      "outputs": [
        {
          "data": {
            "text/plain": [
              "numpy.ndarray"
            ]
          },
          "execution_count": 53,
          "metadata": {},
          "output_type": "execute_result"
        }
      ],
      "source": [
        "type(Y)"
      ]
    },
    {
      "cell_type": "code",
      "execution_count": 54,
      "metadata": {
        "colab": {
          "base_uri": "https://localhost:8080/"
        },
        "id": "CFcmRmnx7Ns2",
        "outputId": "d708372c-cba3-4437-b1d4-a494a4c1617a"
      },
      "outputs": [
        {
          "name": "stdout",
          "output_type": "stream",
          "text": [
            "(30000, 128, 128, 3)\n",
            "(30000,)\n"
          ]
        }
      ],
      "source": [
        "print(X.shape)\n",
        "print(Y.shape)"
      ]
    },
    {
      "cell_type": "code",
      "execution_count": 55,
      "metadata": {
        "colab": {
          "base_uri": "https://localhost:8080/"
        },
        "id": "LB1Rap2X7R98",
        "outputId": "439a8375-b946-479e-efde-72b6cb3bf6fe"
      },
      "outputs": [
        {
          "name": "stdout",
          "output_type": "stream",
          "text": [
            "[0 0 0 ... 2 2 2]\n"
          ]
        }
      ],
      "source": [
        "print(Y)"
      ]
    },
    {
      "cell_type": "markdown",
      "metadata": {
        "id": "IZuq8fdc7e9x"
      },
      "source": [
        "**Train Test Split**"
      ]
    },
    {
      "cell_type": "code",
      "execution_count": 56,
      "metadata": {
        "id": "217vrhiO7c20"
      },
      "outputs": [],
      "source": [
        "X_train, X_test, Y_train, Y_test = train_test_split(X, Y, test_size=0.2, random_state=2)"
      ]
    },
    {
      "cell_type": "code",
      "execution_count": 57,
      "metadata": {
        "colab": {
          "base_uri": "https://localhost:8080/"
        },
        "id": "uCqTqdAB72zJ",
        "outputId": "ed4ed8fd-3830-4208-f47a-82d5ecc13b9a"
      },
      "outputs": [
        {
          "name": "stdout",
          "output_type": "stream",
          "text": [
            "(30000, 128, 128, 3) (24000, 128, 128, 3) (6000, 128, 128, 3)\n"
          ]
        }
      ],
      "source": [
        "print(X.shape, X_train.shape, X_test.shape)"
      ]
    },
    {
      "cell_type": "code",
      "execution_count": 58,
      "metadata": {
        "id": "tQ8cYmhL76lZ"
      },
      "outputs": [],
      "source": [
        "# scaling the data\n",
        "\n",
        "X_train_scaled = X_train/255\n",
        "\n",
        "X_test_scaled = X_test/255"
      ]
    },
    {
      "cell_type": "code",
      "execution_count": 59,
      "metadata": {
        "colab": {
          "base_uri": "https://localhost:8080/",
          "height": 167
        },
        "id": "yMjyiUVH8FeB",
        "outputId": "f37dff98-acac-4d4f-9278-e92d9f64a54f"
      },
      "outputs": [
        {
          "data": {
            "text/html": [
              "<style>\n",
              "      .ndarray_repr .ndarray_raw_data {\n",
              "        display: none;\n",
              "      }\n",
              "      .ndarray_repr.show_array .ndarray_raw_data {\n",
              "        display: block;\n",
              "      }\n",
              "      .ndarray_repr.show_array .ndarray_image_preview {\n",
              "        display: none;\n",
              "      }\n",
              "      </style>\n",
              "      <div id=\"id-b08f3247-8eba-40cd-9f32-6247625212c2\" class=\"ndarray_repr\"><pre>ndarray (128, 128, 3) <button style=\"padding: 0 2px;\">show data</button></pre><img src=\"data:image/png;base64,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\" class=\"ndarray_image_preview\" /><pre class=\"ndarray_raw_data\">array([[[215, 216, 221],\n",
              "        [215, 216, 221],\n",
              "        [215, 216, 222],\n",
              "        ...,\n",
              "        [205, 208, 212],\n",
              "        [203, 205, 210],\n",
              "        [203, 204, 209]],\n",
              "\n",
              "       [[214, 215, 221],\n",
              "        [214, 215, 220],\n",
              "        [215, 216, 221],\n",
              "        ...,\n",
              "        [204, 205, 210],\n",
              "        [200, 201, 206],\n",
              "        [198, 199, 204]],\n",
              "\n",
              "       [[215, 215, 221],\n",
              "        [214, 215, 221],\n",
              "        [215, 216, 221],\n",
              "        ...,\n",
              "        [203, 204, 209],\n",
              "        [202, 203, 208],\n",
              "        [199, 202, 207]],\n",
              "\n",
              "       ...,\n",
              "\n",
              "       [[186, 187, 192],\n",
              "        [185, 186, 191],\n",
              "        [185, 186, 191],\n",
              "        ...,\n",
              "        [179, 181, 187],\n",
              "        [181, 183, 189],\n",
              "        [180, 182, 189]],\n",
              "\n",
              "       [[186, 187, 193],\n",
              "        [186, 187, 192],\n",
              "        [186, 187, 192],\n",
              "        ...,\n",
              "        [179, 181, 187],\n",
              "        [180, 181, 187],\n",
              "        [179, 180, 187]],\n",
              "\n",
              "       [[188, 189, 194],\n",
              "        [188, 189, 194],\n",
              "        [187, 188, 193],\n",
              "        ...,\n",
              "        [178, 180, 185],\n",
              "        [178, 180, 185],\n",
              "        [177, 178, 185]]], dtype=uint8)</pre></div><script>\n",
              "      (() => {\n",
              "      const titles = ['show data', 'hide data'];\n",
              "      let index = 0\n",
              "      document.querySelector('#id-b08f3247-8eba-40cd-9f32-6247625212c2 button').onclick = (e) => {\n",
              "        document.querySelector('#id-b08f3247-8eba-40cd-9f32-6247625212c2').classList.toggle('show_array');\n",
              "        index = (++index) % 2;\n",
              "        document.querySelector('#id-b08f3247-8eba-40cd-9f32-6247625212c2 button').textContent = titles[index];\n",
              "        e.preventDefault();\n",
              "        e.stopPropagation();\n",
              "      }\n",
              "      })();\n",
              "    </script>"
            ],
            "text/plain": [
              "array([[[215, 216, 221],\n",
              "        [215, 216, 221],\n",
              "        [215, 216, 222],\n",
              "        ...,\n",
              "        [205, 208, 212],\n",
              "        [203, 205, 210],\n",
              "        [203, 204, 209]],\n",
              "\n",
              "       [[214, 215, 221],\n",
              "        [214, 215, 220],\n",
              "        [215, 216, 221],\n",
              "        ...,\n",
              "        [204, 205, 210],\n",
              "        [200, 201, 206],\n",
              "        [198, 199, 204]],\n",
              "\n",
              "       [[215, 215, 221],\n",
              "        [214, 215, 221],\n",
              "        [215, 216, 221],\n",
              "        ...,\n",
              "        [203, 204, 209],\n",
              "        [202, 203, 208],\n",
              "        [199, 202, 207]],\n",
              "\n",
              "       ...,\n",
              "\n",
              "       [[186, 187, 192],\n",
              "        [185, 186, 191],\n",
              "        [185, 186, 191],\n",
              "        ...,\n",
              "        [179, 181, 187],\n",
              "        [181, 183, 189],\n",
              "        [180, 182, 189]],\n",
              "\n",
              "       [[186, 187, 193],\n",
              "        [186, 187, 192],\n",
              "        [186, 187, 192],\n",
              "        ...,\n",
              "        [179, 181, 187],\n",
              "        [180, 181, 187],\n",
              "        [179, 180, 187]],\n",
              "\n",
              "       [[188, 189, 194],\n",
              "        [188, 189, 194],\n",
              "        [187, 188, 193],\n",
              "        ...,\n",
              "        [178, 180, 185],\n",
              "        [178, 180, 185],\n",
              "        [177, 178, 185]]], dtype=uint8)"
            ]
          },
          "execution_count": 59,
          "metadata": {},
          "output_type": "execute_result"
        }
      ],
      "source": [
        "X_train[0]"
      ]
    },
    {
      "cell_type": "markdown",
      "metadata": {},
      "source": [
        "#CNN"
      ]
    },
    {
      "cell_type": "code",
      "execution_count": null,
      "metadata": {},
      "outputs": [],
      "source": [
        "import numpy as np\n",
        "import matplotlib.pyplot as plt\n",
        "import tensorflow as tf\n",
        "from tensorflow.keras.models import Model, Sequential\n",
        "from tensorflow.keras.layers import Dense, Flatten, Conv2D, MaxPooling2D, Input\n",
        "from tensorflow.keras.optimizers import Adam\n",
        "from sklearn.model_selection import StratifiedKFold\n",
        "from sklearn.metrics import confusion_matrix, f1_score, accuracy_score\n",
        "import seaborn as sns\n",
        "\n",
        "# Function to display grid view of first image outputs\n",
        "def display_grid(images, rows, cols, title=\"Grid View of Conv Layer Outputs\"):\n",
        "    fig, axes = plt.subplots(rows, cols, figsize=(12, 8))\n",
        "    fig.suptitle(title, fontsize=16)\n",
        "    for i, ax in enumerate(axes.flat):\n",
        "        if i < len(images):\n",
        "            ax.imshow(images[i], cmap='viridis')\n",
        "            ax.axis('off')\n",
        "    plt.tight_layout()\n",
        "    plt.show()\n",
        "\n",
        "# Build a CNN model\n",
        "input_shape = (224, 224, 3)\n",
        "model = Sequential([\n",
        "    Conv2D(32, (3, 3), activation='relu', padding='same', input_shape=input_shape),\n",
        "    MaxPooling2D((2, 2)),\n",
        "    Conv2D(64, (3, 3), activation='relu', padding='same'),\n",
        "    MaxPooling2D((2, 2)),\n",
        "    Conv2D(128, (3, 3), activation='relu', padding='same'),\n",
        "    MaxPooling2D((2, 2)),\n",
        "    Flatten(),\n",
        "    Dense(256, activation='relu'),\n",
        "    Dense(len(np.unique(Y_train)), activation='softmax')\n",
        "])\n"
      ]
    },
    {
      "cell_type": "code",
      "execution_count": null,
      "metadata": {},
      "outputs": [],
      "source": [
        "\n",
        "# Compile the model\n",
        "model.compile(optimizer=Adam(learning_rate=0.001),\n",
        "              loss='sparse_categorical_crossentropy',\n",
        "              metrics=['accuracy'])\n",
        "\n",
        "# Stratified K-Fold Cross Validation\n",
        "skf = StratifiedKFold(n_splits=5, shuffle=True, random_state=42)\n",
        "kfold_results = []\n",
        "\n",
        "# Iterate through folds\n",
        "for fold, (train_idx, val_idx) in enumerate(skf.split(X_train_scaled, Y_train)):\n",
        "    print(f\"\\nStarting Fold {fold + 1}\")\n",
        "    X_train_fold, X_val_fold = X_train_scaled[train_idx], X_train_scaled[val_idx]\n",
        "    Y_train_fold, Y_val_fold = Y_train[train_idx], Y_train[val_idx]\n",
        "\n",
        "    # Train model\n",
        "    history = model.fit(X_train_fold, Y_train_fold,\n",
        "                        validation_data=(X_val_fold, Y_val_fold),\n",
        "                        epochs=1,  # Update epoch count as needed\n",
        "                        batch_size=32,\n",
        "                        verbose=1)\n",
        "\n",
        "    # Visualize the first image after each conv layer\n",
        "    first_image = X_train_scaled[0]\n",
        "    intermediate_model = Model(inputs=model.input, outputs=[layer.output for layer in model.layers if 'conv' in layer.name])\n",
        "    intermediate_outputs = intermediate_model.predict(np.expand_dims(first_image, axis=0))\n",
        "\n",
        "    images = [output[0, :, :, 0] for output in intermediate_outputs if len(output.shape) == 4]\n",
        "    display_grid(images, rows=2, cols=2, title=f\"Conv Layer Outputs for Fold {fold + 1}\")\n",
        "\n",
        "    # Evaluate the model on validation data\n",
        "    val_predictions = model.predict(X_val_fold)\n",
        "    val_predictions_classes = np.argmax(val_predictions, axis=1)\n",
        "\n",
        "    # Confusion matrix\n",
        "    cm = confusion_matrix(Y_val_fold, val_predictions_classes)\n",
        "    sns.heatmap(cm, annot=True, fmt='d', cmap='Blues')\n",
        "    plt.title(f\"Confusion Matrix for Fold {fold + 1}\")\n",
        "    plt.xlabel(\"Predicted\")\n",
        "    plt.ylabel(\"Actual\")\n",
        "    plt.show()\n",
        "\n",
        "    # F1 Score and Accuracy\n",
        "    f1 = f1_score(Y_val_fold, val_predictions_classes, average='weighted')\n",
        "    accuracy = accuracy_score(Y_val_fold, val_predictions_classes)\n",
        "    print(f\"Fold {fold + 1} - F1 Score: {f1:.4f}, Accuracy: {accuracy:.4f}\")\n",
        "\n",
        "    # Store results\n",
        "    kfold_results.append({\n",
        "        'fold': fold + 1,\n",
        "        'f1_score': f1,\n",
        "        'accuracy': accuracy,\n",
        "        'confusion_matrix': cm\n",
        "    })\n"
      ]
    },
    {
      "cell_type": "code",
      "execution_count": null,
      "metadata": {},
      "outputs": [],
      "source": [
        "\n",
        "# Aggregate K-Fold Results\n",
        "f1_scores = [result['f1_score'] for result in kfold_results]\n",
        "accuracies = [result['accuracy'] for result in kfold_results]\n",
        "confusion_matrices = [result['confusion_matrix'] for result in kfold_results]\n",
        "\n",
        "print(\"\\nK-Fold Cross Validation Results:\")\n",
        "print(f\"Average F1 Score: {np.mean(f1_scores):.4f} ± {np.std(f1_scores):.4f}\")\n",
        "print(f\"Average Accuracy: {np.mean(accuracies):.4f} ± {np.std(accuracies):.4f}\")\n"
      ]
    },
    {
      "cell_type": "code",
      "execution_count": null,
      "metadata": {},
      "outputs": [],
      "source": [
        "\n",
        "# Visualize average confusion matrix\n",
        "average_cm = np.mean(confusion_matrices, axis=0)\n",
        "plt.figure(figsize=(8, 6))\n",
        "sns.heatmap(average_cm, annot=True, fmt='.2f', cmap='Blues')\n",
        "plt.title(\"Average Confusion Matrix\")\n",
        "plt.xlabel(\"Predicted\")\n",
        "plt.ylabel(\"Actual\")\n",
        "plt.show()\n"
      ]
    },
    {
      "cell_type": "code",
      "execution_count": null,
      "metadata": {},
      "outputs": [],
      "source": [
        "\n",
        "# Plot F1 Score and Accuracy\n",
        "plt.figure(figsize=(12, 5))\n",
        "plt.subplot(1, 2, 1)\n",
        "plt.plot(range(1, len(f1_scores) + 1), f1_scores, marker='o', label='F1 Score')\n",
        "plt.title(\"F1 Scores per Fold\")\n",
        "plt.xlabel(\"Fold\")\n",
        "plt.ylabel(\"F1 Score\")\n",
        "plt.legend()\n",
        "\n",
        "plt.subplot(1, 2, 2)\n",
        "plt.plot(range(1, len(accuracies) + 1), accuracies, marker='o', label='Accuracy')\n",
        "plt.title(\"Accuracies per Fold\")\n",
        "plt.xlabel(\"Fold\")\n",
        "plt.ylabel(\"Accuracy\")\n",
        "plt.legend()\n",
        "\n",
        "plt.tight_layout()\n",
        "plt.show()\n"
      ]
    },
    {
      "cell_type": "markdown",
      "metadata": {},
      "source": [
        "#Resnet50"
      ]
    },
    {
      "cell_type": "code",
      "execution_count": null,
      "metadata": {},
      "outputs": [],
      "source": [
        "import numpy as np\n",
        "import matplotlib.pyplot as plt\n",
        "import tensorflow as tf\n",
        "from tensorflow.keras.applications import ResNet50\n",
        "from tensorflow.keras.models import Model\n",
        "from tensorflow.keras.layers import Dense, Flatten, GlobalAveragePooling2D\n",
        "from tensorflow.keras.optimizers import RMSprop\n",
        "from sklearn.model_selection import StratifiedKFold\n",
        "from sklearn.metrics import confusion_matrix, f1_score, accuracy_score\n",
        "import seaborn as sns\n",
        "\n",
        "# Function to display the first image\n",
        "def display_image(image, title=\"Image at Conv Layer\"):\n",
        "    plt.imshow(image.astype(\"uint8\"))\n",
        "    plt.title(title)\n",
        "    plt.axis(\"off\")\n",
        "    plt.show()\n",
        "\n",
        "# Initialize the ResNet model with transfer learning\n",
        "input_shape = (224, 224, 3)\n",
        "base_model = ResNet50(weights='imagenet', include_top=False, input_shape=input_shape)\n",
        "\n",
        "# Adding a custom head for classification\n",
        "x = base_model.output\n",
        "x = GlobalAveragePooling2D()(x)\n",
        "x = Dense(256, activation='relu')(x)\n",
        "output = Dense(len(np.unique(Y_train)), activation='softmax')(x)\n",
        "model = Model(inputs=base_model.input, outputs=output)\n",
        "\n",
        "# Freeze base model layers for transfer learning\n",
        "for layer in base_model.layers:\n",
        "    layer.trainable = False\n"
      ]
    },
    {
      "cell_type": "code",
      "execution_count": null,
      "metadata": {},
      "outputs": [],
      "source": [
        "\n",
        "# Compile the model\n",
        "model.compile(optimizer=RMSprop(learning_rate=0.001),\n",
        "              loss='sparse_categorical_crossentropy',\n",
        "              metrics=['accuracy'])\n",
        "\n",
        "# Stratified K-Fold Cross Validation\n",
        "skf = StratifiedKFold(n_splits=5, shuffle=True, random_state=42)\n",
        "kfold_results = []\n",
        "\n",
        "# Iterate through folds\n",
        "for fold, (train_idx, val_idx) in enumerate(skf.split(X_train_scaled, Y_train)):\n",
        "    print(f\"\\nStarting Fold {fold + 1}\")\n",
        "    X_train_fold, X_val_fold = X_train_scaled[train_idx], X_train_scaled[val_idx]\n",
        "    Y_train_fold, Y_val_fold = Y_train[train_idx], Y_train[val_idx]\n",
        "\n",
        "    # Train model\n",
        "    history = model.fit(X_train_fold, Y_train_fold,\n",
        "                        validation_data=(X_val_fold, Y_val_fold),\n",
        "                        epochs=1,  # Update epoch count as needed\n",
        "                        batch_size=32,\n",
        "                        verbose=1)\n",
        "\n",
        "    # Visualize the first image after each conv layer\n",
        "    first_image = X_train_scaled[0]\n",
        "    intermediate_model = Model(inputs=model.input, outputs=[layer.output for layer in base_model.layers if 'conv' in layer.name])\n",
        "    intermediate_outputs = intermediate_model.predict(np.expand_dims(first_image, axis=0))\n",
        "    \n",
        "    for i, output in enumerate(intermediate_outputs):\n",
        "        if len(output.shape) == 4:  # Ensure it's an image-like output\n",
        "            display_image(output[0, :, :, 0], title=f\"Output after Conv Layer {i + 1}\")\n",
        "\n",
        "\n",
        "    # Evaluate the model on validation data\n",
        "    val_predictions = model.predict(X_val_fold)\n",
        "    val_predictions_classes = np.argmax(val_predictions, axis=1)\n",
        "\n",
        "\n",
        "    # Confusion matrix\n",
        "    cm = confusion_matrix(Y_val_fold, val_predictions_classes)\n",
        "    sns.heatmap(cm, annot=True, fmt='d', cmap='Blues')\n",
        "    plt.title(f\"Confusion Matrix for Fold {fold + 1}\")\n",
        "    plt.xlabel(\"Predicted\")\n",
        "    plt.ylabel(\"Actual\")\n",
        "    plt.show()\n"
      ]
    },
    {
      "cell_type": "code",
      "execution_count": null,
      "metadata": {},
      "outputs": [],
      "source": [
        "\n",
        "# F1 Score and Accuracy\n",
        "f1 = f1_score(Y_val_fold, val_predictions_classes, average='weighted')\n",
        "accuracy = accuracy_score(Y_val_fold, val_predictions_classes)\n",
        "print(f\"Fold {fold + 1} - F1 Score: {f1:.4f}, Accuracy: {accuracy:.4f}\")\n",
        "\n",
        "# Store results\n",
        "kfold_results.append({\n",
        "    'fold': fold + 1,\n",
        "    'f1_score': f1,\n",
        "    'accuracy': accuracy,\n",
        "    'confusion_matrix': cm\n",
        "})\n"
      ]
    },
    {
      "cell_type": "code",
      "execution_count": null,
      "metadata": {},
      "outputs": [],
      "source": [
        "\n",
        "# Aggregate K-Fold Results\n",
        "f1_scores = [result['f1_score'] for result in kfold_results]\n",
        "accuracies = [result['accuracy'] for result in kfold_results]\n",
        "\n",
        "print(\"\\nK-Fold Cross Validation Results:\")\n",
        "print(f\"Average F1 Score: {np.mean(f1_scores):.4f} ± {np.std(f1_scores):.4f}\")\n",
        "print(f\"Average Accuracy: {np.mean(accuracies):.4f} ± {np.std(accuracies):.4f}\")"
      ]
    },
    {
      "cell_type": "code",
      "execution_count": null,
      "metadata": {},
      "outputs": [],
      "source": [
        "\n",
        "# Plot F1 Score and Accuracy\n",
        "plt.figure(figsize=(12, 5))\n",
        "plt.subplot(1, 2, 1)\n",
        "plt.plot(range(1, len(f1_scores) + 1), f1_scores, marker='o', label='F1 Score')\n",
        "plt.title(\"F1 Scores per Fold\")\n",
        "plt.xlabel(\"Fold\")\n",
        "plt.ylabel(\"F1 Score\")\n",
        "plt.legend()\n",
        "\n",
        "plt.subplot(1, 2, 2)\n",
        "plt.plot(range(1, len(accuracies) + 1), accuracies, marker='o', label='Accuracy')\n",
        "plt.title(\"Accuracies per Fold\")\n",
        "plt.xlabel(\"Fold\")\n",
        "plt.ylabel(\"Accuracy\")\n",
        "plt.legend()\n",
        "\n",
        "plt.tight_layout()\n",
        "plt.show()\n",
        "\n"
      ]
    },
    {
      "cell_type": "markdown",
      "metadata": {},
      "source": [
        "#K-Fold with Adam Optimizer"
      ]
    },
    {
      "cell_type": "code",
      "execution_count": null,
      "metadata": {},
      "outputs": [],
      "source": [
        "import numpy as np\n",
        "import matplotlib.pyplot as plt\n",
        "import tensorflow as tf\n",
        "from tensorflow.keras.applications import ResNet50\n",
        "from tensorflow.keras.models import Model\n",
        "from tensorflow.keras.layers import Dense, Flatten, GlobalAveragePooling2D, Conv2D, MaxPooling2D, Input\n",
        "from tensorflow.keras.optimizers import Adam\n",
        "from sklearn.model_selection import StratifiedKFold\n",
        "from sklearn.metrics import confusion_matrix, f1_score, accuracy_score\n",
        "import seaborn as sns\n",
        "\n",
        "# Function to display grid view of first image outputs\n",
        "def display_grid(images, rows, cols, title=\"Grid View of Conv Layer Outputs\"):\n",
        "    fig, axes = plt.subplots(rows, cols, figsize=(12, 8))\n",
        "    fig.suptitle(title, fontsize=16)\n",
        "    for i, ax in enumerate(axes.flat):\n",
        "        if i < len(images):\n",
        "            ax.imshow(images[i], cmap='viridis')\n",
        "            ax.axis('off')\n",
        "    plt.tight_layout()\n",
        "    plt.show()\n",
        "\n",
        "# Initialize the ResNet model with added CNN layers\n",
        "input_shape = (224, 224, 3)\n",
        "inputs = Input(shape=input_shape)\n",
        "\n",
        "# CNN layers before ResNet\n",
        "x = Conv2D(64, (3, 3), activation='relu', padding='same')(inputs)\n",
        "x = MaxPooling2D((2, 2))(x)\n",
        "x = Conv2D(128, (3, 3), activation='relu', padding='same')(x)\n",
        "x = MaxPooling2D((2, 2))(x)\n",
        "\n",
        "# ResNet base model\n",
        "base_model = ResNet50(weights='imagenet', include_top=False, input_tensor=x)\n",
        "\n",
        "# Custom classification head\n",
        "x = base_model.output\n",
        "x = GlobalAveragePooling2D()(x)\n",
        "x = Dense(256, activation='relu')(x)\n",
        "output = Dense(len(np.unique(Y_train)), activation='softmax')(x)\n",
        "model = Model(inputs=inputs, outputs=output)\n",
        "\n",
        "# Freeze base model layers for transfer learning\n",
        "for layer in base_model.layers:\n",
        "    layer.trainable = False\n"
      ]
    },
    {
      "cell_type": "code",
      "execution_count": null,
      "metadata": {},
      "outputs": [],
      "source": [
        "\n",
        "# Compile the model with Adam optimizer\n",
        "model.compile(optimizer=Adam(learning_rate=0.001),\n",
        "              loss='sparse_categorical_crossentropy',\n",
        "              metrics=['accuracy'])\n",
        "\n",
        "# Stratified K-Fold Cross Validation\n",
        "skf = StratifiedKFold(n_splits=5, shuffle=True, random_state=42)\n",
        "kfold_results = []\n",
        "\n",
        "# Iterate through folds\n",
        "for fold, (train_idx, val_idx) in enumerate(skf.split(X_train_scaled, Y_train)):\n",
        "    print(f\"\\nStarting Fold {fold + 1}\")\n",
        "    X_train_fold, X_val_fold = X_train_scaled[train_idx], X_train_scaled[val_idx]\n",
        "    Y_train_fold, Y_val_fold = Y_train[train_idx], Y_train[val_idx]\n",
        "\n",
        "    # Train model\n",
        "    history = model.fit(X_train_fold, Y_train_fold,\n",
        "                        validation_data=(X_val_fold, Y_val_fold),\n",
        "                        epochs=1,  # Update epoch count as needed\n",
        "                        batch_size=32,\n",
        "                        verbose=1)\n",
        "\n",
        "    # Visualize the first image after each conv layer\n",
        "    first_image = X_train_scaled[0]\n",
        "    intermediate_model = Model(inputs=model.input, outputs=[layer.output for layer in model.layers if 'conv' in layer.name])\n",
        "    intermediate_outputs = intermediate_model.predict(np.expand_dims(first_image, axis=0))\n",
        "\n",
        "    images = [output[0, :, :, 0] for output in intermediate_outputs if len(output.shape) == 4]\n",
        "    display_grid(images, rows=2, cols=2, title=f\"Conv Layer Outputs for Fold {fold + 1}\")\n",
        "\n",
        "\n",
        "    # Evaluate the model on validation data\n",
        "    val_predictions = model.predict(X_val_fold)\n",
        "    val_predictions_classes = np.argmax(val_predictions, axis=1)\n",
        "\n",
        "\n",
        "    # Confusion matrix\n",
        "    cm = confusion_matrix(Y_val_fold, val_predictions_classes)\n",
        "    sns.heatmap(cm, annot=True, fmt='d', cmap='Blues')\n",
        "    plt.title(f\"Confusion Matrix for Fold {fold + 1}\")\n",
        "    plt.xlabel(\"Predicted\")\n",
        "    plt.ylabel(\"Actual\")\n",
        "    plt.show()\n"
      ]
    },
    {
      "cell_type": "code",
      "execution_count": null,
      "metadata": {},
      "outputs": [],
      "source": [
        "\n",
        "# F1 Score and Accuracy\n",
        "f1 = f1_score(Y_val_fold, val_predictions_classes, average='weighted')\n",
        "accuracy = accuracy_score(Y_val_fold, val_predictions_classes)\n",
        "print(f\"Fold {fold + 1} - F1 Score: {f1:.4f}, Accuracy: {accuracy:.4f}\")\n",
        "\n",
        "# Store results\n",
        "kfold_results.append({\n",
        "    'fold': fold + 1,\n",
        "    'f1_score': f1,\n",
        "    'accuracy': accuracy,\n",
        "    'confusion_matrix': cm\n",
        "})\n"
      ]
    },
    {
      "cell_type": "code",
      "execution_count": null,
      "metadata": {},
      "outputs": [],
      "source": [
        "\n",
        "# Aggregate K-Fold Results\n",
        "f1_scores = [result['f1_score'] for result in kfold_results]\n",
        "accuracies = [result['accuracy'] for result in kfold_results]\n",
        "confusion_matrices = [result['confusion_matrix'] for result in kfold_results]\n",
        "\n",
        "print(\"\\nK-Fold Cross Validation Results:\")\n",
        "print(f\"Average F1 Score: {np.mean(f1_scores):.4f} ± {np.std(f1_scores):.4f}\")\n",
        "print(f\"Average Accuracy: {np.mean(accuracies):.4f} ± {np.std(accuracies):.4f}\")\n"
      ]
    },
    {
      "cell_type": "code",
      "execution_count": null,
      "metadata": {},
      "outputs": [],
      "source": [
        "\n",
        "# Visualize average confusion matrix\n",
        "average_cm = np.mean(confusion_matrices, axis=0)\n",
        "plt.figure(figsize=(8, 6))\n",
        "sns.heatmap(average_cm, annot=True, fmt='.2f', cmap='Blues')\n",
        "plt.title(\"Average Confusion Matrix\")\n",
        "plt.xlabel(\"Predicted\")\n",
        "plt.ylabel(\"Actual\")\n",
        "plt.show()\n"
      ]
    },
    {
      "cell_type": "code",
      "execution_count": null,
      "metadata": {},
      "outputs": [],
      "source": [
        "\n",
        "# Plot F1 Score and Accuracy\n",
        "plt.figure(figsize=(12, 5))\n",
        "plt.subplot(1, 2, 1)\n",
        "plt.plot(range(1, len(f1_scores) + 1), f1_scores, marker='o', label='F1 Score')\n",
        "plt.title(\"F1 Scores per Fold\")\n",
        "plt.xlabel(\"Fold\")\n",
        "plt.ylabel(\"F1 Score\")\n",
        "plt.legend()\n",
        "\n",
        "plt.subplot(1, 2, 2)\n",
        "plt.plot(range(1, len(accuracies) + 1), accuracies, marker='o', label='Accuracy')\n",
        "plt.title(\"Accuracies per Fold\")\n",
        "plt.xlabel(\"Fold\")\n",
        "plt.ylabel(\"Accuracy\")\n",
        "plt.legend()\n",
        "\n",
        "plt.tight_layout()\n",
        "plt.show()"
      ]
    },
    {
      "cell_type": "markdown",
      "metadata": {},
      "source": [
        "#EfficientNetB0"
      ]
    },
    {
      "cell_type": "code",
      "execution_count": null,
      "metadata": {},
      "outputs": [],
      "source": [
        "import numpy as np\n",
        "import matplotlib.pyplot as plt\n",
        "import tensorflow as tf\n",
        "from tensorflow.keras.applications import EfficientNetB0\n",
        "from tensorflow.keras.models import Model\n",
        "from tensorflow.keras.layers import Dense, Flatten, GlobalAveragePooling2D, Conv2D, MaxPooling2D, Input\n",
        "from tensorflow.keras.optimizers import Adam\n",
        "from sklearn.model_selection import StratifiedKFold\n",
        "from sklearn.metrics import confusion_matrix, f1_score, accuracy_score\n",
        "import seaborn as sns\n",
        "\n",
        "# Function to display grid view of first image outputs\n",
        "def display_grid(images, rows, cols, title=\"Grid View of Conv Layer Outputs\"):\n",
        "    fig, axes = plt.subplots(rows, cols, figsize=(12, 8))\n",
        "    fig.suptitle(title, fontsize=16)\n",
        "    for i, ax in enumerate(axes.flat):\n",
        "        if i < len(images):\n",
        "            ax.imshow(images[i], cmap='viridis')\n",
        "            ax.axis('off')\n",
        "    plt.tight_layout()\n",
        "    plt.show()\n",
        "\n",
        "# Initialize the EfficientNet model with added CNN layers\n",
        "input_shape = (224, 224, 3)\n",
        "inputs = Input(shape=input_shape)\n",
        "\n",
        "# CNN layers before EfficientNet\n",
        "x = Conv2D(64, (3, 3), activation='relu', padding='same')(inputs)\n",
        "x = MaxPooling2D((2, 2))(x)\n",
        "x = Conv2D(128, (3, 3), activation='relu', padding='same')(x)\n",
        "x = MaxPooling2D((2, 2))(x)\n",
        "\n",
        "# EfficientNet base model\n",
        "base_model = EfficientNetB0(weights='imagenet', include_top=False, input_tensor=x)\n",
        "\n",
        "# Custom classification head\n",
        "x = base_model.output\n",
        "x = GlobalAveragePooling2D()(x)\n",
        "x = Dense(256, activation='relu')(x)\n",
        "output = Dense(len(np.unique(Y_train)), activation='softmax')(x)\n",
        "model = Model(inputs=inputs, outputs=output)\n",
        "\n",
        "# Freeze base model layers for transfer learning\n",
        "for layer in base_model.layers:\n",
        "    layer.trainable = False\n"
      ]
    },
    {
      "cell_type": "code",
      "execution_count": null,
      "metadata": {},
      "outputs": [],
      "source": [
        "\n",
        "# Compile the model with Adam optimizer\n",
        "model.compile(optimizer=Adam(learning_rate=0.001),\n",
        "              loss='sparse_categorical_crossentropy',\n",
        "              metrics=['accuracy'])\n",
        "\n",
        "# Stratified K-Fold Cross Validation\n",
        "skf = StratifiedKFold(n_splits=5, shuffle=True, random_state=42)\n",
        "kfold_results = []\n",
        "\n",
        "# Iterate through folds\n",
        "for fold, (train_idx, val_idx) in enumerate(skf.split(X_train_scaled, Y_train)):\n",
        "    print(f\"\\nStarting Fold {fold + 1}\")\n",
        "    X_train_fold, X_val_fold = X_train_scaled[train_idx], X_train_scaled[val_idx]\n",
        "    Y_train_fold, Y_val_fold = Y_train[train_idx], Y_train[val_idx]\n",
        "\n",
        "    # Train model\n",
        "    history = model.fit(X_train_fold, Y_train_fold,\n",
        "                        validation_data=(X_val_fold, Y_val_fold),\n",
        "                        epochs=1,  # Update epoch count as needed\n",
        "                        batch_size=32,\n",
        "                        verbose=1)\n",
        "\n",
        "    # Visualize the first image after each conv layer\n",
        "    first_image = X_train_scaled[0]\n",
        "    intermediate_model = Model(inputs=model.input, outputs=[layer.output for layer in model.layers if 'conv' in layer.name])\n",
        "    intermediate_outputs = intermediate_model.predict(np.expand_dims(first_image, axis=0))\n",
        "\n",
        "    images = [output[0, :, :, 0] for output in intermediate_outputs if len(output.shape) == 4]\n",
        "    display_grid(images, rows=2, cols=2, title=f\"Conv Layer Outputs for Fold {fold + 1}\")\n",
        "\n",
        "    # Evaluate the model on validation data\n",
        "    val_predictions = model.predict(X_val_fold)\n",
        "    val_predictions_classes = np.argmax(val_predictions, axis=1)\n",
        "\n",
        "    # Confusion matrix\n",
        "    cm = confusion_matrix(Y_val_fold, val_predictions_classes)\n",
        "    sns.heatmap(cm, annot=True, fmt='d', cmap='Blues')\n",
        "    plt.title(f\"Confusion Matrix for Fold {fold + 1}\")\n",
        "    plt.xlabel(\"Predicted\")\n",
        "    plt.ylabel(\"Actual\")\n",
        "    plt.show()\n",
        "\n",
        "    # F1 Score and Accuracy\n",
        "    f1 = f1_score(Y_val_fold, val_predictions_classes, average='weighted')\n",
        "    accuracy = accuracy_score(Y_val_fold, val_predictions_classes)\n",
        "    print(f\"Fold {fold + 1} - F1 Score: {f1:.4f}, Accuracy: {accuracy:.4f}\")\n",
        "\n",
        "    # Store results\n",
        "    kfold_results.append({\n",
        "        'fold': fold + 1,\n",
        "        'f1_score': f1,\n",
        "        'accuracy': accuracy,\n",
        "        'confusion_matrix': cm\n",
        "    })\n"
      ]
    },
    {
      "cell_type": "code",
      "execution_count": null,
      "metadata": {},
      "outputs": [],
      "source": [
        "\n",
        "# Aggregate K-Fold Results\n",
        "f1_scores = [result['f1_score'] for result in kfold_results]\n",
        "accuracies = [result['accuracy'] for result in kfold_results]\n",
        "confusion_matrices = [result['confusion_matrix'] for result in kfold_results]\n",
        "\n",
        "print(\"\\nK-Fold Cross Validation Results:\")\n",
        "print(f\"Average F1 Score: {np.mean(f1_scores):.4f} ± {np.std(f1_scores):.4f}\")\n",
        "print(f\"Average Accuracy: {np.mean(accuracies):.4f} ± {np.std(accuracies):.4f}\")\n"
      ]
    },
    {
      "cell_type": "code",
      "execution_count": null,
      "metadata": {},
      "outputs": [],
      "source": [
        "\n",
        "# Visualize average confusion matrix\n",
        "average_cm = np.mean(confusion_matrices, axis=0)\n",
        "plt.figure(figsize=(8, 6))\n",
        "sns.heatmap(average_cm, annot=True, fmt='.2f', cmap='Blues')\n",
        "plt.title(\"Average Confusion Matrix\")\n",
        "plt.xlabel(\"Predicted\")\n",
        "plt.ylabel(\"Actual\")\n",
        "plt.show()\n"
      ]
    },
    {
      "cell_type": "code",
      "execution_count": null,
      "metadata": {},
      "outputs": [],
      "source": [
        "\n",
        "# Plot F1 Score and Accuracy\n",
        "plt.figure(figsize=(12, 5))\n",
        "plt.subplot(1, 2, 1)\n",
        "plt.plot(range(1, len(f1_scores) + 1), f1_scores, marker='o', label='F1 Score')\n",
        "plt.title(\"F1 Scores per Fold\")\n",
        "plt.xlabel(\"Fold\")\n",
        "plt.ylabel(\"F1 Score\")\n",
        "plt.legend()\n",
        "\n",
        "plt.subplot(1, 2, 2)\n",
        "plt.plot(range(1, len(accuracies) + 1), accuracies, marker='o', label='Accuracy')\n",
        "plt.title(\"Accuracies per Fold\")\n",
        "plt.xlabel(\"Fold\")\n",
        "plt.ylabel(\"Accuracy\")\n",
        "plt.legend()\n",
        "\n",
        "plt.tight_layout()\n",
        "plt.show()\n"
      ]
    },
    {
      "cell_type": "markdown",
      "metadata": {},
      "source": [
        "#End"
      ]
    }
  ],
  "metadata": {
    "accelerator": "GPU",
    "colab": {
      "gpuType": "A100",
      "machine_shape": "hm",
      "provenance": []
    },
    "kernelspec": {
      "display_name": "Python 3",
      "name": "python3"
    },
    "language_info": {
      "codemirror_mode": {
        "name": "ipython",
        "version": 3
      },
      "file_extension": ".py",
      "mimetype": "text/x-python",
      "name": "python",
      "nbconvert_exporter": "python",
      "pygments_lexer": "ipython3",
      "version": "3.12.3"
    }
  },
  "nbformat": 4,
  "nbformat_minor": 0
}
